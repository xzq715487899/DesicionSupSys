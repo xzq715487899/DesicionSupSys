{
 "cells": [
  {
   "cell_type": "markdown",
   "metadata": {
    "id": "rsLfOVcOtPSH"
   },
   "source": [
    "# Information Retrieval (IR) Lab"
   ]
  },
  {
   "cell_type": "markdown",
   "metadata": {
    "id": "Tkl3Xh-h2IBd"
   },
   "source": [
    "## Install, import modules and download dataset"
   ]
  },
  {
   "cell_type": "code",
   "execution_count": 1,
   "metadata": {
    "colab": {
     "base_uri": "https://localhost:8080/"
    },
    "id": "1iecxlriuhuA",
    "outputId": "d4e3ffdf-c5ae-4549-f0a0-0ded0519bc49"
   },
   "outputs": [
    {
     "name": "stdout",
     "output_type": "stream",
     "text": [
      "Looking in indexes: https://pypi.org/simple, https://us-python.pkg.dev/colab-wheels/public/simple/\n",
      "Collecting whoosh\n",
      "  Downloading Whoosh-2.7.4-py2.py3-none-any.whl (468 kB)\n",
      "\u001b[2K     \u001b[90m━━━━━━━━━━━━━━━━━━━━━━━━━━━━━━━━━━━━━━━\u001b[0m \u001b[32m468.8/468.8 KB\u001b[0m \u001b[31m6.8 MB/s\u001b[0m eta \u001b[36m0:00:00\u001b[0m\n",
      "\u001b[?25hInstalling collected packages: whoosh\n",
      "Successfully installed whoosh-2.7.4\n",
      "Looking in indexes: https://pypi.org/simple, https://us-python.pkg.dev/colab-wheels/public/simple/\n",
      "Collecting pytrec_eval\n",
      "  Downloading pytrec_eval-0.5.tar.gz (15 kB)\n",
      "  Preparing metadata (setup.py) ... \u001b[?25l\u001b[?25hdone\n",
      "Building wheels for collected packages: pytrec_eval\n",
      "  Building wheel for pytrec_eval (setup.py) ... \u001b[?25l\u001b[?25hdone\n",
      "  Created wheel for pytrec_eval: filename=pytrec_eval-0.5-cp38-cp38-linux_x86_64.whl size=300439 sha256=22332e1276983b2cc91e2eb05b1cd6801229a8e32249b6f8e63e777098bdec25\n",
      "  Stored in directory: /root/.cache/pip/wheels/65/5a/e7/115104a6d6ebacea7cbd7434fdba04bd06b6756820994a326e\n",
      "Successfully built pytrec_eval\n",
      "Installing collected packages: pytrec_eval\n",
      "Successfully installed pytrec_eval-0.5\n",
      "Looking in indexes: https://pypi.org/simple, https://us-python.pkg.dev/colab-wheels/public/simple/\n",
      "Collecting wget\n",
      "  Downloading wget-3.2.zip (10 kB)\n",
      "  Preparing metadata (setup.py) ... \u001b[?25l\u001b[?25hdone\n",
      "Building wheels for collected packages: wget\n",
      "  Building wheel for wget (setup.py) ... \u001b[?25l\u001b[?25hdone\n",
      "  Created wheel for wget: filename=wget-3.2-py3-none-any.whl size=9674 sha256=445d9971332c81d95306fd5a61cbbef098b96dada138e540a3e6fd200c7711d4\n",
      "  Stored in directory: /root/.cache/pip/wheels/bd/a8/c3/3cf2c14a1837a4e04bd98631724e81f33f462d86a1d895fae0\n",
      "Successfully built wget\n",
      "Installing collected packages: wget\n",
      "Successfully installed wget-3.2\n"
     ]
    }
   ],
   "source": [
    "!pip install whoosh\n",
    "!pip install pytrec_eval\n",
    "!pip install wget"
   ]
  },
  {
   "cell_type": "code",
   "execution_count": 2,
   "metadata": {
    "id": "MCAsbfkWtPSI"
   },
   "outputs": [],
   "source": [
    "from whoosh import index, writing\n",
    "from whoosh.fields import Schema, TEXT, KEYWORD, ID, STORED\n",
    "from whoosh.analysis import *\n",
    "from whoosh.qparser import QueryParser\n",
    "import os.path\n",
    "from pathlib import Path\n",
    "import tempfile\n",
    "import subprocess\n",
    "import pytrec_eval\n",
    "import wget\n",
    "import pandas as pd"
   ]
  },
  {
   "cell_type": "code",
   "execution_count": 3,
   "metadata": {
    "id": "Wainrob5xE7q"
   },
   "outputs": [],
   "source": [
    "filename = wget.download(\"https://github.com/MIE1513HS-2022/course-datasets/raw/main/lab-data.zip\", \"lab-data.zip\")"
   ]
  },
  {
   "cell_type": "code",
   "execution_count": 4,
   "metadata": {
    "colab": {
     "base_uri": "https://localhost:8080/"
    },
    "id": "dPAKDGnYu5F8",
    "outputId": "65556e93-50fe-4dd8-807b-8ab9077fea58"
   },
   "outputs": [
    {
     "name": "stdout",
     "output_type": "stream",
     "text": [
      "Archive:  lab-data.zip\n",
      "   creating: lab-data/\n",
      "  inflating: lab-data/air.topics     \n",
      "   creating: lab-data/documents/\n",
      "  inflating: lab-data/documents/email05  \n",
      "  inflating: lab-data/documents/email02  \n",
      "  inflating: lab-data/documents/email03  \n",
      "  inflating: lab-data/documents/email04  \n",
      "  inflating: lab-data/documents/email10  \n",
      "  inflating: lab-data/documents/email08  \n",
      "  inflating: lab-data/documents/email01  \n",
      "  inflating: lab-data/documents/email06  \n",
      "  inflating: lab-data/documents/email07  \n",
      "  inflating: lab-data/documents/email09  \n",
      "  inflating: lab-data/documents/email14  \n",
      "  inflating: lab-data/air.qrels      \n"
     ]
    }
   ],
   "source": [
    "!unzip lab-data.zip"
   ]
  },
  {
   "cell_type": "code",
   "execution_count": 5,
   "metadata": {
    "id": "1Hu7KjtPtPSL"
   },
   "outputs": [],
   "source": [
    "DATA_DIR = \"lab-data\"\n",
    "DOCUMENTS_DIR = os.path.join(DATA_DIR, \"documents\")\n",
    "TOPIC_FILE = os.path.join(DATA_DIR, \"air.topics\")\n",
    "QRELS_FILE = os.path.join(DATA_DIR, \"air.qrels\")"
   ]
  },
  {
   "cell_type": "markdown",
   "metadata": {
    "id": "kifl9NW4tPSO"
   },
   "source": [
    "## Part 1: Basic Indexing"
   ]
  },
  {
   "cell_type": "markdown",
   "metadata": {
    "id": "UMkIZH6wtPSP"
   },
   "source": [
    "### Creating the index"
   ]
  },
  {
   "cell_type": "markdown",
   "metadata": {
    "id": "LddgarTcFnGS"
   },
   "source": [
    "To begin using Whoosh, you need an index object. The first time you create an index, you must define the index’s schema. The schema lists the fields in the index. A field is a piece of information for each document in the index, such as its title or text content. A field can be indexed (meaning it can be searched) and/or stored (meaning the value that gets indexed is returned with the results; this is useful for fields such as the title).\n",
    "\n",
    "More information:\n",
    "https://whoosh.readthedocs.io/en/latest/schema.html?highlight=schema"
   ]
  },
  {
   "cell_type": "code",
   "execution_count": 6,
   "metadata": {
    "id": "AqMbeQ-otPSR"
   },
   "outputs": [],
   "source": [
    "def createIndex(schema):\n",
    "    # Generate a temporary directory for the index\n",
    "    indexDir = tempfile.mkdtemp()\n",
    "\n",
    "    # create and return the index\n",
    "    return index.create_in(indexDir, schema)"
   ]
  },
  {
   "cell_type": "code",
   "execution_count": 7,
   "metadata": {
    "id": "qFpIvO8NtPST"
   },
   "outputs": [],
   "source": [
    "# first, define a Schema for the index\n",
    "mySchema = Schema(file_path = ID(stored=True),\n",
    "                  file_content = TEXT(analyzer = RegexTokenizer()))\n",
    "\n",
    "# now, create the index at the path INDEX_DIR based on the new schema\n",
    "myIndex = createIndex(mySchema)"
   ]
  },
  {
   "cell_type": "markdown",
   "metadata": {
    "id": "COQ5Pn_ntPSW"
   },
   "source": [
    "### Indexing the documents"
   ]
  },
  {
   "cell_type": "code",
   "execution_count": 8,
   "metadata": {
    "id": "pBBnPXM0tPSW"
   },
   "outputs": [],
   "source": [
    "def addFilesToIndex(indexObj, fileList):\n",
    "    # open writer\n",
    "    writer = writing.BufferedWriter(indexObj, period=None, limit=1000)\n",
    "\n",
    "    try:\n",
    "        # write each file to index\n",
    "        for docNum, filePath in enumerate(fileList):\n",
    "            with open(filePath, \"r\", encoding=\"utf-8\") as f:\n",
    "                fileContent = f.read()\n",
    "                writer.add_document(file_path = filePath,\n",
    "                                    file_content = fileContent)\n",
    "\n",
    "                # print status every 1000 documents\n",
    "                if (docNum+1) % 1000 == 0:\n",
    "                    print(\"already indexed:\", docNum+1)\n",
    "        print(\"done indexing.\")\n",
    "\n",
    "    finally:\n",
    "        # close the index\n",
    "        writer.close()"
   ]
  },
  {
   "cell_type": "code",
   "execution_count": 9,
   "metadata": {
    "id": "a60nMMFAtPSZ"
   },
   "outputs": [],
   "source": [
    "# Build a list of files to index\n",
    "filesToIndex = [str(filePath) for filePath in Path(DOCUMENTS_DIR).glob(\"**/*\") if filePath.is_file()]"
   ]
  },
  {
   "cell_type": "code",
   "execution_count": 10,
   "metadata": {
    "colab": {
     "base_uri": "https://localhost:8080/"
    },
    "id": "ipB2OTnbtPSb",
    "outputId": "f7d0f9c1-d45c-4609-e213-e2634c788354"
   },
   "outputs": [
    {
     "data": {
      "text/plain": [
       "['lab-data/documents/email02',\n",
       " 'lab-data/documents/email08',\n",
       " 'lab-data/documents/email03',\n",
       " 'lab-data/documents/email14',\n",
       " 'lab-data/documents/email07']"
      ]
     },
     "execution_count": 10,
     "metadata": {},
     "output_type": "execute_result"
    }
   ],
   "source": [
    "# Check the list\n",
    "filesToIndex[:5]"
   ]
  },
  {
   "cell_type": "code",
   "execution_count": 11,
   "metadata": {
    "colab": {
     "base_uri": "https://localhost:8080/"
    },
    "id": "2DfEVecutPSd",
    "outputId": "366281d3-eee9-4b4b-8440-c6e5a399f91d"
   },
   "outputs": [
    {
     "name": "stdout",
     "output_type": "stream",
     "text": [
      "number of files: 11\n"
     ]
    }
   ],
   "source": [
    "# count files to index\n",
    "print(\"number of files:\", len(filesToIndex))"
   ]
  },
  {
   "cell_type": "code",
   "execution_count": 12,
   "metadata": {
    "colab": {
     "base_uri": "https://localhost:8080/"
    },
    "id": "sGbkPnCxtPSh",
    "outputId": "ccdccde8-7dd5-46c7-cd73-16fb5a8703e2"
   },
   "outputs": [
    {
     "name": "stdout",
     "output_type": "stream",
     "text": [
      "done indexing.\n"
     ]
    }
   ],
   "source": [
    "addFilesToIndex(myIndex, filesToIndex)"
   ]
  },
  {
   "cell_type": "markdown",
   "metadata": {
    "id": "e4w4Xs8htPSm"
   },
   "source": [
    "### Querying"
   ]
  },
  {
   "cell_type": "markdown",
   "metadata": {
    "id": "kvvTIO9BJAF5"
   },
   "source": [
    "More information: https://whoosh.readthedocs.io/en/latest/api/qparser.html?highlight=queryparser\n",
    "\n",
    "Try with `duck`, `ducks`, `Duck`, `Ducks`"
   ]
  },
  {
   "cell_type": "code",
   "execution_count": 13,
   "metadata": {
    "id": "r-myzyp8tPSn"
   },
   "outputs": [],
   "source": [
    "# define a query parser for the field \"file_content\" in the index\n",
    "myQueryParser = QueryParser(\"file_content\", schema=myIndex.schema)\n",
    "mySearcher = myIndex.searcher()"
   ]
  },
  {
   "cell_type": "code",
   "execution_count": 14,
   "metadata": {
    "id": "_x9Bm1F4tPSr"
   },
   "outputs": [],
   "source": [
    "# run a sample query for the phrase \"item\"\n",
    "sampleQuery = myQueryParser.parse(\"duck\")\n",
    "sampleQueryResults = mySearcher.search(sampleQuery, limit=None)"
   ]
  },
  {
   "cell_type": "code",
   "execution_count": 15,
   "metadata": {
    "colab": {
     "base_uri": "https://localhost:8080/"
    },
    "id": "vE0g4G9ZJbdY",
    "outputId": "305f6eb0-83ac-48bb-9da3-a03bc562743b"
   },
   "outputs": [
    {
     "data": {
      "text/plain": [
       "Term('file_content', 'duck')"
      ]
     },
     "execution_count": 15,
     "metadata": {},
     "output_type": "execute_result"
    }
   ],
   "source": [
    "sampleQuery"
   ]
  },
  {
   "cell_type": "code",
   "execution_count": 16,
   "metadata": {
    "colab": {
     "base_uri": "https://localhost:8080/"
    },
    "id": "pSZobtNCJpvE",
    "outputId": "651b3b20-fd17-49e8-b337-8108e17175f4"
   },
   "outputs": [
    {
     "data": {
      "text/plain": [
       "<Top 2 Results for Term('file_content', 'duck') runtime=0.000445071999990887>"
      ]
     },
     "execution_count": 16,
     "metadata": {},
     "output_type": "execute_result"
    }
   ],
   "source": [
    "sampleQueryResults"
   ]
  },
  {
   "cell_type": "code",
   "execution_count": 17,
   "metadata": {
    "colab": {
     "base_uri": "https://localhost:8080/"
    },
    "id": "TtHIowDvJorC",
    "outputId": "d99b2879-9c3a-409e-e0cb-5b06f85f3963"
   },
   "outputs": [
    {
     "name": "stdout",
     "output_type": "stream",
     "text": [
      "email06 0 3.8267972898082365\n",
      "email04 1 2.2736898161091434\n"
     ]
    }
   ],
   "source": [
    "# inspect the result:\n",
    "# for each document print the rank and the score\n",
    "for (docnum, result) in enumerate(sampleQueryResults):\n",
    "    score = sampleQueryResults.score(docnum)\n",
    "    fileName = os.path.basename(result[\"file_path\"])\n",
    "    print(fileName, docnum, score)"
   ]
  },
  {
   "cell_type": "markdown",
   "metadata": {
    "id": "0x_bQc2m78t1"
   },
   "source": [
    "By default, the search engine scores search result using `BM25F` function, which implements BM25 search scoring algorithm. This part is not required in this lab nor the assignment. \n",
    "\n",
    "[Here](https://www.elastic.co/blog/practical-bm25-part-2-the-bm25-algorithm-and-its-variables) are descriptions of BM25. Some other scoring algorithms supported by Whoosh can also be found [here](https://whoosh.readthedocs.io/en/latest/api/scoring.html#scoring-algorithm-classes).\n"
   ]
  },
  {
   "cell_type": "code",
   "execution_count": 18,
   "metadata": {
    "colab": {
     "base_uri": "https://localhost:8080/"
    },
    "id": "L7QpmeA77ot9",
    "outputId": "cbb1d7b6-cb2b-464c-ecd6-71ec24acfa9a"
   },
   "outputs": [
    {
     "data": {
      "text/plain": [
       "<whoosh.scoring.BM25F at 0x7f2ca4e405e0>"
      ]
     },
     "execution_count": 18,
     "metadata": {},
     "output_type": "execute_result"
    }
   ],
   "source": [
    "mySearcher.weighting"
   ]
  },
  {
   "cell_type": "markdown",
   "metadata": {
    "id": "u6LqtfpJtPSt"
   },
   "source": [
    "### Evaluation using TREC_EVAL\n",
    "In order to evaluate our results we will use a topic file - a list of topics we use to evaluate our IR system"
   ]
  },
  {
   "cell_type": "code",
   "execution_count": 19,
   "metadata": {
    "colab": {
     "base_uri": "https://localhost:8080/"
    },
    "id": "SphLDVwKtPSt",
    "outputId": "94f785d0-c721-4ca8-9e4c-6257e93bc23c"
   },
   "outputs": [
    {
     "name": "stdout",
     "output_type": "stream",
     "text": [
      "01 ducks\n",
      "02 ig nobel prizes\n",
      "03 mathematics\n",
      "04 flowing hair\n",
      "05 music\n",
      "06 AIR TV\n",
      "\n"
     ]
    }
   ],
   "source": [
    "# print the topic file\n",
    "with open(TOPIC_FILE, \"r\") as f:\n",
    "    print(f.read())"
   ]
  },
  {
   "cell_type": "markdown",
   "metadata": {
    "id": "Q_OU8GB7tPSw"
   },
   "source": [
    "We will compare and evaluate our results with a set of judged results(qrels file) using TREC_EVAL "
   ]
  },
  {
   "cell_type": "code",
   "execution_count": 20,
   "metadata": {
    "colab": {
     "base_uri": "https://localhost:8080/"
    },
    "id": "d7Y-OiZltPSw",
    "outputId": "38fbc624-cf38-4968-a8a9-9db11ec6822c"
   },
   "outputs": [
    {
     "name": "stdout",
     "output_type": "stream",
     "text": [
      "01 0 email01 0\n",
      "01 0 email02 0\n",
      "01 0 email03 0\n",
      "01 0 email04 1\n",
      "01 0 email05 1\n",
      "01 0 email06 1\n",
      "01 0 email07 0\n",
      "01 0 email08 0\n",
      "01 0 email09 0\n",
      "01 0 email10 0\n",
      "\n"
     ]
    }
   ],
   "source": [
    "# print the first 10 lines in the qrels file\n",
    "with open(QRELS_FILE, \"r\") as f:\n",
    "    qrels10 = f.readlines()[:10]\n",
    "    print(\"\".join(qrels10))"
   ]
  },
  {
   "cell_type": "markdown",
   "metadata": {
    "id": "5WQrUM9htPSz"
   },
   "source": [
    "The follwing function takes a topic file, a qrels file, a query parser and a searcher and use pytrec_eval to compare our results with the provided qrels file (see assignment PDF for more details)"
   ]
  },
  {
   "cell_type": "code",
   "execution_count": 21,
   "metadata": {
    "id": "jOl24QqnRvQY"
   },
   "outputs": [],
   "source": [
    "def pyTrecEval(topicFile, qrelsFile, queryParser, searcher):\n",
    "    # Load topic file - a list of topics(search phrases) used for evalutation\n",
    "    with open(topicFile, \"r\") as tf:\n",
    "        topics = tf.read().splitlines()\n",
    "\n",
    "    # create an output file to which we'll write our results\n",
    "    tempOutputFile = tempfile.mkstemp()[1]\n",
    "    with open(tempOutputFile, \"w\") as outputTRECFile:\n",
    "        # for each evaluated topic:\n",
    "        # build a query and record the results in the file in TREC_EVAL format\n",
    "        for topic in topics:\n",
    "            topic_id, topic_phrase = tuple(topic.split(\" \", 1))\n",
    "            #print(topic_id, topic_phrase)\n",
    "            topicQuery = queryParser.parse(topic_phrase)\n",
    "            topicResults = searcher.search(topicQuery, limit=None)\n",
    "            for (docnum, result) in enumerate(topicResults):\n",
    "                score = topicResults.score(docnum)\n",
    "                #print(\"%s Q0 %s %d %lf test\\n\" % (topic_id, os.path.basename(result[\"file_path\"]), docnum, score))\n",
    "                outputTRECFile.write(\"%s Q0 %s %d %lf test\\n\" % (topic_id, os.path.basename(result[\"file_path\"]), docnum, score))\n",
    "    with open(qrelsFile, 'r') as f_qrel:\n",
    "        qrel = pytrec_eval.parse_qrel(f_qrel)\n",
    "\n",
    "    with open(tempOutputFile, 'r') as f_run:\n",
    "        run = pytrec_eval.parse_run(f_run)\n",
    "\n",
    "    evaluator = pytrec_eval.RelevanceEvaluator(\n",
    "        qrel, pytrec_eval.supported_measures)\n",
    "\n",
    "    results = evaluator.evaluate(run)\n",
    "    def print_line(measure, scope, value):\n",
    "        print('{:25s}{:8s}{:.4f}'.format(measure, scope, value))\n",
    "\n",
    "    measures = []\n",
    "    query_ids = []\n",
    "    values = []\n",
    "    for query_id, query_measures in results.items():\n",
    "        for measure, value in query_measures.items():\n",
    "            if measure == \"runid\":\n",
    "              continue\n",
    "            measures.append(measure)\n",
    "            query_ids.append(query_id)\n",
    "            values.append(value)\n",
    "            # print_line(measure, query_id, value)\n",
    "    for measure in query_measures.keys():\n",
    "        if measure == \"runid\":\n",
    "              continue\n",
    "        value = pytrec_eval.compute_aggregated_measure(\n",
    "                measure,\n",
    "                [query_measures[measure]\n",
    "                 for query_measures in results.values()])\n",
    "        measures.append(measure)\n",
    "        query_ids.append(\"all\")\n",
    "        values.append(value)\n",
    "        # print_line(\n",
    "        #     measure,\n",
    "        #     'all',\n",
    "        #     value\n",
    "        #     )\n",
    "    df = pd.DataFrame({\"Measure\":measures, \"Query Id\":query_ids, \"Value\":values}) \n",
    "    return df"
   ]
  },
  {
   "cell_type": "code",
   "execution_count": 22,
   "metadata": {
    "colab": {
     "base_uri": "https://localhost:8080/",
     "height": 634
    },
    "id": "Oz9wA8WbSHCE",
    "outputId": "a183ce5c-46fe-4342-d967-e9fb1a70b81e"
   },
   "outputs": [
    {
     "data": {
      "application/vnd.google.colaboratory.module+javascript": "\n      import \"https://ssl.gstatic.com/colaboratory/data_table/fb998edc550c7947/data_table.js\";\n\n      window.createDataTable({\n        data: [[{\n            'v': 0,\n            'f': \"0\",\n        },\n\"num_q\",\n\"01\",\n{\n            'v': 1.0,\n            'f': \"1.0\",\n        }],\n [{\n            'v': 1,\n            'f': \"1\",\n        },\n\"num_ret\",\n\"01\",\n{\n            'v': 1.0,\n            'f': \"1.0\",\n        }],\n [{\n            'v': 2,\n            'f': \"2\",\n        },\n\"num_rel\",\n\"01\",\n{\n            'v': 3.0,\n            'f': \"3.0\",\n        }],\n [{\n            'v': 3,\n            'f': \"3\",\n        },\n\"num_rel_ret\",\n\"01\",\n{\n            'v': 1.0,\n            'f': \"1.0\",\n        }],\n [{\n            'v': 4,\n            'f': \"4\",\n        },\n\"map\",\n\"01\",\n{\n            'v': 0.3333333333333333,\n            'f': \"0.3333333333333333\",\n        }],\n [{\n            'v': 5,\n            'f': \"5\",\n        },\n\"gm_map\",\n\"01\",\n{\n            'v': -1.0986122886681098,\n            'f': \"-1.0986122886681098\",\n        }],\n [{\n            'v': 6,\n            'f': \"6\",\n        },\n\"Rprec\",\n\"01\",\n{\n            'v': 0.3333333333333333,\n            'f': \"0.3333333333333333\",\n        }],\n [{\n            'v': 7,\n            'f': \"7\",\n        },\n\"bpref\",\n\"01\",\n{\n            'v': 0.3333333333333333,\n            'f': \"0.3333333333333333\",\n        }],\n [{\n            'v': 8,\n            'f': \"8\",\n        },\n\"recip_rank\",\n\"01\",\n{\n            'v': 1.0,\n            'f': \"1.0\",\n        }],\n [{\n            'v': 9,\n            'f': \"9\",\n        },\n\"iprec_at_recall_0.00\",\n\"01\",\n{\n            'v': 1.0,\n            'f': \"1.0\",\n        }],\n [{\n            'v': 10,\n            'f': \"10\",\n        },\n\"iprec_at_recall_0.10\",\n\"01\",\n{\n            'v': 1.0,\n            'f': \"1.0\",\n        }],\n [{\n            'v': 11,\n            'f': \"11\",\n        },\n\"iprec_at_recall_0.20\",\n\"01\",\n{\n            'v': 1.0,\n            'f': \"1.0\",\n        }],\n [{\n            'v': 12,\n            'f': \"12\",\n        },\n\"iprec_at_recall_0.30\",\n\"01\",\n{\n            'v': 1.0,\n            'f': \"1.0\",\n        }],\n [{\n            'v': 13,\n            'f': \"13\",\n        },\n\"iprec_at_recall_0.40\",\n\"01\",\n{\n            'v': 0.0,\n            'f': \"0.0\",\n        }],\n [{\n            'v': 14,\n            'f': \"14\",\n        },\n\"iprec_at_recall_0.50\",\n\"01\",\n{\n            'v': 0.0,\n            'f': \"0.0\",\n        }],\n [{\n            'v': 15,\n            'f': \"15\",\n        },\n\"iprec_at_recall_0.60\",\n\"01\",\n{\n            'v': 0.0,\n            'f': \"0.0\",\n        }],\n [{\n            'v': 16,\n            'f': \"16\",\n        },\n\"iprec_at_recall_0.70\",\n\"01\",\n{\n            'v': 0.0,\n            'f': \"0.0\",\n        }],\n [{\n            'v': 17,\n            'f': \"17\",\n        },\n\"iprec_at_recall_0.80\",\n\"01\",\n{\n            'v': 0.0,\n            'f': \"0.0\",\n        }],\n [{\n            'v': 18,\n            'f': \"18\",\n        },\n\"iprec_at_recall_0.90\",\n\"01\",\n{\n            'v': 0.0,\n            'f': \"0.0\",\n        }],\n [{\n            'v': 19,\n            'f': \"19\",\n        },\n\"iprec_at_recall_1.00\",\n\"01\",\n{\n            'v': 0.0,\n            'f': \"0.0\",\n        }],\n [{\n            'v': 20,\n            'f': \"20\",\n        },\n\"P_5\",\n\"01\",\n{\n            'v': 0.2,\n            'f': \"0.2\",\n        }],\n [{\n            'v': 21,\n            'f': \"21\",\n        },\n\"P_10\",\n\"01\",\n{\n            'v': 0.1,\n            'f': \"0.1\",\n        }],\n [{\n            'v': 22,\n            'f': \"22\",\n        },\n\"P_15\",\n\"01\",\n{\n            'v': 0.06666666666666667,\n            'f': \"0.06666666666666667\",\n        }],\n [{\n            'v': 23,\n            'f': \"23\",\n        },\n\"P_20\",\n\"01\",\n{\n            'v': 0.05,\n            'f': \"0.05\",\n        }],\n [{\n            'v': 24,\n            'f': \"24\",\n        },\n\"P_30\",\n\"01\",\n{\n            'v': 0.03333333333333333,\n            'f': \"0.03333333333333333\",\n        }],\n [{\n            'v': 25,\n            'f': \"25\",\n        },\n\"P_100\",\n\"01\",\n{\n            'v': 0.01,\n            'f': \"0.01\",\n        }],\n [{\n            'v': 26,\n            'f': \"26\",\n        },\n\"P_200\",\n\"01\",\n{\n            'v': 0.005,\n            'f': \"0.005\",\n        }],\n [{\n            'v': 27,\n            'f': \"27\",\n        },\n\"P_500\",\n\"01\",\n{\n            'v': 0.002,\n            'f': \"0.002\",\n        }],\n [{\n            'v': 28,\n            'f': \"28\",\n        },\n\"P_1000\",\n\"01\",\n{\n            'v': 0.001,\n            'f': \"0.001\",\n        }],\n [{\n            'v': 29,\n            'f': \"29\",\n        },\n\"relstring\",\n\"01\",\n{\n            'v': 0.0,\n            'f': \"0.0\",\n        }],\n [{\n            'v': 30,\n            'f': \"30\",\n        },\n\"recall_5\",\n\"01\",\n{\n            'v': 0.3333333333333333,\n            'f': \"0.3333333333333333\",\n        }],\n [{\n            'v': 31,\n            'f': \"31\",\n        },\n\"recall_10\",\n\"01\",\n{\n            'v': 0.3333333333333333,\n            'f': \"0.3333333333333333\",\n        }],\n [{\n            'v': 32,\n            'f': \"32\",\n        },\n\"recall_15\",\n\"01\",\n{\n            'v': 0.3333333333333333,\n            'f': \"0.3333333333333333\",\n        }],\n [{\n            'v': 33,\n            'f': \"33\",\n        },\n\"recall_20\",\n\"01\",\n{\n            'v': 0.3333333333333333,\n            'f': \"0.3333333333333333\",\n        }],\n [{\n            'v': 34,\n            'f': \"34\",\n        },\n\"recall_30\",\n\"01\",\n{\n            'v': 0.3333333333333333,\n            'f': \"0.3333333333333333\",\n        }],\n [{\n            'v': 35,\n            'f': \"35\",\n        },\n\"recall_100\",\n\"01\",\n{\n            'v': 0.3333333333333333,\n            'f': \"0.3333333333333333\",\n        }],\n [{\n            'v': 36,\n            'f': \"36\",\n        },\n\"recall_200\",\n\"01\",\n{\n            'v': 0.3333333333333333,\n            'f': \"0.3333333333333333\",\n        }],\n [{\n            'v': 37,\n            'f': \"37\",\n        },\n\"recall_500\",\n\"01\",\n{\n            'v': 0.3333333333333333,\n            'f': \"0.3333333333333333\",\n        }],\n [{\n            'v': 38,\n            'f': \"38\",\n        },\n\"recall_1000\",\n\"01\",\n{\n            'v': 0.3333333333333333,\n            'f': \"0.3333333333333333\",\n        }],\n [{\n            'v': 39,\n            'f': \"39\",\n        },\n\"infAP\",\n\"01\",\n{\n            'v': 0.3333333333333333,\n            'f': \"0.3333333333333333\",\n        }],\n [{\n            'v': 40,\n            'f': \"40\",\n        },\n\"gm_bpref\",\n\"01\",\n{\n            'v': -1.0986122886681098,\n            'f': \"-1.0986122886681098\",\n        }],\n [{\n            'v': 41,\n            'f': \"41\",\n        },\n\"Rprec_mult_0.20\",\n\"01\",\n{\n            'v': 1.0,\n            'f': \"1.0\",\n        }],\n [{\n            'v': 42,\n            'f': \"42\",\n        },\n\"Rprec_mult_0.40\",\n\"01\",\n{\n            'v': 0.5,\n            'f': \"0.5\",\n        }],\n [{\n            'v': 43,\n            'f': \"43\",\n        },\n\"Rprec_mult_0.60\",\n\"01\",\n{\n            'v': 0.5,\n            'f': \"0.5\",\n        }],\n [{\n            'v': 44,\n            'f': \"44\",\n        },\n\"Rprec_mult_0.80\",\n\"01\",\n{\n            'v': 0.3333333333333333,\n            'f': \"0.3333333333333333\",\n        }],\n [{\n            'v': 45,\n            'f': \"45\",\n        },\n\"Rprec_mult_1.00\",\n\"01\",\n{\n            'v': 0.3333333333333333,\n            'f': \"0.3333333333333333\",\n        }],\n [{\n            'v': 46,\n            'f': \"46\",\n        },\n\"Rprec_mult_1.20\",\n\"01\",\n{\n            'v': 0.25,\n            'f': \"0.25\",\n        }],\n [{\n            'v': 47,\n            'f': \"47\",\n        },\n\"Rprec_mult_1.40\",\n\"01\",\n{\n            'v': 0.2,\n            'f': \"0.2\",\n        }],\n [{\n            'v': 48,\n            'f': \"48\",\n        },\n\"Rprec_mult_1.60\",\n\"01\",\n{\n            'v': 0.2,\n            'f': \"0.2\",\n        }],\n [{\n            'v': 49,\n            'f': \"49\",\n        },\n\"Rprec_mult_1.80\",\n\"01\",\n{\n            'v': 0.16666666666666666,\n            'f': \"0.16666666666666666\",\n        }],\n [{\n            'v': 50,\n            'f': \"50\",\n        },\n\"Rprec_mult_2.00\",\n\"01\",\n{\n            'v': 0.16666666666666666,\n            'f': \"0.16666666666666666\",\n        }],\n [{\n            'v': 51,\n            'f': \"51\",\n        },\n\"utility\",\n\"01\",\n{\n            'v': 1.0,\n            'f': \"1.0\",\n        }],\n [{\n            'v': 52,\n            'f': \"52\",\n        },\n\"11pt_avg\",\n\"01\",\n{\n            'v': 0.36363636363636365,\n            'f': \"0.36363636363636365\",\n        }],\n [{\n            'v': 53,\n            'f': \"53\",\n        },\n\"binG\",\n\"01\",\n{\n            'v': 0.3333333333333333,\n            'f': \"0.3333333333333333\",\n        }],\n [{\n            'v': 54,\n            'f': \"54\",\n        },\n\"G\",\n\"01\",\n{\n            'v': 0.3333333333333333,\n            'f': \"0.3333333333333333\",\n        }],\n [{\n            'v': 55,\n            'f': \"55\",\n        },\n\"ndcg\",\n\"01\",\n{\n            'v': 0.46927872602275644,\n            'f': \"0.46927872602275644\",\n        }],\n [{\n            'v': 56,\n            'f': \"56\",\n        },\n\"ndcg_rel\",\n\"01\",\n{\n            'v': 0.6461858173485043,\n            'f': \"0.6461858173485043\",\n        }],\n [{\n            'v': 57,\n            'f': \"57\",\n        },\n\"Rndcg\",\n\"01\",\n{\n            'v': 0.46927872602275644,\n            'f': \"0.46927872602275644\",\n        }],\n [{\n            'v': 58,\n            'f': \"58\",\n        },\n\"ndcg_cut_5\",\n\"01\",\n{\n            'v': 0.46927872602275644,\n            'f': \"0.46927872602275644\",\n        }],\n [{\n            'v': 59,\n            'f': \"59\",\n        },\n\"ndcg_cut_10\",\n\"01\",\n{\n            'v': 0.46927872602275644,\n            'f': \"0.46927872602275644\",\n        }],\n [{\n            'v': 60,\n            'f': \"60\",\n        },\n\"ndcg_cut_15\",\n\"01\",\n{\n            'v': 0.46927872602275644,\n            'f': \"0.46927872602275644\",\n        }],\n [{\n            'v': 61,\n            'f': \"61\",\n        },\n\"ndcg_cut_20\",\n\"01\",\n{\n            'v': 0.46927872602275644,\n            'f': \"0.46927872602275644\",\n        }],\n [{\n            'v': 62,\n            'f': \"62\",\n        },\n\"ndcg_cut_30\",\n\"01\",\n{\n            'v': 0.46927872602275644,\n            'f': \"0.46927872602275644\",\n        }],\n [{\n            'v': 63,\n            'f': \"63\",\n        },\n\"ndcg_cut_100\",\n\"01\",\n{\n            'v': 0.46927872602275644,\n            'f': \"0.46927872602275644\",\n        }],\n [{\n            'v': 64,\n            'f': \"64\",\n        },\n\"ndcg_cut_200\",\n\"01\",\n{\n            'v': 0.46927872602275644,\n            'f': \"0.46927872602275644\",\n        }],\n [{\n            'v': 65,\n            'f': \"65\",\n        },\n\"ndcg_cut_500\",\n\"01\",\n{\n            'v': 0.46927872602275644,\n            'f': \"0.46927872602275644\",\n        }],\n [{\n            'v': 66,\n            'f': \"66\",\n        },\n\"ndcg_cut_1000\",\n\"01\",\n{\n            'v': 0.46927872602275644,\n            'f': \"0.46927872602275644\",\n        }],\n [{\n            'v': 67,\n            'f': \"67\",\n        },\n\"map_cut_5\",\n\"01\",\n{\n            'v': 0.3333333333333333,\n            'f': \"0.3333333333333333\",\n        }],\n [{\n            'v': 68,\n            'f': \"68\",\n        },\n\"map_cut_10\",\n\"01\",\n{\n            'v': 0.3333333333333333,\n            'f': \"0.3333333333333333\",\n        }],\n [{\n            'v': 69,\n            'f': \"69\",\n        },\n\"map_cut_15\",\n\"01\",\n{\n            'v': 0.3333333333333333,\n            'f': \"0.3333333333333333\",\n        }],\n [{\n            'v': 70,\n            'f': \"70\",\n        },\n\"map_cut_20\",\n\"01\",\n{\n            'v': 0.3333333333333333,\n            'f': \"0.3333333333333333\",\n        }],\n [{\n            'v': 71,\n            'f': \"71\",\n        },\n\"map_cut_30\",\n\"01\",\n{\n            'v': 0.3333333333333333,\n            'f': \"0.3333333333333333\",\n        }],\n [{\n            'v': 72,\n            'f': \"72\",\n        },\n\"map_cut_100\",\n\"01\",\n{\n            'v': 0.3333333333333333,\n            'f': \"0.3333333333333333\",\n        }],\n [{\n            'v': 73,\n            'f': \"73\",\n        },\n\"map_cut_200\",\n\"01\",\n{\n            'v': 0.3333333333333333,\n            'f': \"0.3333333333333333\",\n        }],\n [{\n            'v': 74,\n            'f': \"74\",\n        },\n\"map_cut_500\",\n\"01\",\n{\n            'v': 0.3333333333333333,\n            'f': \"0.3333333333333333\",\n        }],\n [{\n            'v': 75,\n            'f': \"75\",\n        },\n\"map_cut_1000\",\n\"01\",\n{\n            'v': 0.3333333333333333,\n            'f': \"0.3333333333333333\",\n        }],\n [{\n            'v': 76,\n            'f': \"76\",\n        },\n\"relative_P_5\",\n\"01\",\n{\n            'v': 0.3333333333333333,\n            'f': \"0.3333333333333333\",\n        }],\n [{\n            'v': 77,\n            'f': \"77\",\n        },\n\"relative_P_10\",\n\"01\",\n{\n            'v': 0.3333333333333333,\n            'f': \"0.3333333333333333\",\n        }],\n [{\n            'v': 78,\n            'f': \"78\",\n        },\n\"relative_P_15\",\n\"01\",\n{\n            'v': 0.3333333333333333,\n            'f': \"0.3333333333333333\",\n        }],\n [{\n            'v': 79,\n            'f': \"79\",\n        },\n\"relative_P_20\",\n\"01\",\n{\n            'v': 0.3333333333333333,\n            'f': \"0.3333333333333333\",\n        }],\n [{\n            'v': 80,\n            'f': \"80\",\n        },\n\"relative_P_30\",\n\"01\",\n{\n            'v': 0.3333333333333333,\n            'f': \"0.3333333333333333\",\n        }],\n [{\n            'v': 81,\n            'f': \"81\",\n        },\n\"relative_P_100\",\n\"01\",\n{\n            'v': 0.3333333333333333,\n            'f': \"0.3333333333333333\",\n        }],\n [{\n            'v': 82,\n            'f': \"82\",\n        },\n\"relative_P_200\",\n\"01\",\n{\n            'v': 0.3333333333333333,\n            'f': \"0.3333333333333333\",\n        }],\n [{\n            'v': 83,\n            'f': \"83\",\n        },\n\"relative_P_500\",\n\"01\",\n{\n            'v': 0.3333333333333333,\n            'f': \"0.3333333333333333\",\n        }],\n [{\n            'v': 84,\n            'f': \"84\",\n        },\n\"relative_P_1000\",\n\"01\",\n{\n            'v': 0.3333333333333333,\n            'f': \"0.3333333333333333\",\n        }],\n [{\n            'v': 85,\n            'f': \"85\",\n        },\n\"success_1\",\n\"01\",\n{\n            'v': 1.0,\n            'f': \"1.0\",\n        }],\n [{\n            'v': 86,\n            'f': \"86\",\n        },\n\"success_5\",\n\"01\",\n{\n            'v': 1.0,\n            'f': \"1.0\",\n        }],\n [{\n            'v': 87,\n            'f': \"87\",\n        },\n\"success_10\",\n\"01\",\n{\n            'v': 1.0,\n            'f': \"1.0\",\n        }],\n [{\n            'v': 88,\n            'f': \"88\",\n        },\n\"set_P\",\n\"01\",\n{\n            'v': 1.0,\n            'f': \"1.0\",\n        }],\n [{\n            'v': 89,\n            'f': \"89\",\n        },\n\"set_relative_P\",\n\"01\",\n{\n            'v': 1.0,\n            'f': \"1.0\",\n        }],\n [{\n            'v': 90,\n            'f': \"90\",\n        },\n\"set_recall\",\n\"01\",\n{\n            'v': 0.3333333333333333,\n            'f': \"0.3333333333333333\",\n        }],\n [{\n            'v': 91,\n            'f': \"91\",\n        },\n\"set_map\",\n\"01\",\n{\n            'v': 0.3333333333333333,\n            'f': \"0.3333333333333333\",\n        }],\n [{\n            'v': 92,\n            'f': \"92\",\n        },\n\"set_F\",\n\"01\",\n{\n            'v': 0.5,\n            'f': \"0.5\",\n        }],\n [{\n            'v': 93,\n            'f': \"93\",\n        },\n\"num_nonrel_judged_ret\",\n\"01\",\n{\n            'v': 0.0,\n            'f': \"0.0\",\n        }],\n [{\n            'v': 94,\n            'f': \"94\",\n        },\n\"num_q\",\n\"05\",\n{\n            'v': 1.0,\n            'f': \"1.0\",\n        }],\n [{\n            'v': 95,\n            'f': \"95\",\n        },\n\"num_ret\",\n\"05\",\n{\n            'v': 1.0,\n            'f': \"1.0\",\n        }],\n [{\n            'v': 96,\n            'f': \"96\",\n        },\n\"num_rel\",\n\"05\",\n{\n            'v': 2.0,\n            'f': \"2.0\",\n        }],\n [{\n            'v': 97,\n            'f': \"97\",\n        },\n\"num_rel_ret\",\n\"05\",\n{\n            'v': 0.0,\n            'f': \"0.0\",\n        }],\n [{\n            'v': 98,\n            'f': \"98\",\n        },\n\"map\",\n\"05\",\n{\n            'v': 0.0,\n            'f': \"0.0\",\n        }],\n [{\n            'v': 99,\n            'f': \"99\",\n        },\n\"gm_map\",\n\"05\",\n{\n            'v': -11.512925464970229,\n            'f': \"-11.512925464970229\",\n        }],\n [{\n            'v': 100,\n            'f': \"100\",\n        },\n\"Rprec\",\n\"05\",\n{\n            'v': 0.0,\n            'f': \"0.0\",\n        }],\n [{\n            'v': 101,\n            'f': \"101\",\n        },\n\"bpref\",\n\"05\",\n{\n            'v': 0.0,\n            'f': \"0.0\",\n        }],\n [{\n            'v': 102,\n            'f': \"102\",\n        },\n\"recip_rank\",\n\"05\",\n{\n            'v': 0.0,\n            'f': \"0.0\",\n        }],\n [{\n            'v': 103,\n            'f': \"103\",\n        },\n\"iprec_at_recall_0.00\",\n\"05\",\n{\n            'v': 0.0,\n            'f': \"0.0\",\n        }],\n [{\n            'v': 104,\n            'f': \"104\",\n        },\n\"iprec_at_recall_0.10\",\n\"05\",\n{\n            'v': 0.0,\n            'f': \"0.0\",\n        }],\n [{\n            'v': 105,\n            'f': \"105\",\n        },\n\"iprec_at_recall_0.20\",\n\"05\",\n{\n            'v': 0.0,\n            'f': \"0.0\",\n        }],\n [{\n            'v': 106,\n            'f': \"106\",\n        },\n\"iprec_at_recall_0.30\",\n\"05\",\n{\n            'v': 0.0,\n            'f': \"0.0\",\n        }],\n [{\n            'v': 107,\n            'f': \"107\",\n        },\n\"iprec_at_recall_0.40\",\n\"05\",\n{\n            'v': 0.0,\n            'f': \"0.0\",\n        }],\n [{\n            'v': 108,\n            'f': \"108\",\n        },\n\"iprec_at_recall_0.50\",\n\"05\",\n{\n            'v': 0.0,\n            'f': \"0.0\",\n        }],\n [{\n            'v': 109,\n            'f': \"109\",\n        },\n\"iprec_at_recall_0.60\",\n\"05\",\n{\n            'v': 0.0,\n            'f': \"0.0\",\n        }],\n [{\n            'v': 110,\n            'f': \"110\",\n        },\n\"iprec_at_recall_0.70\",\n\"05\",\n{\n            'v': 0.0,\n            'f': \"0.0\",\n        }],\n [{\n            'v': 111,\n            'f': \"111\",\n        },\n\"iprec_at_recall_0.80\",\n\"05\",\n{\n            'v': 0.0,\n            'f': \"0.0\",\n        }],\n [{\n            'v': 112,\n            'f': \"112\",\n        },\n\"iprec_at_recall_0.90\",\n\"05\",\n{\n            'v': 0.0,\n            'f': \"0.0\",\n        }],\n [{\n            'v': 113,\n            'f': \"113\",\n        },\n\"iprec_at_recall_1.00\",\n\"05\",\n{\n            'v': 0.0,\n            'f': \"0.0\",\n        }],\n [{\n            'v': 114,\n            'f': \"114\",\n        },\n\"P_5\",\n\"05\",\n{\n            'v': 0.0,\n            'f': \"0.0\",\n        }],\n [{\n            'v': 115,\n            'f': \"115\",\n        },\n\"P_10\",\n\"05\",\n{\n            'v': 0.0,\n            'f': \"0.0\",\n        }],\n [{\n            'v': 116,\n            'f': \"116\",\n        },\n\"P_15\",\n\"05\",\n{\n            'v': 0.0,\n            'f': \"0.0\",\n        }],\n [{\n            'v': 117,\n            'f': \"117\",\n        },\n\"P_20\",\n\"05\",\n{\n            'v': 0.0,\n            'f': \"0.0\",\n        }],\n [{\n            'v': 118,\n            'f': \"118\",\n        },\n\"P_30\",\n\"05\",\n{\n            'v': 0.0,\n            'f': \"0.0\",\n        }],\n [{\n            'v': 119,\n            'f': \"119\",\n        },\n\"P_100\",\n\"05\",\n{\n            'v': 0.0,\n            'f': \"0.0\",\n        }],\n [{\n            'v': 120,\n            'f': \"120\",\n        },\n\"P_200\",\n\"05\",\n{\n            'v': 0.0,\n            'f': \"0.0\",\n        }],\n [{\n            'v': 121,\n            'f': \"121\",\n        },\n\"P_500\",\n\"05\",\n{\n            'v': 0.0,\n            'f': \"0.0\",\n        }],\n [{\n            'v': 122,\n            'f': \"122\",\n        },\n\"P_1000\",\n\"05\",\n{\n            'v': 0.0,\n            'f': \"0.0\",\n        }],\n [{\n            'v': 123,\n            'f': \"123\",\n        },\n\"relstring\",\n\"05\",\n{\n            'v': 0.0,\n            'f': \"0.0\",\n        }],\n [{\n            'v': 124,\n            'f': \"124\",\n        },\n\"recall_5\",\n\"05\",\n{\n            'v': 0.0,\n            'f': \"0.0\",\n        }],\n [{\n            'v': 125,\n            'f': \"125\",\n        },\n\"recall_10\",\n\"05\",\n{\n            'v': 0.0,\n            'f': \"0.0\",\n        }],\n [{\n            'v': 126,\n            'f': \"126\",\n        },\n\"recall_15\",\n\"05\",\n{\n            'v': 0.0,\n            'f': \"0.0\",\n        }],\n [{\n            'v': 127,\n            'f': \"127\",\n        },\n\"recall_20\",\n\"05\",\n{\n            'v': 0.0,\n            'f': \"0.0\",\n        }],\n [{\n            'v': 128,\n            'f': \"128\",\n        },\n\"recall_30\",\n\"05\",\n{\n            'v': 0.0,\n            'f': \"0.0\",\n        }],\n [{\n            'v': 129,\n            'f': \"129\",\n        },\n\"recall_100\",\n\"05\",\n{\n            'v': 0.0,\n            'f': \"0.0\",\n        }],\n [{\n            'v': 130,\n            'f': \"130\",\n        },\n\"recall_200\",\n\"05\",\n{\n            'v': 0.0,\n            'f': \"0.0\",\n        }],\n [{\n            'v': 131,\n            'f': \"131\",\n        },\n\"recall_500\",\n\"05\",\n{\n            'v': 0.0,\n            'f': \"0.0\",\n        }],\n [{\n            'v': 132,\n            'f': \"132\",\n        },\n\"recall_1000\",\n\"05\",\n{\n            'v': 0.0,\n            'f': \"0.0\",\n        }],\n [{\n            'v': 133,\n            'f': \"133\",\n        },\n\"infAP\",\n\"05\",\n{\n            'v': 0.0,\n            'f': \"0.0\",\n        }],\n [{\n            'v': 134,\n            'f': \"134\",\n        },\n\"gm_bpref\",\n\"05\",\n{\n            'v': -11.512925464970229,\n            'f': \"-11.512925464970229\",\n        }],\n [{\n            'v': 135,\n            'f': \"135\",\n        },\n\"Rprec_mult_0.20\",\n\"05\",\n{\n            'v': 0.0,\n            'f': \"0.0\",\n        }],\n [{\n            'v': 136,\n            'f': \"136\",\n        },\n\"Rprec_mult_0.40\",\n\"05\",\n{\n            'v': 0.0,\n            'f': \"0.0\",\n        }],\n [{\n            'v': 137,\n            'f': \"137\",\n        },\n\"Rprec_mult_0.60\",\n\"05\",\n{\n            'v': 0.0,\n            'f': \"0.0\",\n        }],\n [{\n            'v': 138,\n            'f': \"138\",\n        },\n\"Rprec_mult_0.80\",\n\"05\",\n{\n            'v': 0.0,\n            'f': \"0.0\",\n        }],\n [{\n            'v': 139,\n            'f': \"139\",\n        },\n\"Rprec_mult_1.00\",\n\"05\",\n{\n            'v': 0.0,\n            'f': \"0.0\",\n        }],\n [{\n            'v': 140,\n            'f': \"140\",\n        },\n\"Rprec_mult_1.20\",\n\"05\",\n{\n            'v': 0.0,\n            'f': \"0.0\",\n        }],\n [{\n            'v': 141,\n            'f': \"141\",\n        },\n\"Rprec_mult_1.40\",\n\"05\",\n{\n            'v': 0.0,\n            'f': \"0.0\",\n        }],\n [{\n            'v': 142,\n            'f': \"142\",\n        },\n\"Rprec_mult_1.60\",\n\"05\",\n{\n            'v': 0.0,\n            'f': \"0.0\",\n        }],\n [{\n            'v': 143,\n            'f': \"143\",\n        },\n\"Rprec_mult_1.80\",\n\"05\",\n{\n            'v': 0.0,\n            'f': \"0.0\",\n        }],\n [{\n            'v': 144,\n            'f': \"144\",\n        },\n\"Rprec_mult_2.00\",\n\"05\",\n{\n            'v': 0.0,\n            'f': \"0.0\",\n        }],\n [{\n            'v': 145,\n            'f': \"145\",\n        },\n\"utility\",\n\"05\",\n{\n            'v': -1.0,\n            'f': \"-1.0\",\n        }],\n [{\n            'v': 146,\n            'f': \"146\",\n        },\n\"11pt_avg\",\n\"05\",\n{\n            'v': 0.0,\n            'f': \"0.0\",\n        }],\n [{\n            'v': 147,\n            'f': \"147\",\n        },\n\"binG\",\n\"05\",\n{\n            'v': 0.0,\n            'f': \"0.0\",\n        }],\n [{\n            'v': 148,\n            'f': \"148\",\n        },\n\"G\",\n\"05\",\n{\n            'v': 0.0,\n            'f': \"0.0\",\n        }],\n [{\n            'v': 149,\n            'f': \"149\",\n        },\n\"ndcg\",\n\"05\",\n{\n            'v': 0.0,\n            'f': \"0.0\",\n        }],\n [{\n            'v': 150,\n            'f': \"150\",\n        },\n\"ndcg_rel\",\n\"05\",\n{\n            'v': 0.0,\n            'f': \"0.0\",\n        }],\n [{\n            'v': 151,\n            'f': \"151\",\n        },\n\"Rndcg\",\n\"05\",\n{\n            'v': 0.0,\n            'f': \"0.0\",\n        }],\n [{\n            'v': 152,\n            'f': \"152\",\n        },\n\"ndcg_cut_5\",\n\"05\",\n{\n            'v': 0.0,\n            'f': \"0.0\",\n        }],\n [{\n            'v': 153,\n            'f': \"153\",\n        },\n\"ndcg_cut_10\",\n\"05\",\n{\n            'v': 0.0,\n            'f': \"0.0\",\n        }],\n [{\n            'v': 154,\n            'f': \"154\",\n        },\n\"ndcg_cut_15\",\n\"05\",\n{\n            'v': 0.0,\n            'f': \"0.0\",\n        }],\n [{\n            'v': 155,\n            'f': \"155\",\n        },\n\"ndcg_cut_20\",\n\"05\",\n{\n            'v': 0.0,\n            'f': \"0.0\",\n        }],\n [{\n            'v': 156,\n            'f': \"156\",\n        },\n\"ndcg_cut_30\",\n\"05\",\n{\n            'v': 0.0,\n            'f': \"0.0\",\n        }],\n [{\n            'v': 157,\n            'f': \"157\",\n        },\n\"ndcg_cut_100\",\n\"05\",\n{\n            'v': 0.0,\n            'f': \"0.0\",\n        }],\n [{\n            'v': 158,\n            'f': \"158\",\n        },\n\"ndcg_cut_200\",\n\"05\",\n{\n            'v': 0.0,\n            'f': \"0.0\",\n        }],\n [{\n            'v': 159,\n            'f': \"159\",\n        },\n\"ndcg_cut_500\",\n\"05\",\n{\n            'v': 0.0,\n            'f': \"0.0\",\n        }],\n [{\n            'v': 160,\n            'f': \"160\",\n        },\n\"ndcg_cut_1000\",\n\"05\",\n{\n            'v': 0.0,\n            'f': \"0.0\",\n        }],\n [{\n            'v': 161,\n            'f': \"161\",\n        },\n\"map_cut_5\",\n\"05\",\n{\n            'v': 0.0,\n            'f': \"0.0\",\n        }],\n [{\n            'v': 162,\n            'f': \"162\",\n        },\n\"map_cut_10\",\n\"05\",\n{\n            'v': 0.0,\n            'f': \"0.0\",\n        }],\n [{\n            'v': 163,\n            'f': \"163\",\n        },\n\"map_cut_15\",\n\"05\",\n{\n            'v': 0.0,\n            'f': \"0.0\",\n        }],\n [{\n            'v': 164,\n            'f': \"164\",\n        },\n\"map_cut_20\",\n\"05\",\n{\n            'v': 0.0,\n            'f': \"0.0\",\n        }],\n [{\n            'v': 165,\n            'f': \"165\",\n        },\n\"map_cut_30\",\n\"05\",\n{\n            'v': 0.0,\n            'f': \"0.0\",\n        }],\n [{\n            'v': 166,\n            'f': \"166\",\n        },\n\"map_cut_100\",\n\"05\",\n{\n            'v': 0.0,\n            'f': \"0.0\",\n        }],\n [{\n            'v': 167,\n            'f': \"167\",\n        },\n\"map_cut_200\",\n\"05\",\n{\n            'v': 0.0,\n            'f': \"0.0\",\n        }],\n [{\n            'v': 168,\n            'f': \"168\",\n        },\n\"map_cut_500\",\n\"05\",\n{\n            'v': 0.0,\n            'f': \"0.0\",\n        }],\n [{\n            'v': 169,\n            'f': \"169\",\n        },\n\"map_cut_1000\",\n\"05\",\n{\n            'v': 0.0,\n            'f': \"0.0\",\n        }],\n [{\n            'v': 170,\n            'f': \"170\",\n        },\n\"relative_P_5\",\n\"05\",\n{\n            'v': 0.0,\n            'f': \"0.0\",\n        }],\n [{\n            'v': 171,\n            'f': \"171\",\n        },\n\"relative_P_10\",\n\"05\",\n{\n            'v': 0.0,\n            'f': \"0.0\",\n        }],\n [{\n            'v': 172,\n            'f': \"172\",\n        },\n\"relative_P_15\",\n\"05\",\n{\n            'v': 0.0,\n            'f': \"0.0\",\n        }],\n [{\n            'v': 173,\n            'f': \"173\",\n        },\n\"relative_P_20\",\n\"05\",\n{\n            'v': 0.0,\n            'f': \"0.0\",\n        }],\n [{\n            'v': 174,\n            'f': \"174\",\n        },\n\"relative_P_30\",\n\"05\",\n{\n            'v': 0.0,\n            'f': \"0.0\",\n        }],\n [{\n            'v': 175,\n            'f': \"175\",\n        },\n\"relative_P_100\",\n\"05\",\n{\n            'v': 0.0,\n            'f': \"0.0\",\n        }],\n [{\n            'v': 176,\n            'f': \"176\",\n        },\n\"relative_P_200\",\n\"05\",\n{\n            'v': 0.0,\n            'f': \"0.0\",\n        }],\n [{\n            'v': 177,\n            'f': \"177\",\n        },\n\"relative_P_500\",\n\"05\",\n{\n            'v': 0.0,\n            'f': \"0.0\",\n        }],\n [{\n            'v': 178,\n            'f': \"178\",\n        },\n\"relative_P_1000\",\n\"05\",\n{\n            'v': 0.0,\n            'f': \"0.0\",\n        }],\n [{\n            'v': 179,\n            'f': \"179\",\n        },\n\"success_1\",\n\"05\",\n{\n            'v': 0.0,\n            'f': \"0.0\",\n        }],\n [{\n            'v': 180,\n            'f': \"180\",\n        },\n\"success_5\",\n\"05\",\n{\n            'v': 0.0,\n            'f': \"0.0\",\n        }],\n [{\n            'v': 181,\n            'f': \"181\",\n        },\n\"success_10\",\n\"05\",\n{\n            'v': 0.0,\n            'f': \"0.0\",\n        }],\n [{\n            'v': 182,\n            'f': \"182\",\n        },\n\"set_P\",\n\"05\",\n{\n            'v': 0.0,\n            'f': \"0.0\",\n        }],\n [{\n            'v': 183,\n            'f': \"183\",\n        },\n\"set_relative_P\",\n\"05\",\n{\n            'v': 0.0,\n            'f': \"0.0\",\n        }],\n [{\n            'v': 184,\n            'f': \"184\",\n        },\n\"set_recall\",\n\"05\",\n{\n            'v': 0.0,\n            'f': \"0.0\",\n        }],\n [{\n            'v': 185,\n            'f': \"185\",\n        },\n\"set_map\",\n\"05\",\n{\n            'v': 0.0,\n            'f': \"0.0\",\n        }],\n [{\n            'v': 186,\n            'f': \"186\",\n        },\n\"set_F\",\n\"05\",\n{\n            'v': 0.0,\n            'f': \"0.0\",\n        }],\n [{\n            'v': 187,\n            'f': \"187\",\n        },\n\"num_nonrel_judged_ret\",\n\"05\",\n{\n            'v': 1.0,\n            'f': \"1.0\",\n        }],\n [{\n            'v': 188,\n            'f': \"188\",\n        },\n\"num_q\",\n\"06\",\n{\n            'v': 1.0,\n            'f': \"1.0\",\n        }],\n [{\n            'v': 189,\n            'f': \"189\",\n        },\n\"num_ret\",\n\"06\",\n{\n            'v': 3.0,\n            'f': \"3.0\",\n        }],\n [{\n            'v': 190,\n            'f': \"190\",\n        },\n\"num_rel\",\n\"06\",\n{\n            'v': 2.0,\n            'f': \"2.0\",\n        }],\n [{\n            'v': 191,\n            'f': \"191\",\n        },\n\"num_rel_ret\",\n\"06\",\n{\n            'v': 2.0,\n            'f': \"2.0\",\n        }],\n [{\n            'v': 192,\n            'f': \"192\",\n        },\n\"map\",\n\"06\",\n{\n            'v': 0.8333333333333333,\n            'f': \"0.8333333333333333\",\n        }],\n [{\n            'v': 193,\n            'f': \"193\",\n        },\n\"gm_map\",\n\"06\",\n{\n            'v': -0.1823215567939547,\n            'f': \"-0.1823215567939547\",\n        }],\n [{\n            'v': 194,\n            'f': \"194\",\n        },\n\"Rprec\",\n\"06\",\n{\n            'v': 0.5,\n            'f': \"0.5\",\n        }],\n [{\n            'v': 195,\n            'f': \"195\",\n        },\n\"bpref\",\n\"06\",\n{\n            'v': 1.0,\n            'f': \"1.0\",\n        }],\n [{\n            'v': 196,\n            'f': \"196\",\n        },\n\"recip_rank\",\n\"06\",\n{\n            'v': 1.0,\n            'f': \"1.0\",\n        }],\n [{\n            'v': 197,\n            'f': \"197\",\n        },\n\"iprec_at_recall_0.00\",\n\"06\",\n{\n            'v': 1.0,\n            'f': \"1.0\",\n        }],\n [{\n            'v': 198,\n            'f': \"198\",\n        },\n\"iprec_at_recall_0.10\",\n\"06\",\n{\n            'v': 1.0,\n            'f': \"1.0\",\n        }],\n [{\n            'v': 199,\n            'f': \"199\",\n        },\n\"iprec_at_recall_0.20\",\n\"06\",\n{\n            'v': 1.0,\n            'f': \"1.0\",\n        }],\n [{\n            'v': 200,\n            'f': \"200\",\n        },\n\"iprec_at_recall_0.30\",\n\"06\",\n{\n            'v': 1.0,\n            'f': \"1.0\",\n        }],\n [{\n            'v': 201,\n            'f': \"201\",\n        },\n\"iprec_at_recall_0.40\",\n\"06\",\n{\n            'v': 1.0,\n            'f': \"1.0\",\n        }],\n [{\n            'v': 202,\n            'f': \"202\",\n        },\n\"iprec_at_recall_0.50\",\n\"06\",\n{\n            'v': 1.0,\n            'f': \"1.0\",\n        }],\n [{\n            'v': 203,\n            'f': \"203\",\n        },\n\"iprec_at_recall_0.60\",\n\"06\",\n{\n            'v': 0.6666666666666666,\n            'f': \"0.6666666666666666\",\n        }],\n [{\n            'v': 204,\n            'f': \"204\",\n        },\n\"iprec_at_recall_0.70\",\n\"06\",\n{\n            'v': 0.6666666666666666,\n            'f': \"0.6666666666666666\",\n        }],\n [{\n            'v': 205,\n            'f': \"205\",\n        },\n\"iprec_at_recall_0.80\",\n\"06\",\n{\n            'v': 0.6666666666666666,\n            'f': \"0.6666666666666666\",\n        }],\n [{\n            'v': 206,\n            'f': \"206\",\n        },\n\"iprec_at_recall_0.90\",\n\"06\",\n{\n            'v': 0.6666666666666666,\n            'f': \"0.6666666666666666\",\n        }],\n [{\n            'v': 207,\n            'f': \"207\",\n        },\n\"iprec_at_recall_1.00\",\n\"06\",\n{\n            'v': 0.6666666666666666,\n            'f': \"0.6666666666666666\",\n        }],\n [{\n            'v': 208,\n            'f': \"208\",\n        },\n\"P_5\",\n\"06\",\n{\n            'v': 0.4,\n            'f': \"0.4\",\n        }],\n [{\n            'v': 209,\n            'f': \"209\",\n        },\n\"P_10\",\n\"06\",\n{\n            'v': 0.2,\n            'f': \"0.2\",\n        }],\n [{\n            'v': 210,\n            'f': \"210\",\n        },\n\"P_15\",\n\"06\",\n{\n            'v': 0.13333333333333333,\n            'f': \"0.13333333333333333\",\n        }],\n [{\n            'v': 211,\n            'f': \"211\",\n        },\n\"P_20\",\n\"06\",\n{\n            'v': 0.1,\n            'f': \"0.1\",\n        }],\n [{\n            'v': 212,\n            'f': \"212\",\n        },\n\"P_30\",\n\"06\",\n{\n            'v': 0.06666666666666667,\n            'f': \"0.06666666666666667\",\n        }],\n [{\n            'v': 213,\n            'f': \"213\",\n        },\n\"P_100\",\n\"06\",\n{\n            'v': 0.02,\n            'f': \"0.02\",\n        }],\n [{\n            'v': 214,\n            'f': \"214\",\n        },\n\"P_200\",\n\"06\",\n{\n            'v': 0.01,\n            'f': \"0.01\",\n        }],\n [{\n            'v': 215,\n            'f': \"215\",\n        },\n\"P_500\",\n\"06\",\n{\n            'v': 0.004,\n            'f': \"0.004\",\n        }],\n [{\n            'v': 216,\n            'f': \"216\",\n        },\n\"P_1000\",\n\"06\",\n{\n            'v': 0.002,\n            'f': \"0.002\",\n        }],\n [{\n            'v': 217,\n            'f': \"217\",\n        },\n\"relstring\",\n\"06\",\n{\n            'v': 0.0,\n            'f': \"0.0\",\n        }],\n [{\n            'v': 218,\n            'f': \"218\",\n        },\n\"recall_5\",\n\"06\",\n{\n            'v': 1.0,\n            'f': \"1.0\",\n        }],\n [{\n            'v': 219,\n            'f': \"219\",\n        },\n\"recall_10\",\n\"06\",\n{\n            'v': 1.0,\n            'f': \"1.0\",\n        }],\n [{\n            'v': 220,\n            'f': \"220\",\n        },\n\"recall_15\",\n\"06\",\n{\n            'v': 1.0,\n            'f': \"1.0\",\n        }],\n [{\n            'v': 221,\n            'f': \"221\",\n        },\n\"recall_20\",\n\"06\",\n{\n            'v': 1.0,\n            'f': \"1.0\",\n        }],\n [{\n            'v': 222,\n            'f': \"222\",\n        },\n\"recall_30\",\n\"06\",\n{\n            'v': 1.0,\n            'f': \"1.0\",\n        }],\n [{\n            'v': 223,\n            'f': \"223\",\n        },\n\"recall_100\",\n\"06\",\n{\n            'v': 1.0,\n            'f': \"1.0\",\n        }],\n [{\n            'v': 224,\n            'f': \"224\",\n        },\n\"recall_200\",\n\"06\",\n{\n            'v': 1.0,\n            'f': \"1.0\",\n        }],\n [{\n            'v': 225,\n            'f': \"225\",\n        },\n\"recall_500\",\n\"06\",\n{\n            'v': 1.0,\n            'f': \"1.0\",\n        }],\n [{\n            'v': 226,\n            'f': \"226\",\n        },\n\"recall_1000\",\n\"06\",\n{\n            'v': 1.0,\n            'f': \"1.0\",\n        }],\n [{\n            'v': 227,\n            'f': \"227\",\n        },\n\"infAP\",\n\"06\",\n{\n            'v': 0.8333316666999994,\n            'f': \"0.8333316666999994\",\n        }],\n [{\n            'v': 228,\n            'f': \"228\",\n        },\n\"gm_bpref\",\n\"06\",\n{\n            'v': 0.0,\n            'f': \"0.0\",\n        }],\n [{\n            'v': 229,\n            'f': \"229\",\n        },\n\"Rprec_mult_0.20\",\n\"06\",\n{\n            'v': 1.0,\n            'f': \"1.0\",\n        }],\n [{\n            'v': 230,\n            'f': \"230\",\n        },\n\"Rprec_mult_0.40\",\n\"06\",\n{\n            'v': 1.0,\n            'f': \"1.0\",\n        }],\n [{\n            'v': 231,\n            'f': \"231\",\n        },\n\"Rprec_mult_0.60\",\n\"06\",\n{\n            'v': 0.5,\n            'f': \"0.5\",\n        }],\n [{\n            'v': 232,\n            'f': \"232\",\n        },\n\"Rprec_mult_0.80\",\n\"06\",\n{\n            'v': 0.5,\n            'f': \"0.5\",\n        }],\n [{\n            'v': 233,\n            'f': \"233\",\n        },\n\"Rprec_mult_1.00\",\n\"06\",\n{\n            'v': 0.5,\n            'f': \"0.5\",\n        }],\n [{\n            'v': 234,\n            'f': \"234\",\n        },\n\"Rprec_mult_1.20\",\n\"06\",\n{\n            'v': 0.6666666666666666,\n            'f': \"0.6666666666666666\",\n        }],\n [{\n            'v': 235,\n            'f': \"235\",\n        },\n\"Rprec_mult_1.40\",\n\"06\",\n{\n            'v': 0.6666666666666666,\n            'f': \"0.6666666666666666\",\n        }],\n [{\n            'v': 236,\n            'f': \"236\",\n        },\n\"Rprec_mult_1.60\",\n\"06\",\n{\n            'v': 0.5,\n            'f': \"0.5\",\n        }],\n [{\n            'v': 237,\n            'f': \"237\",\n        },\n\"Rprec_mult_1.80\",\n\"06\",\n{\n            'v': 0.5,\n            'f': \"0.5\",\n        }],\n [{\n            'v': 238,\n            'f': \"238\",\n        },\n\"Rprec_mult_2.00\",\n\"06\",\n{\n            'v': 0.5,\n            'f': \"0.5\",\n        }],\n [{\n            'v': 239,\n            'f': \"239\",\n        },\n\"utility\",\n\"06\",\n{\n            'v': 1.0,\n            'f': \"1.0\",\n        }],\n [{\n            'v': 240,\n            'f': \"240\",\n        },\n\"11pt_avg\",\n\"06\",\n{\n            'v': 0.8484848484848484,\n            'f': \"0.8484848484848484\",\n        }],\n [{\n            'v': 241,\n            'f': \"241\",\n        },\n\"binG\",\n\"06\",\n{\n            'v': 0.8154648767857288,\n            'f': \"0.8154648767857288\",\n        }],\n [{\n            'v': 242,\n            'f': \"242\",\n        },\n\"G\",\n\"06\",\n{\n            'v': 0.8154648767857288,\n            'f': \"0.8154648767857288\",\n        }],\n [{\n            'v': 243,\n            'f': \"243\",\n        },\n\"ndcg\",\n\"06\",\n{\n            'v': 0.9197207891481876,\n            'f': \"0.9197207891481876\",\n        }],\n [{\n            'v': 244,\n            'f': \"244\",\n        },\n\"ndcg_rel\",\n\"06\",\n{\n            'v': 0.9598603945740938,\n            'f': \"0.9598603945740938\",\n        }],\n [{\n            'v': 245,\n            'f': \"245\",\n        },\n\"Rndcg\",\n\"06\",\n{\n            'v': 0.6131471927654584,\n            'f': \"0.6131471927654584\",\n        }],\n [{\n            'v': 246,\n            'f': \"246\",\n        },\n\"ndcg_cut_5\",\n\"06\",\n{\n            'v': 0.9197207891481876,\n            'f': \"0.9197207891481876\",\n        }],\n [{\n            'v': 247,\n            'f': \"247\",\n        },\n\"ndcg_cut_10\",\n\"06\",\n{\n            'v': 0.9197207891481876,\n            'f': \"0.9197207891481876\",\n        }],\n [{\n            'v': 248,\n            'f': \"248\",\n        },\n\"ndcg_cut_15\",\n\"06\",\n{\n            'v': 0.9197207891481876,\n            'f': \"0.9197207891481876\",\n        }],\n [{\n            'v': 249,\n            'f': \"249\",\n        },\n\"ndcg_cut_20\",\n\"06\",\n{\n            'v': 0.9197207891481876,\n            'f': \"0.9197207891481876\",\n        }],\n [{\n            'v': 250,\n            'f': \"250\",\n        },\n\"ndcg_cut_30\",\n\"06\",\n{\n            'v': 0.9197207891481876,\n            'f': \"0.9197207891481876\",\n        }],\n [{\n            'v': 251,\n            'f': \"251\",\n        },\n\"ndcg_cut_100\",\n\"06\",\n{\n            'v': 0.9197207891481876,\n            'f': \"0.9197207891481876\",\n        }],\n [{\n            'v': 252,\n            'f': \"252\",\n        },\n\"ndcg_cut_200\",\n\"06\",\n{\n            'v': 0.9197207891481876,\n            'f': \"0.9197207891481876\",\n        }],\n [{\n            'v': 253,\n            'f': \"253\",\n        },\n\"ndcg_cut_500\",\n\"06\",\n{\n            'v': 0.9197207891481876,\n            'f': \"0.9197207891481876\",\n        }],\n [{\n            'v': 254,\n            'f': \"254\",\n        },\n\"ndcg_cut_1000\",\n\"06\",\n{\n            'v': 0.9197207891481876,\n            'f': \"0.9197207891481876\",\n        }],\n [{\n            'v': 255,\n            'f': \"255\",\n        },\n\"map_cut_5\",\n\"06\",\n{\n            'v': 0.8333333333333333,\n            'f': \"0.8333333333333333\",\n        }],\n [{\n            'v': 256,\n            'f': \"256\",\n        },\n\"map_cut_10\",\n\"06\",\n{\n            'v': 0.8333333333333333,\n            'f': \"0.8333333333333333\",\n        }],\n [{\n            'v': 257,\n            'f': \"257\",\n        },\n\"map_cut_15\",\n\"06\",\n{\n            'v': 0.8333333333333333,\n            'f': \"0.8333333333333333\",\n        }],\n [{\n            'v': 258,\n            'f': \"258\",\n        },\n\"map_cut_20\",\n\"06\",\n{\n            'v': 0.8333333333333333,\n            'f': \"0.8333333333333333\",\n        }],\n [{\n            'v': 259,\n            'f': \"259\",\n        },\n\"map_cut_30\",\n\"06\",\n{\n            'v': 0.8333333333333333,\n            'f': \"0.8333333333333333\",\n        }],\n [{\n            'v': 260,\n            'f': \"260\",\n        },\n\"map_cut_100\",\n\"06\",\n{\n            'v': 0.8333333333333333,\n            'f': \"0.8333333333333333\",\n        }],\n [{\n            'v': 261,\n            'f': \"261\",\n        },\n\"map_cut_200\",\n\"06\",\n{\n            'v': 0.8333333333333333,\n            'f': \"0.8333333333333333\",\n        }],\n [{\n            'v': 262,\n            'f': \"262\",\n        },\n\"map_cut_500\",\n\"06\",\n{\n            'v': 0.8333333333333333,\n            'f': \"0.8333333333333333\",\n        }],\n [{\n            'v': 263,\n            'f': \"263\",\n        },\n\"map_cut_1000\",\n\"06\",\n{\n            'v': 0.8333333333333333,\n            'f': \"0.8333333333333333\",\n        }],\n [{\n            'v': 264,\n            'f': \"264\",\n        },\n\"relative_P_5\",\n\"06\",\n{\n            'v': 1.0,\n            'f': \"1.0\",\n        }],\n [{\n            'v': 265,\n            'f': \"265\",\n        },\n\"relative_P_10\",\n\"06\",\n{\n            'v': 1.0,\n            'f': \"1.0\",\n        }],\n [{\n            'v': 266,\n            'f': \"266\",\n        },\n\"relative_P_15\",\n\"06\",\n{\n            'v': 1.0,\n            'f': \"1.0\",\n        }],\n [{\n            'v': 267,\n            'f': \"267\",\n        },\n\"relative_P_20\",\n\"06\",\n{\n            'v': 1.0,\n            'f': \"1.0\",\n        }],\n [{\n            'v': 268,\n            'f': \"268\",\n        },\n\"relative_P_30\",\n\"06\",\n{\n            'v': 1.0,\n            'f': \"1.0\",\n        }],\n [{\n            'v': 269,\n            'f': \"269\",\n        },\n\"relative_P_100\",\n\"06\",\n{\n            'v': 1.0,\n            'f': \"1.0\",\n        }],\n [{\n            'v': 270,\n            'f': \"270\",\n        },\n\"relative_P_200\",\n\"06\",\n{\n            'v': 1.0,\n            'f': \"1.0\",\n        }],\n [{\n            'v': 271,\n            'f': \"271\",\n        },\n\"relative_P_500\",\n\"06\",\n{\n            'v': 1.0,\n            'f': \"1.0\",\n        }],\n [{\n            'v': 272,\n            'f': \"272\",\n        },\n\"relative_P_1000\",\n\"06\",\n{\n            'v': 1.0,\n            'f': \"1.0\",\n        }],\n [{\n            'v': 273,\n            'f': \"273\",\n        },\n\"success_1\",\n\"06\",\n{\n            'v': 1.0,\n            'f': \"1.0\",\n        }],\n [{\n            'v': 274,\n            'f': \"274\",\n        },\n\"success_5\",\n\"06\",\n{\n            'v': 1.0,\n            'f': \"1.0\",\n        }],\n [{\n            'v': 275,\n            'f': \"275\",\n        },\n\"success_10\",\n\"06\",\n{\n            'v': 1.0,\n            'f': \"1.0\",\n        }],\n [{\n            'v': 276,\n            'f': \"276\",\n        },\n\"set_P\",\n\"06\",\n{\n            'v': 0.6666666666666666,\n            'f': \"0.6666666666666666\",\n        }],\n [{\n            'v': 277,\n            'f': \"277\",\n        },\n\"set_relative_P\",\n\"06\",\n{\n            'v': 1.0,\n            'f': \"1.0\",\n        }],\n [{\n            'v': 278,\n            'f': \"278\",\n        },\n\"set_recall\",\n\"06\",\n{\n            'v': 1.0,\n            'f': \"1.0\",\n        }],\n [{\n            'v': 279,\n            'f': \"279\",\n        },\n\"set_map\",\n\"06\",\n{\n            'v': 0.6666666666666666,\n            'f': \"0.6666666666666666\",\n        }],\n [{\n            'v': 280,\n            'f': \"280\",\n        },\n\"set_F\",\n\"06\",\n{\n            'v': 0.8,\n            'f': \"0.8\",\n        }],\n [{\n            'v': 281,\n            'f': \"281\",\n        },\n\"num_nonrel_judged_ret\",\n\"06\",\n{\n            'v': 0.0,\n            'f': \"0.0\",\n        }],\n [{\n            'v': 282,\n            'f': \"282\",\n        },\n\"num_q\",\n\"all\",\n{\n            'v': 3.0,\n            'f': \"3.0\",\n        }],\n [{\n            'v': 283,\n            'f': \"283\",\n        },\n\"num_ret\",\n\"all\",\n{\n            'v': 5.0,\n            'f': \"5.0\",\n        }],\n [{\n            'v': 284,\n            'f': \"284\",\n        },\n\"num_rel\",\n\"all\",\n{\n            'v': 7.0,\n            'f': \"7.0\",\n        }],\n [{\n            'v': 285,\n            'f': \"285\",\n        },\n\"num_rel_ret\",\n\"all\",\n{\n            'v': 3.0,\n            'f': \"3.0\",\n        }],\n [{\n            'v': 286,\n            'f': \"286\",\n        },\n\"map\",\n\"all\",\n{\n            'v': 0.38888888888888884,\n            'f': \"0.38888888888888884\",\n        }],\n [{\n            'v': 287,\n            'f': \"287\",\n        },\n\"gm_map\",\n\"all\",\n{\n            'v': 0.014057211088362487,\n            'f': \"0.014057211088362487\",\n        }],\n [{\n            'v': 288,\n            'f': \"288\",\n        },\n\"Rprec\",\n\"all\",\n{\n            'v': 0.27777777777777773,\n            'f': \"0.27777777777777773\",\n        }],\n [{\n            'v': 289,\n            'f': \"289\",\n        },\n\"bpref\",\n\"all\",\n{\n            'v': 0.4444444444444444,\n            'f': \"0.4444444444444444\",\n        }],\n [{\n            'v': 290,\n            'f': \"290\",\n        },\n\"recip_rank\",\n\"all\",\n{\n            'v': 0.6666666666666666,\n            'f': \"0.6666666666666666\",\n        }],\n [{\n            'v': 291,\n            'f': \"291\",\n        },\n\"iprec_at_recall_0.00\",\n\"all\",\n{\n            'v': 0.6666666666666666,\n            'f': \"0.6666666666666666\",\n        }],\n [{\n            'v': 292,\n            'f': \"292\",\n        },\n\"iprec_at_recall_0.10\",\n\"all\",\n{\n            'v': 0.6666666666666666,\n            'f': \"0.6666666666666666\",\n        }],\n [{\n            'v': 293,\n            'f': \"293\",\n        },\n\"iprec_at_recall_0.20\",\n\"all\",\n{\n            'v': 0.6666666666666666,\n            'f': \"0.6666666666666666\",\n        }],\n [{\n            'v': 294,\n            'f': \"294\",\n        },\n\"iprec_at_recall_0.30\",\n\"all\",\n{\n            'v': 0.6666666666666666,\n            'f': \"0.6666666666666666\",\n        }],\n [{\n            'v': 295,\n            'f': \"295\",\n        },\n\"iprec_at_recall_0.40\",\n\"all\",\n{\n            'v': 0.3333333333333333,\n            'f': \"0.3333333333333333\",\n        }],\n [{\n            'v': 296,\n            'f': \"296\",\n        },\n\"iprec_at_recall_0.50\",\n\"all\",\n{\n            'v': 0.3333333333333333,\n            'f': \"0.3333333333333333\",\n        }],\n [{\n            'v': 297,\n            'f': \"297\",\n        },\n\"iprec_at_recall_0.60\",\n\"all\",\n{\n            'v': 0.2222222222222222,\n            'f': \"0.2222222222222222\",\n        }],\n [{\n            'v': 298,\n            'f': \"298\",\n        },\n\"iprec_at_recall_0.70\",\n\"all\",\n{\n            'v': 0.2222222222222222,\n            'f': \"0.2222222222222222\",\n        }],\n [{\n            'v': 299,\n            'f': \"299\",\n        },\n\"iprec_at_recall_0.80\",\n\"all\",\n{\n            'v': 0.2222222222222222,\n            'f': \"0.2222222222222222\",\n        }],\n [{\n            'v': 300,\n            'f': \"300\",\n        },\n\"iprec_at_recall_0.90\",\n\"all\",\n{\n            'v': 0.2222222222222222,\n            'f': \"0.2222222222222222\",\n        }],\n [{\n            'v': 301,\n            'f': \"301\",\n        },\n\"iprec_at_recall_1.00\",\n\"all\",\n{\n            'v': 0.2222222222222222,\n            'f': \"0.2222222222222222\",\n        }],\n [{\n            'v': 302,\n            'f': \"302\",\n        },\n\"P_5\",\n\"all\",\n{\n            'v': 0.20000000000000004,\n            'f': \"0.20000000000000004\",\n        }],\n [{\n            'v': 303,\n            'f': \"303\",\n        },\n\"P_10\",\n\"all\",\n{\n            'v': 0.10000000000000002,\n            'f': \"0.10000000000000002\",\n        }],\n [{\n            'v': 304,\n            'f': \"304\",\n        },\n\"P_15\",\n\"all\",\n{\n            'v': 0.06666666666666667,\n            'f': \"0.06666666666666667\",\n        }],\n [{\n            'v': 305,\n            'f': \"305\",\n        },\n\"P_20\",\n\"all\",\n{\n            'v': 0.05000000000000001,\n            'f': \"0.05000000000000001\",\n        }],\n [{\n            'v': 306,\n            'f': \"306\",\n        },\n\"P_30\",\n\"all\",\n{\n            'v': 0.03333333333333333,\n            'f': \"0.03333333333333333\",\n        }],\n [{\n            'v': 307,\n            'f': \"307\",\n        },\n\"P_100\",\n\"all\",\n{\n            'v': 0.01,\n            'f': \"0.01\",\n        }],\n [{\n            'v': 308,\n            'f': \"308\",\n        },\n\"P_200\",\n\"all\",\n{\n            'v': 0.005,\n            'f': \"0.005\",\n        }],\n [{\n            'v': 309,\n            'f': \"309\",\n        },\n\"P_500\",\n\"all\",\n{\n            'v': 0.002,\n            'f': \"0.002\",\n        }],\n [{\n            'v': 310,\n            'f': \"310\",\n        },\n\"P_1000\",\n\"all\",\n{\n            'v': 0.001,\n            'f': \"0.001\",\n        }],\n [{\n            'v': 311,\n            'f': \"311\",\n        },\n\"relstring\",\n\"all\",\n{\n            'v': 0.0,\n            'f': \"0.0\",\n        }],\n [{\n            'v': 312,\n            'f': \"312\",\n        },\n\"recall_5\",\n\"all\",\n{\n            'v': 0.4444444444444444,\n            'f': \"0.4444444444444444\",\n        }],\n [{\n            'v': 313,\n            'f': \"313\",\n        },\n\"recall_10\",\n\"all\",\n{\n            'v': 0.4444444444444444,\n            'f': \"0.4444444444444444\",\n        }],\n [{\n            'v': 314,\n            'f': \"314\",\n        },\n\"recall_15\",\n\"all\",\n{\n            'v': 0.4444444444444444,\n            'f': \"0.4444444444444444\",\n        }],\n [{\n            'v': 315,\n            'f': \"315\",\n        },\n\"recall_20\",\n\"all\",\n{\n            'v': 0.4444444444444444,\n            'f': \"0.4444444444444444\",\n        }],\n [{\n            'v': 316,\n            'f': \"316\",\n        },\n\"recall_30\",\n\"all\",\n{\n            'v': 0.4444444444444444,\n            'f': \"0.4444444444444444\",\n        }],\n [{\n            'v': 317,\n            'f': \"317\",\n        },\n\"recall_100\",\n\"all\",\n{\n            'v': 0.4444444444444444,\n            'f': \"0.4444444444444444\",\n        }],\n [{\n            'v': 318,\n            'f': \"318\",\n        },\n\"recall_200\",\n\"all\",\n{\n            'v': 0.4444444444444444,\n            'f': \"0.4444444444444444\",\n        }],\n [{\n            'v': 319,\n            'f': \"319\",\n        },\n\"recall_500\",\n\"all\",\n{\n            'v': 0.4444444444444444,\n            'f': \"0.4444444444444444\",\n        }],\n [{\n            'v': 320,\n            'f': \"320\",\n        },\n\"recall_1000\",\n\"all\",\n{\n            'v': 0.4444444444444444,\n            'f': \"0.4444444444444444\",\n        }],\n [{\n            'v': 321,\n            'f': \"321\",\n        },\n\"infAP\",\n\"all\",\n{\n            'v': 0.3888883333444442,\n            'f': \"0.3888883333444442\",\n        }],\n [{\n            'v': 322,\n            'f': \"322\",\n        },\n\"gm_bpref\",\n\"all\",\n{\n            'v': 0.014938015821857222,\n            'f': \"0.014938015821857222\",\n        }],\n [{\n            'v': 323,\n            'f': \"323\",\n        },\n\"Rprec_mult_0.20\",\n\"all\",\n{\n            'v': 0.6666666666666666,\n            'f': \"0.6666666666666666\",\n        }],\n [{\n            'v': 324,\n            'f': \"324\",\n        },\n\"Rprec_mult_0.40\",\n\"all\",\n{\n            'v': 0.5,\n            'f': \"0.5\",\n        }],\n [{\n            'v': 325,\n            'f': \"325\",\n        },\n\"Rprec_mult_0.60\",\n\"all\",\n{\n            'v': 0.3333333333333333,\n            'f': \"0.3333333333333333\",\n        }],\n [{\n            'v': 326,\n            'f': \"326\",\n        },\n\"Rprec_mult_0.80\",\n\"all\",\n{\n            'v': 0.27777777777777773,\n            'f': \"0.27777777777777773\",\n        }],\n [{\n            'v': 327,\n            'f': \"327\",\n        },\n\"Rprec_mult_1.00\",\n\"all\",\n{\n            'v': 0.27777777777777773,\n            'f': \"0.27777777777777773\",\n        }],\n [{\n            'v': 328,\n            'f': \"328\",\n        },\n\"Rprec_mult_1.20\",\n\"all\",\n{\n            'v': 0.3055555555555555,\n            'f': \"0.3055555555555555\",\n        }],\n [{\n            'v': 329,\n            'f': \"329\",\n        },\n\"Rprec_mult_1.40\",\n\"all\",\n{\n            'v': 0.2888888888888889,\n            'f': \"0.2888888888888889\",\n        }],\n [{\n            'v': 330,\n            'f': \"330\",\n        },\n\"Rprec_mult_1.60\",\n\"all\",\n{\n            'v': 0.2333333333333333,\n            'f': \"0.2333333333333333\",\n        }],\n [{\n            'v': 331,\n            'f': \"331\",\n        },\n\"Rprec_mult_1.80\",\n\"all\",\n{\n            'v': 0.2222222222222222,\n            'f': \"0.2222222222222222\",\n        }],\n [{\n            'v': 332,\n            'f': \"332\",\n        },\n\"Rprec_mult_2.00\",\n\"all\",\n{\n            'v': 0.2222222222222222,\n            'f': \"0.2222222222222222\",\n        }],\n [{\n            'v': 333,\n            'f': \"333\",\n        },\n\"utility\",\n\"all\",\n{\n            'v': 0.3333333333333333,\n            'f': \"0.3333333333333333\",\n        }],\n [{\n            'v': 334,\n            'f': \"334\",\n        },\n\"11pt_avg\",\n\"all\",\n{\n            'v': 0.404040404040404,\n            'f': \"0.404040404040404\",\n        }],\n [{\n            'v': 335,\n            'f': \"335\",\n        },\n\"binG\",\n\"all\",\n{\n            'v': 0.382932736706354,\n            'f': \"0.382932736706354\",\n        }],\n [{\n            'v': 336,\n            'f': \"336\",\n        },\n\"G\",\n\"all\",\n{\n            'v': 0.382932736706354,\n            'f': \"0.382932736706354\",\n        }],\n [{\n            'v': 337,\n            'f': \"337\",\n        },\n\"ndcg\",\n\"all\",\n{\n            'v': 0.46299983839031467,\n            'f': \"0.46299983839031467\",\n        }],\n [{\n            'v': 338,\n            'f': \"338\",\n        },\n\"ndcg_rel\",\n\"all\",\n{\n            'v': 0.5353487373075327,\n            'f': \"0.5353487373075327\",\n        }],\n [{\n            'v': 339,\n            'f': \"339\",\n        },\n\"Rndcg\",\n\"all\",\n{\n            'v': 0.3608086395960716,\n            'f': \"0.3608086395960716\",\n        }],\n [{\n            'v': 340,\n            'f': \"340\",\n        },\n\"ndcg_cut_5\",\n\"all\",\n{\n            'v': 0.46299983839031467,\n            'f': \"0.46299983839031467\",\n        }],\n [{\n            'v': 341,\n            'f': \"341\",\n        },\n\"ndcg_cut_10\",\n\"all\",\n{\n            'v': 0.46299983839031467,\n            'f': \"0.46299983839031467\",\n        }],\n [{\n            'v': 342,\n            'f': \"342\",\n        },\n\"ndcg_cut_15\",\n\"all\",\n{\n            'v': 0.46299983839031467,\n            'f': \"0.46299983839031467\",\n        }],\n [{\n            'v': 343,\n            'f': \"343\",\n        },\n\"ndcg_cut_20\",\n\"all\",\n{\n            'v': 0.46299983839031467,\n            'f': \"0.46299983839031467\",\n        }],\n [{\n            'v': 344,\n            'f': \"344\",\n        },\n\"ndcg_cut_30\",\n\"all\",\n{\n            'v': 0.46299983839031467,\n            'f': \"0.46299983839031467\",\n        }],\n [{\n            'v': 345,\n            'f': \"345\",\n        },\n\"ndcg_cut_100\",\n\"all\",\n{\n            'v': 0.46299983839031467,\n            'f': \"0.46299983839031467\",\n        }],\n [{\n            'v': 346,\n            'f': \"346\",\n        },\n\"ndcg_cut_200\",\n\"all\",\n{\n            'v': 0.46299983839031467,\n            'f': \"0.46299983839031467\",\n        }],\n [{\n            'v': 347,\n            'f': \"347\",\n        },\n\"ndcg_cut_500\",\n\"all\",\n{\n            'v': 0.46299983839031467,\n            'f': \"0.46299983839031467\",\n        }],\n [{\n            'v': 348,\n            'f': \"348\",\n        },\n\"ndcg_cut_1000\",\n\"all\",\n{\n            'v': 0.46299983839031467,\n            'f': \"0.46299983839031467\",\n        }],\n [{\n            'v': 349,\n            'f': \"349\",\n        },\n\"map_cut_5\",\n\"all\",\n{\n            'v': 0.38888888888888884,\n            'f': \"0.38888888888888884\",\n        }],\n [{\n            'v': 350,\n            'f': \"350\",\n        },\n\"map_cut_10\",\n\"all\",\n{\n            'v': 0.38888888888888884,\n            'f': \"0.38888888888888884\",\n        }],\n [{\n            'v': 351,\n            'f': \"351\",\n        },\n\"map_cut_15\",\n\"all\",\n{\n            'v': 0.38888888888888884,\n            'f': \"0.38888888888888884\",\n        }],\n [{\n            'v': 352,\n            'f': \"352\",\n        },\n\"map_cut_20\",\n\"all\",\n{\n            'v': 0.38888888888888884,\n            'f': \"0.38888888888888884\",\n        }],\n [{\n            'v': 353,\n            'f': \"353\",\n        },\n\"map_cut_30\",\n\"all\",\n{\n            'v': 0.38888888888888884,\n            'f': \"0.38888888888888884\",\n        }],\n [{\n            'v': 354,\n            'f': \"354\",\n        },\n\"map_cut_100\",\n\"all\",\n{\n            'v': 0.38888888888888884,\n            'f': \"0.38888888888888884\",\n        }],\n [{\n            'v': 355,\n            'f': \"355\",\n        },\n\"map_cut_200\",\n\"all\",\n{\n            'v': 0.38888888888888884,\n            'f': \"0.38888888888888884\",\n        }],\n [{\n            'v': 356,\n            'f': \"356\",\n        },\n\"map_cut_500\",\n\"all\",\n{\n            'v': 0.38888888888888884,\n            'f': \"0.38888888888888884\",\n        }],\n [{\n            'v': 357,\n            'f': \"357\",\n        },\n\"map_cut_1000\",\n\"all\",\n{\n            'v': 0.38888888888888884,\n            'f': \"0.38888888888888884\",\n        }],\n [{\n            'v': 358,\n            'f': \"358\",\n        },\n\"relative_P_5\",\n\"all\",\n{\n            'v': 0.4444444444444444,\n            'f': \"0.4444444444444444\",\n        }],\n [{\n            'v': 359,\n            'f': \"359\",\n        },\n\"relative_P_10\",\n\"all\",\n{\n            'v': 0.4444444444444444,\n            'f': \"0.4444444444444444\",\n        }],\n [{\n            'v': 360,\n            'f': \"360\",\n        },\n\"relative_P_15\",\n\"all\",\n{\n            'v': 0.4444444444444444,\n            'f': \"0.4444444444444444\",\n        }],\n [{\n            'v': 361,\n            'f': \"361\",\n        },\n\"relative_P_20\",\n\"all\",\n{\n            'v': 0.4444444444444444,\n            'f': \"0.4444444444444444\",\n        }],\n [{\n            'v': 362,\n            'f': \"362\",\n        },\n\"relative_P_30\",\n\"all\",\n{\n            'v': 0.4444444444444444,\n            'f': \"0.4444444444444444\",\n        }],\n [{\n            'v': 363,\n            'f': \"363\",\n        },\n\"relative_P_100\",\n\"all\",\n{\n            'v': 0.4444444444444444,\n            'f': \"0.4444444444444444\",\n        }],\n [{\n            'v': 364,\n            'f': \"364\",\n        },\n\"relative_P_200\",\n\"all\",\n{\n            'v': 0.4444444444444444,\n            'f': \"0.4444444444444444\",\n        }],\n [{\n            'v': 365,\n            'f': \"365\",\n        },\n\"relative_P_500\",\n\"all\",\n{\n            'v': 0.4444444444444444,\n            'f': \"0.4444444444444444\",\n        }],\n [{\n            'v': 366,\n            'f': \"366\",\n        },\n\"relative_P_1000\",\n\"all\",\n{\n            'v': 0.4444444444444444,\n            'f': \"0.4444444444444444\",\n        }],\n [{\n            'v': 367,\n            'f': \"367\",\n        },\n\"success_1\",\n\"all\",\n{\n            'v': 0.6666666666666666,\n            'f': \"0.6666666666666666\",\n        }],\n [{\n            'v': 368,\n            'f': \"368\",\n        },\n\"success_5\",\n\"all\",\n{\n            'v': 0.6666666666666666,\n            'f': \"0.6666666666666666\",\n        }],\n [{\n            'v': 369,\n            'f': \"369\",\n        },\n\"success_10\",\n\"all\",\n{\n            'v': 0.6666666666666666,\n            'f': \"0.6666666666666666\",\n        }],\n [{\n            'v': 370,\n            'f': \"370\",\n        },\n\"set_P\",\n\"all\",\n{\n            'v': 0.5555555555555555,\n            'f': \"0.5555555555555555\",\n        }],\n [{\n            'v': 371,\n            'f': \"371\",\n        },\n\"set_relative_P\",\n\"all\",\n{\n            'v': 0.6666666666666666,\n            'f': \"0.6666666666666666\",\n        }],\n [{\n            'v': 372,\n            'f': \"372\",\n        },\n\"set_recall\",\n\"all\",\n{\n            'v': 0.4444444444444444,\n            'f': \"0.4444444444444444\",\n        }],\n [{\n            'v': 373,\n            'f': \"373\",\n        },\n\"set_map\",\n\"all\",\n{\n            'v': 0.3333333333333333,\n            'f': \"0.3333333333333333\",\n        }],\n [{\n            'v': 374,\n            'f': \"374\",\n        },\n\"set_F\",\n\"all\",\n{\n            'v': 0.43333333333333335,\n            'f': \"0.43333333333333335\",\n        }],\n [{\n            'v': 375,\n            'f': \"375\",\n        },\n\"num_nonrel_judged_ret\",\n\"all\",\n{\n            'v': 1.0,\n            'f': \"1.0\",\n        }]],\n        columns: [[\"number\", \"index\"], [\"string\", \"Measure\"], [\"string\", \"Query Id\"], [\"number\", \"Value\"]],\n        columnOptions: [{\"width\": \"1px\", \"className\": \"index_column\"}],\n        rowsPerPage: 25,\n        helpUrl: \"https://colab.research.google.com/notebooks/data_table.ipynb\",\n        suppressOutputScrolling: true,\n        minimumWidth: undefined,\n      });\n    ",
      "text/html": [
       "\n",
       "  <div id=\"df-29b1fa4c-295d-49fa-a4b9-f11800f4ec2c\">\n",
       "    <div class=\"colab-df-container\">\n",
       "      <div>\n",
       "<style scoped>\n",
       "    .dataframe tbody tr th:only-of-type {\n",
       "        vertical-align: middle;\n",
       "    }\n",
       "\n",
       "    .dataframe tbody tr th {\n",
       "        vertical-align: top;\n",
       "    }\n",
       "\n",
       "    .dataframe thead th {\n",
       "        text-align: right;\n",
       "    }\n",
       "</style>\n",
       "<table border=\"1\" class=\"dataframe\">\n",
       "  <thead>\n",
       "    <tr style=\"text-align: right;\">\n",
       "      <th></th>\n",
       "      <th>Measure</th>\n",
       "      <th>Query Id</th>\n",
       "      <th>Value</th>\n",
       "    </tr>\n",
       "  </thead>\n",
       "  <tbody>\n",
       "    <tr>\n",
       "      <th>0</th>\n",
       "      <td>num_q</td>\n",
       "      <td>01</td>\n",
       "      <td>1.000000</td>\n",
       "    </tr>\n",
       "    <tr>\n",
       "      <th>1</th>\n",
       "      <td>num_ret</td>\n",
       "      <td>01</td>\n",
       "      <td>1.000000</td>\n",
       "    </tr>\n",
       "    <tr>\n",
       "      <th>2</th>\n",
       "      <td>num_rel</td>\n",
       "      <td>01</td>\n",
       "      <td>3.000000</td>\n",
       "    </tr>\n",
       "    <tr>\n",
       "      <th>3</th>\n",
       "      <td>num_rel_ret</td>\n",
       "      <td>01</td>\n",
       "      <td>1.000000</td>\n",
       "    </tr>\n",
       "    <tr>\n",
       "      <th>4</th>\n",
       "      <td>map</td>\n",
       "      <td>01</td>\n",
       "      <td>0.333333</td>\n",
       "    </tr>\n",
       "    <tr>\n",
       "      <th>...</th>\n",
       "      <td>...</td>\n",
       "      <td>...</td>\n",
       "      <td>...</td>\n",
       "    </tr>\n",
       "    <tr>\n",
       "      <th>371</th>\n",
       "      <td>set_relative_P</td>\n",
       "      <td>all</td>\n",
       "      <td>0.666667</td>\n",
       "    </tr>\n",
       "    <tr>\n",
       "      <th>372</th>\n",
       "      <td>set_recall</td>\n",
       "      <td>all</td>\n",
       "      <td>0.444444</td>\n",
       "    </tr>\n",
       "    <tr>\n",
       "      <th>373</th>\n",
       "      <td>set_map</td>\n",
       "      <td>all</td>\n",
       "      <td>0.333333</td>\n",
       "    </tr>\n",
       "    <tr>\n",
       "      <th>374</th>\n",
       "      <td>set_F</td>\n",
       "      <td>all</td>\n",
       "      <td>0.433333</td>\n",
       "    </tr>\n",
       "    <tr>\n",
       "      <th>375</th>\n",
       "      <td>num_nonrel_judged_ret</td>\n",
       "      <td>all</td>\n",
       "      <td>1.000000</td>\n",
       "    </tr>\n",
       "  </tbody>\n",
       "</table>\n",
       "<p>376 rows × 3 columns</p>\n",
       "</div>\n",
       "      <button class=\"colab-df-convert\" onclick=\"convertToInteractive('df-29b1fa4c-295d-49fa-a4b9-f11800f4ec2c')\"\n",
       "              title=\"Convert this dataframe to an interactive table.\"\n",
       "              style=\"display:none;\">\n",
       "        \n",
       "  <svg xmlns=\"http://www.w3.org/2000/svg\" height=\"24px\"viewBox=\"0 0 24 24\"\n",
       "       width=\"24px\">\n",
       "    <path d=\"M0 0h24v24H0V0z\" fill=\"none\"/>\n",
       "    <path d=\"M18.56 5.44l.94 2.06.94-2.06 2.06-.94-2.06-.94-.94-2.06-.94 2.06-2.06.94zm-11 1L8.5 8.5l.94-2.06 2.06-.94-2.06-.94L8.5 2.5l-.94 2.06-2.06.94zm10 10l.94 2.06.94-2.06 2.06-.94-2.06-.94-.94-2.06-.94 2.06-2.06.94z\"/><path d=\"M17.41 7.96l-1.37-1.37c-.4-.4-.92-.59-1.43-.59-.52 0-1.04.2-1.43.59L10.3 9.45l-7.72 7.72c-.78.78-.78 2.05 0 2.83L4 21.41c.39.39.9.59 1.41.59.51 0 1.02-.2 1.41-.59l7.78-7.78 2.81-2.81c.8-.78.8-2.07 0-2.86zM5.41 20L4 18.59l7.72-7.72 1.47 1.35L5.41 20z\"/>\n",
       "  </svg>\n",
       "      </button>\n",
       "      \n",
       "  <style>\n",
       "    .colab-df-container {\n",
       "      display:flex;\n",
       "      flex-wrap:wrap;\n",
       "      gap: 12px;\n",
       "    }\n",
       "\n",
       "    .colab-df-convert {\n",
       "      background-color: #E8F0FE;\n",
       "      border: none;\n",
       "      border-radius: 50%;\n",
       "      cursor: pointer;\n",
       "      display: none;\n",
       "      fill: #1967D2;\n",
       "      height: 32px;\n",
       "      padding: 0 0 0 0;\n",
       "      width: 32px;\n",
       "    }\n",
       "\n",
       "    .colab-df-convert:hover {\n",
       "      background-color: #E2EBFA;\n",
       "      box-shadow: 0px 1px 2px rgba(60, 64, 67, 0.3), 0px 1px 3px 1px rgba(60, 64, 67, 0.15);\n",
       "      fill: #174EA6;\n",
       "    }\n",
       "\n",
       "    [theme=dark] .colab-df-convert {\n",
       "      background-color: #3B4455;\n",
       "      fill: #D2E3FC;\n",
       "    }\n",
       "\n",
       "    [theme=dark] .colab-df-convert:hover {\n",
       "      background-color: #434B5C;\n",
       "      box-shadow: 0px 1px 3px 1px rgba(0, 0, 0, 0.15);\n",
       "      filter: drop-shadow(0px 1px 2px rgba(0, 0, 0, 0.3));\n",
       "      fill: #FFFFFF;\n",
       "    }\n",
       "  </style>\n",
       "\n",
       "      <script>\n",
       "        const buttonEl =\n",
       "          document.querySelector('#df-29b1fa4c-295d-49fa-a4b9-f11800f4ec2c button.colab-df-convert');\n",
       "        buttonEl.style.display =\n",
       "          google.colab.kernel.accessAllowed ? 'block' : 'none';\n",
       "\n",
       "        async function convertToInteractive(key) {\n",
       "          const element = document.querySelector('#df-29b1fa4c-295d-49fa-a4b9-f11800f4ec2c');\n",
       "          const dataTable =\n",
       "            await google.colab.kernel.invokeFunction('convertToInteractive',\n",
       "                                                     [key], {});\n",
       "          if (!dataTable) return;\n",
       "\n",
       "          const docLinkHtml = 'Like what you see? Visit the ' +\n",
       "            '<a target=\"_blank\" href=https://colab.research.google.com/notebooks/data_table.ipynb>data table notebook</a>'\n",
       "            + ' to learn more about interactive tables.';\n",
       "          element.innerHTML = '';\n",
       "          dataTable['output_type'] = 'display_data';\n",
       "          await google.colab.output.renderOutput(dataTable, element);\n",
       "          const docLink = document.createElement('div');\n",
       "          docLink.innerHTML = docLinkHtml;\n",
       "          element.appendChild(docLink);\n",
       "        }\n",
       "      </script>\n",
       "    </div>\n",
       "  </div>\n",
       "  "
      ],
      "text/plain": [
       "                   Measure Query Id     Value\n",
       "0                    num_q       01  1.000000\n",
       "1                  num_ret       01  1.000000\n",
       "2                  num_rel       01  3.000000\n",
       "3              num_rel_ret       01  1.000000\n",
       "4                      map       01  0.333333\n",
       "..                     ...      ...       ...\n",
       "371         set_relative_P      all  0.666667\n",
       "372             set_recall      all  0.444444\n",
       "373                set_map      all  0.333333\n",
       "374                  set_F      all  0.433333\n",
       "375  num_nonrel_judged_ret      all  1.000000\n",
       "\n",
       "[376 rows x 3 columns]"
      ]
     },
     "execution_count": 22,
     "metadata": {},
     "output_type": "execute_result"
    }
   ],
   "source": [
    "from google.colab import data_table\n",
    "data_table.enable_dataframe_formatter()\n",
    "pyTrecEval(TOPIC_FILE, QRELS_FILE, myQueryParser, mySearcher) "
   ]
  },
  {
   "cell_type": "code",
   "execution_count": 23,
   "metadata": {
    "id": "o7LMEW83xtiB"
   },
   "outputs": [],
   "source": [
    "def printRelName(topicFile, qrelsFile, queryParser, searcher, id):\n",
    "  with open(topicFile, \"r\") as tf:\n",
    "        topics = tf.read().splitlines()\n",
    "  for topic in topics:\n",
    "        topic_id, topic_phrase = tuple(topic.split(\" \", 1))\n",
    "        if topic_id == id:\n",
    "          print(\"---------------------------Topic_id and Topic_phrase----------------------------------\")\n",
    "          print(topic_id, topic_phrase)\n",
    "          topicQuery = queryParser.parse(topic_phrase)\n",
    "          topicResults = searcher.search(topicQuery, limit=None)\n",
    "          print(\"---------------------------Return documents----------------------------------\")\n",
    "          for (docnum, result) in enumerate(topicResults):\n",
    "              score = topicResults.score(docnum)\n",
    "              print(\"%s Q0 %s %d %lf test\" % (topic_id, os.path.basename(result[\"file_path\"]), docnum, score))\n",
    "          print(\"---------------------------Relevant documents----------------------------------\")\n",
    "          with open(qrelsFile, 'r') as f_qrel:\n",
    "            qrels = f_qrel.readlines()\n",
    "            for i in qrels:\n",
    "              qid, _, doc, rel = i.rstrip().split(\" \")\n",
    "              if qid == id and rel == \"1\":\n",
    "                print(i.rstrip())"
   ]
  },
  {
   "cell_type": "code",
   "execution_count": 24,
   "metadata": {
    "colab": {
     "base_uri": "https://localhost:8080/"
    },
    "id": "nshKlvO8xv4g",
    "outputId": "f6b9a785-fc6f-4227-aa12-bda082769876"
   },
   "outputs": [
    {
     "name": "stdout",
     "output_type": "stream",
     "text": [
      "---------------------------Topic_id and Topic_phrase----------------------------------\n",
      "01 ducks\n",
      "---------------------------Return documents----------------------------------\n",
      "01 Q0 email06 0 2.601436 test\n",
      "---------------------------Relevant documents----------------------------------\n",
      "01 0 email04 1\n",
      "01 0 email05 1\n",
      "01 0 email06 1\n"
     ]
    }
   ],
   "source": [
    "printRelName(TOPIC_FILE, QRELS_FILE, myQueryParser, mySearcher, \"01\")"
   ]
  },
  {
   "cell_type": "markdown",
   "metadata": {
    "id": "hehQMz-NtPS6"
   },
   "source": [
    "## Part 2: Evaluating different configurations"
   ]
  },
  {
   "cell_type": "markdown",
   "metadata": {
    "id": "lRb5SpIdtPS7"
   },
   "source": [
    "### Inspecting our index"
   ]
  },
  {
   "cell_type": "code",
   "execution_count": 25,
   "metadata": {
    "colab": {
     "base_uri": "https://localhost:8080/"
    },
    "id": "yimuRBkqtPS8",
    "outputId": "563fd2d3-564b-4701-fcda-26c6dc2eb6e7"
   },
   "outputs": [
    {
     "name": "stdout",
     "output_type": "stream",
     "text": [
      "Index is empty? False\n",
      "Number of indexed files: 11\n"
     ]
    }
   ],
   "source": [
    "# Is it empty?\n",
    "print(\"Index is empty?\", myIndex.is_empty())\n",
    "\n",
    "# How many files indexed?\n",
    "print(\"Number of indexed files:\", myIndex.doc_count())"
   ]
  },
  {
   "cell_type": "code",
   "execution_count": 26,
   "metadata": {
    "id": "pVgYyGCXtPS-"
   },
   "outputs": [],
   "source": [
    "# define a reader object on the index\n",
    "myReader = myIndex.reader()"
   ]
  },
  {
   "cell_type": "code",
   "execution_count": 27,
   "metadata": {
    "colab": {
     "base_uri": "https://localhost:8080/"
    },
    "id": "_PdtE24ctPTD",
    "outputId": "92433204-af0c-46cd-d312-6758174e4083"
   },
   "outputs": [
    {
     "data": {
      "text/plain": [
       "[(0, {'file_path': 'lab-data/documents/email02'}),\n",
       " (1, {'file_path': 'lab-data/documents/email08'}),\n",
       " (2, {'file_path': 'lab-data/documents/email03'}),\n",
       " (3, {'file_path': 'lab-data/documents/email14'}),\n",
       " (4, {'file_path': 'lab-data/documents/email07'})]"
      ]
     },
     "execution_count": 27,
     "metadata": {},
     "output_type": "execute_result"
    }
   ],
   "source": [
    "# print first 5 indexed documents\n",
    "[(docnum, doc_dict) for (docnum, doc_dict) in myReader.iter_docs()][0:5]"
   ]
  },
  {
   "cell_type": "code",
   "execution_count": 28,
   "metadata": {
    "colab": {
     "base_uri": "https://localhost:8080/"
    },
    "id": "JhVLFv81tPTH",
    "outputId": "d1dfe21f-dc99-4d3f-bb1c-6e181197b4d0"
   },
   "outputs": [
    {
     "data": {
      "text/plain": [
       "['Care',\n",
       " 'Carlos',\n",
       " 'Carmen',\n",
       " 'Carnivalesque',\n",
       " 'Carolina',\n",
       " 'Case',\n",
       " 'Cat',\n",
       " 'Catalysis',\n",
       " 'Catalyst',\n",
       " 'Catchers',\n",
       " 'Cater',\n",
       " 'Caused',\n",
       " 'Caveat',\n",
       " 'CbZF1d0021swQuc57kfqHt',\n",
       " 'Cechetto',\n",
       " 'Ceder',\n",
       " 'Celebratory',\n",
       " 'Center',\n",
       " 'Cereal',\n",
       " 'Ceremony',\n",
       " 'Cerrahi',\n",
       " 'Certolizumab',\n",
       " 'Cervical',\n",
       " 'Chair',\n",
       " 'Chalfie']"
      ]
     },
     "execution_count": 28,
     "metadata": {},
     "output_type": "execute_result"
    }
   ],
   "source": [
    "# list indexed terms for field \"file_content\"\n",
    "[term for term in myReader.field_terms(\"file_content\")][1000:1025]"
   ]
  },
  {
   "cell_type": "code",
   "execution_count": 29,
   "metadata": {
    "colab": {
     "base_uri": "https://localhost:8080/"
    },
    "id": "3_KS7TeztPTK",
    "outputId": "6abb4fd9-d350-497e-83a6-a5f28d514fb7"
   },
   "outputs": [
    {
     "name": "stdout",
     "output_type": "stream",
     "text": [
      "29729\n"
     ]
    }
   ],
   "source": [
    "#how many terms do we have?\n",
    "print(myReader.field_length(\"file_content\"))"
   ]
  },
  {
   "cell_type": "code",
   "execution_count": 30,
   "metadata": {
    "colab": {
     "base_uri": "https://localhost:8080/"
    },
    "id": "lCcAc3zltPTM",
    "outputId": "5e1cd104-3969-496d-8e80-cf61accc3af5"
   },
   "outputs": [
    {
     "name": "stdout",
     "output_type": "stream",
     "text": [
      "# docs with 'bit' 1\n",
      "# docs with 'are' 11\n",
      "# docs with 'get' 6\n"
     ]
    }
   ],
   "source": [
    "# how many documents have the phares \"bit\", blob\"\n",
    "#   in the field \"file_content\"?\n",
    "print(\"# docs with 'bit'\", myReader.doc_frequency(\"file_content\", \"bit\"))\n",
    "print(\"# docs with 'are'\", myReader.doc_frequency(\"file_content\", \"are\"))\n",
    "print(\"# docs with 'get'\", myReader.doc_frequency(\"file_content\", \"get\"))"
   ]
  },
  {
   "cell_type": "markdown",
   "metadata": {
    "id": "t5RtEaMltPTO"
   },
   "source": [
    "### Text Analyzers"
   ]
  },
  {
   "cell_type": "code",
   "execution_count": 31,
   "metadata": {
    "colab": {
     "base_uri": "https://localhost:8080/"
    },
    "id": "MryBFZMftPTO",
    "outputId": "ff8097ae-4d4b-4f77-9b2a-6e237406872d"
   },
   "outputs": [
    {
     "data": {
      "text/plain": [
       "['We',\n",
       " 'are',\n",
       " 'going',\n",
       " 'to',\n",
       " 'do',\n",
       " 'Text',\n",
       " 'Analysis',\n",
       " 'with',\n",
       " 'whoosh.analysis']"
      ]
     },
     "execution_count": 31,
     "metadata": {},
     "output_type": "execute_result"
    }
   ],
   "source": [
    "# we start with basic tokenizer\n",
    "tokenizer = RegexTokenizer()\n",
    "[token.text for token in tokenizer(\"We are going to do Text Analysis with whoosh.analysis\")]"
   ]
  },
  {
   "cell_type": "code",
   "execution_count": 32,
   "metadata": {
    "colab": {
     "base_uri": "https://localhost:8080/"
    },
    "id": "nAqeToZmtPTS",
    "outputId": "4034ff32-2fc4-4e10-86bc-51378355164c"
   },
   "outputs": [
    {
     "data": {
      "text/plain": [
       "['We', 'ar', 'go', 'to', 'do', 'Text', 'Analysi', 'with', 'whoosh.analysi']"
      ]
     },
     "execution_count": 32,
     "metadata": {},
     "output_type": "execute_result"
    }
   ],
   "source": [
    "# we might want use stemming:\n",
    "stmAnalyzer = RegexTokenizer() | StemFilter()\n",
    "[token.text for token in stmAnalyzer(\"We are going to do Text Analysis with whoosh.analysis\")]"
   ]
  },
  {
   "cell_type": "code",
   "execution_count": 33,
   "metadata": {
    "colab": {
     "base_uri": "https://localhost:8080/"
    },
    "id": "BYtFoYcQtPTX",
    "outputId": "0d82ea0a-db76-48ea-916e-ce68fc1f534f"
   },
   "outputs": [
    {
     "data": {
      "text/plain": [
       "['we', 'ar', 'go', 'to', 'do', 'text', 'analysi', 'with', 'whoosh.analysi']"
      ]
     },
     "execution_count": 33,
     "metadata": {},
     "output_type": "execute_result"
    }
   ],
   "source": [
    "# We probably want to lower-case it\n",
    "# so we add LowercaseFilter\n",
    "stmLwrAnalyzer = RegexTokenizer() | LowercaseFilter() | StemFilter()\n",
    "[token.text for token in stmLwrAnalyzer(\"We are going to do Text Analysis with whoosh.analysis\")]"
   ]
  },
  {
   "cell_type": "code",
   "execution_count": 34,
   "metadata": {
    "colab": {
     "base_uri": "https://localhost:8080/"
    },
    "id": "PolzmL-ftPTZ",
    "outputId": "7b736c32-7db2-4509-fa40-449d8e13f70f"
   },
   "outputs": [
    {
     "data": {
      "text/plain": [
       "['go', 'do', 'text', 'analysi', 'whoosh.analysi']"
      ]
     },
     "execution_count": 34,
     "metadata": {},
     "output_type": "execute_result"
    }
   ],
   "source": [
    "# we probably want to ignore words like \"we\", \"are\", \"with\" when we index files\n",
    "# so we add StopFilter to filter stop words\n",
    "stmLwrStpAnalyzer = RegexTokenizer() | LowercaseFilter() | StopFilter() | StemFilter()\n",
    "[token.text for token in stmLwrStpAnalyzer(\"We are going to do Text Analysis with whoosh.analysis\")]"
   ]
  },
  {
   "cell_type": "code",
   "execution_count": 35,
   "metadata": {
    "colab": {
     "base_uri": "https://localhost:8080/"
    },
    "id": "jX1lCwGmtPTb",
    "outputId": "4552c4cd-926d-428b-ac32-96d88ed0a374"
   },
   "outputs": [
    {
     "data": {
      "text/plain": [
       "['go', 'do', 'text', 'analysi', 'whoosh', 'analysi']"
      ]
     },
     "execution_count": 35,
     "metadata": {},
     "output_type": "execute_result"
    }
   ],
   "source": [
    "# we also probably want to break phrases like \"whoosh.analysis\" into \"whoosh\" and \"analysis\"\n",
    "# so we add IntraWordFilter\n",
    "stmLwrStpIntraAnalyzer = RegexTokenizer() | LowercaseFilter() | IntraWordFilter() | StopFilter() | StemFilter()\n",
    "[token.text for token in stmLwrStpIntraAnalyzer(\"We are going to do Text Analysis with whoosh.analysis\")]"
   ]
  },
  {
   "cell_type": "markdown",
   "metadata": {
    "id": "2_8GzxX0tPTd"
   },
   "source": [
    "### Evaluating the new analyzers"
   ]
  },
  {
   "cell_type": "code",
   "execution_count": 36,
   "metadata": {
    "id": "8FlXm9UotPTd"
   },
   "outputs": [],
   "source": [
    "# define a Schema with the new analyzer\n",
    "mySchema2 = Schema(file_path = ID(stored=True),\n",
    "                   file_content = TEXT(analyzer = stmLwrStpIntraAnalyzer))\n",
    "\n",
    "# create the index based on the new schema\n",
    "myIndex2 = createIndex(mySchema2)"
   ]
  },
  {
   "cell_type": "code",
   "execution_count": 37,
   "metadata": {
    "colab": {
     "base_uri": "https://localhost:8080/"
    },
    "id": "52MlF85LtPTh",
    "outputId": "20008b74-033b-4a60-fc4d-475bf595adad"
   },
   "outputs": [
    {
     "name": "stdout",
     "output_type": "stream",
     "text": [
      "done indexing.\n"
     ]
    }
   ],
   "source": [
    "addFilesToIndex(myIndex2, filesToIndex)"
   ]
  },
  {
   "cell_type": "code",
   "execution_count": 38,
   "metadata": {
    "id": "chy78JJ2tPTk"
   },
   "outputs": [],
   "source": [
    "# define a query parser for the field \"file_content\" in the index\n",
    "myQueryParser2 = QueryParser(\"file_content\", schema=myIndex2.schema)\n",
    "mySearcher2 = myIndex2.searcher()"
   ]
  },
  {
   "cell_type": "code",
   "execution_count": 39,
   "metadata": {
    "colab": {
     "base_uri": "https://localhost:8080/",
     "height": 634
    },
    "id": "eHI_RkXstPTn",
    "outputId": "9e189155-1ef4-434c-8475-e4947331b0b4"
   },
   "outputs": [
    {
     "data": {
      "application/vnd.google.colaboratory.module+javascript": "\n      import \"https://ssl.gstatic.com/colaboratory/data_table/fb998edc550c7947/data_table.js\";\n\n      window.createDataTable({\n        data: [[{\n            'v': 0,\n            'f': \"0\",\n        },\n\"num_q\",\n\"01\",\n{\n            'v': 1.0,\n            'f': \"1.0\",\n        }],\n [{\n            'v': 1,\n            'f': \"1\",\n        },\n\"num_ret\",\n\"01\",\n{\n            'v': 3.0,\n            'f': \"3.0\",\n        }],\n [{\n            'v': 2,\n            'f': \"2\",\n        },\n\"num_rel\",\n\"01\",\n{\n            'v': 3.0,\n            'f': \"3.0\",\n        }],\n [{\n            'v': 3,\n            'f': \"3\",\n        },\n\"num_rel_ret\",\n\"01\",\n{\n            'v': 3.0,\n            'f': \"3.0\",\n        }],\n [{\n            'v': 4,\n            'f': \"4\",\n        },\n\"map\",\n\"01\",\n{\n            'v': 1.0,\n            'f': \"1.0\",\n        }],\n [{\n            'v': 5,\n            'f': \"5\",\n        },\n\"gm_map\",\n\"01\",\n{\n            'v': 0.0,\n            'f': \"0.0\",\n        }],\n [{\n            'v': 6,\n            'f': \"6\",\n        },\n\"Rprec\",\n\"01\",\n{\n            'v': 1.0,\n            'f': \"1.0\",\n        }],\n [{\n            'v': 7,\n            'f': \"7\",\n        },\n\"bpref\",\n\"01\",\n{\n            'v': 1.0,\n            'f': \"1.0\",\n        }],\n [{\n            'v': 8,\n            'f': \"8\",\n        },\n\"recip_rank\",\n\"01\",\n{\n            'v': 1.0,\n            'f': \"1.0\",\n        }],\n [{\n            'v': 9,\n            'f': \"9\",\n        },\n\"iprec_at_recall_0.00\",\n\"01\",\n{\n            'v': 1.0,\n            'f': \"1.0\",\n        }],\n [{\n            'v': 10,\n            'f': \"10\",\n        },\n\"iprec_at_recall_0.10\",\n\"01\",\n{\n            'v': 1.0,\n            'f': \"1.0\",\n        }],\n [{\n            'v': 11,\n            'f': \"11\",\n        },\n\"iprec_at_recall_0.20\",\n\"01\",\n{\n            'v': 1.0,\n            'f': \"1.0\",\n        }],\n [{\n            'v': 12,\n            'f': \"12\",\n        },\n\"iprec_at_recall_0.30\",\n\"01\",\n{\n            'v': 1.0,\n            'f': \"1.0\",\n        }],\n [{\n            'v': 13,\n            'f': \"13\",\n        },\n\"iprec_at_recall_0.40\",\n\"01\",\n{\n            'v': 1.0,\n            'f': \"1.0\",\n        }],\n [{\n            'v': 14,\n            'f': \"14\",\n        },\n\"iprec_at_recall_0.50\",\n\"01\",\n{\n            'v': 1.0,\n            'f': \"1.0\",\n        }],\n [{\n            'v': 15,\n            'f': \"15\",\n        },\n\"iprec_at_recall_0.60\",\n\"01\",\n{\n            'v': 1.0,\n            'f': \"1.0\",\n        }],\n [{\n            'v': 16,\n            'f': \"16\",\n        },\n\"iprec_at_recall_0.70\",\n\"01\",\n{\n            'v': 1.0,\n            'f': \"1.0\",\n        }],\n [{\n            'v': 17,\n            'f': \"17\",\n        },\n\"iprec_at_recall_0.80\",\n\"01\",\n{\n            'v': 1.0,\n            'f': \"1.0\",\n        }],\n [{\n            'v': 18,\n            'f': \"18\",\n        },\n\"iprec_at_recall_0.90\",\n\"01\",\n{\n            'v': 1.0,\n            'f': \"1.0\",\n        }],\n [{\n            'v': 19,\n            'f': \"19\",\n        },\n\"iprec_at_recall_1.00\",\n\"01\",\n{\n            'v': 1.0,\n            'f': \"1.0\",\n        }],\n [{\n            'v': 20,\n            'f': \"20\",\n        },\n\"P_5\",\n\"01\",\n{\n            'v': 0.6,\n            'f': \"0.6\",\n        }],\n [{\n            'v': 21,\n            'f': \"21\",\n        },\n\"P_10\",\n\"01\",\n{\n            'v': 0.3,\n            'f': \"0.3\",\n        }],\n [{\n            'v': 22,\n            'f': \"22\",\n        },\n\"P_15\",\n\"01\",\n{\n            'v': 0.2,\n            'f': \"0.2\",\n        }],\n [{\n            'v': 23,\n            'f': \"23\",\n        },\n\"P_20\",\n\"01\",\n{\n            'v': 0.15,\n            'f': \"0.15\",\n        }],\n [{\n            'v': 24,\n            'f': \"24\",\n        },\n\"P_30\",\n\"01\",\n{\n            'v': 0.1,\n            'f': \"0.1\",\n        }],\n [{\n            'v': 25,\n            'f': \"25\",\n        },\n\"P_100\",\n\"01\",\n{\n            'v': 0.03,\n            'f': \"0.03\",\n        }],\n [{\n            'v': 26,\n            'f': \"26\",\n        },\n\"P_200\",\n\"01\",\n{\n            'v': 0.015,\n            'f': \"0.015\",\n        }],\n [{\n            'v': 27,\n            'f': \"27\",\n        },\n\"P_500\",\n\"01\",\n{\n            'v': 0.006,\n            'f': \"0.006\",\n        }],\n [{\n            'v': 28,\n            'f': \"28\",\n        },\n\"P_1000\",\n\"01\",\n{\n            'v': 0.003,\n            'f': \"0.003\",\n        }],\n [{\n            'v': 29,\n            'f': \"29\",\n        },\n\"relstring\",\n\"01\",\n{\n            'v': 0.0,\n            'f': \"0.0\",\n        }],\n [{\n            'v': 30,\n            'f': \"30\",\n        },\n\"recall_5\",\n\"01\",\n{\n            'v': 1.0,\n            'f': \"1.0\",\n        }],\n [{\n            'v': 31,\n            'f': \"31\",\n        },\n\"recall_10\",\n\"01\",\n{\n            'v': 1.0,\n            'f': \"1.0\",\n        }],\n [{\n            'v': 32,\n            'f': \"32\",\n        },\n\"recall_15\",\n\"01\",\n{\n            'v': 1.0,\n            'f': \"1.0\",\n        }],\n [{\n            'v': 33,\n            'f': \"33\",\n        },\n\"recall_20\",\n\"01\",\n{\n            'v': 1.0,\n            'f': \"1.0\",\n        }],\n [{\n            'v': 34,\n            'f': \"34\",\n        },\n\"recall_30\",\n\"01\",\n{\n            'v': 1.0,\n            'f': \"1.0\",\n        }],\n [{\n            'v': 35,\n            'f': \"35\",\n        },\n\"recall_100\",\n\"01\",\n{\n            'v': 1.0,\n            'f': \"1.0\",\n        }],\n [{\n            'v': 36,\n            'f': \"36\",\n        },\n\"recall_200\",\n\"01\",\n{\n            'v': 1.0,\n            'f': \"1.0\",\n        }],\n [{\n            'v': 37,\n            'f': \"37\",\n        },\n\"recall_500\",\n\"01\",\n{\n            'v': 1.0,\n            'f': \"1.0\",\n        }],\n [{\n            'v': 38,\n            'f': \"38\",\n        },\n\"recall_1000\",\n\"01\",\n{\n            'v': 1.0,\n            'f': \"1.0\",\n        }],\n [{\n            'v': 39,\n            'f': \"39\",\n        },\n\"infAP\",\n\"01\",\n{\n            'v': 0.9999972222666659,\n            'f': \"0.9999972222666659\",\n        }],\n [{\n            'v': 40,\n            'f': \"40\",\n        },\n\"gm_bpref\",\n\"01\",\n{\n            'v': 0.0,\n            'f': \"0.0\",\n        }],\n [{\n            'v': 41,\n            'f': \"41\",\n        },\n\"Rprec_mult_0.20\",\n\"01\",\n{\n            'v': 1.0,\n            'f': \"1.0\",\n        }],\n [{\n            'v': 42,\n            'f': \"42\",\n        },\n\"Rprec_mult_0.40\",\n\"01\",\n{\n            'v': 1.0,\n            'f': \"1.0\",\n        }],\n [{\n            'v': 43,\n            'f': \"43\",\n        },\n\"Rprec_mult_0.60\",\n\"01\",\n{\n            'v': 1.0,\n            'f': \"1.0\",\n        }],\n [{\n            'v': 44,\n            'f': \"44\",\n        },\n\"Rprec_mult_0.80\",\n\"01\",\n{\n            'v': 1.0,\n            'f': \"1.0\",\n        }],\n [{\n            'v': 45,\n            'f': \"45\",\n        },\n\"Rprec_mult_1.00\",\n\"01\",\n{\n            'v': 1.0,\n            'f': \"1.0\",\n        }],\n [{\n            'v': 46,\n            'f': \"46\",\n        },\n\"Rprec_mult_1.20\",\n\"01\",\n{\n            'v': 0.75,\n            'f': \"0.75\",\n        }],\n [{\n            'v': 47,\n            'f': \"47\",\n        },\n\"Rprec_mult_1.40\",\n\"01\",\n{\n            'v': 0.6,\n            'f': \"0.6\",\n        }],\n [{\n            'v': 48,\n            'f': \"48\",\n        },\n\"Rprec_mult_1.60\",\n\"01\",\n{\n            'v': 0.6,\n            'f': \"0.6\",\n        }],\n [{\n            'v': 49,\n            'f': \"49\",\n        },\n\"Rprec_mult_1.80\",\n\"01\",\n{\n            'v': 0.5,\n            'f': \"0.5\",\n        }],\n [{\n            'v': 50,\n            'f': \"50\",\n        },\n\"Rprec_mult_2.00\",\n\"01\",\n{\n            'v': 0.5,\n            'f': \"0.5\",\n        }],\n [{\n            'v': 51,\n            'f': \"51\",\n        },\n\"utility\",\n\"01\",\n{\n            'v': 3.0,\n            'f': \"3.0\",\n        }],\n [{\n            'v': 52,\n            'f': \"52\",\n        },\n\"11pt_avg\",\n\"01\",\n{\n            'v': 1.0,\n            'f': \"1.0\",\n        }],\n [{\n            'v': 53,\n            'f': \"53\",\n        },\n\"binG\",\n\"01\",\n{\n            'v': 1.0,\n            'f': \"1.0\",\n        }],\n [{\n            'v': 54,\n            'f': \"54\",\n        },\n\"G\",\n\"01\",\n{\n            'v': 1.0,\n            'f': \"1.0\",\n        }],\n [{\n            'v': 55,\n            'f': \"55\",\n        },\n\"ndcg\",\n\"01\",\n{\n            'v': 1.0,\n            'f': \"1.0\",\n        }],\n [{\n            'v': 56,\n            'f': \"56\",\n        },\n\"ndcg_rel\",\n\"01\",\n{\n            'v': 1.0,\n            'f': \"1.0\",\n        }],\n [{\n            'v': 57,\n            'f': \"57\",\n        },\n\"Rndcg\",\n\"01\",\n{\n            'v': 1.0,\n            'f': \"1.0\",\n        }],\n [{\n            'v': 58,\n            'f': \"58\",\n        },\n\"ndcg_cut_5\",\n\"01\",\n{\n            'v': 1.0,\n            'f': \"1.0\",\n        }],\n [{\n            'v': 59,\n            'f': \"59\",\n        },\n\"ndcg_cut_10\",\n\"01\",\n{\n            'v': 1.0,\n            'f': \"1.0\",\n        }],\n [{\n            'v': 60,\n            'f': \"60\",\n        },\n\"ndcg_cut_15\",\n\"01\",\n{\n            'v': 1.0,\n            'f': \"1.0\",\n        }],\n [{\n            'v': 61,\n            'f': \"61\",\n        },\n\"ndcg_cut_20\",\n\"01\",\n{\n            'v': 1.0,\n            'f': \"1.0\",\n        }],\n [{\n            'v': 62,\n            'f': \"62\",\n        },\n\"ndcg_cut_30\",\n\"01\",\n{\n            'v': 1.0,\n            'f': \"1.0\",\n        }],\n [{\n            'v': 63,\n            'f': \"63\",\n        },\n\"ndcg_cut_100\",\n\"01\",\n{\n            'v': 1.0,\n            'f': \"1.0\",\n        }],\n [{\n            'v': 64,\n            'f': \"64\",\n        },\n\"ndcg_cut_200\",\n\"01\",\n{\n            'v': 1.0,\n            'f': \"1.0\",\n        }],\n [{\n            'v': 65,\n            'f': \"65\",\n        },\n\"ndcg_cut_500\",\n\"01\",\n{\n            'v': 1.0,\n            'f': \"1.0\",\n        }],\n [{\n            'v': 66,\n            'f': \"66\",\n        },\n\"ndcg_cut_1000\",\n\"01\",\n{\n            'v': 1.0,\n            'f': \"1.0\",\n        }],\n [{\n            'v': 67,\n            'f': \"67\",\n        },\n\"map_cut_5\",\n\"01\",\n{\n            'v': 1.0,\n            'f': \"1.0\",\n        }],\n [{\n            'v': 68,\n            'f': \"68\",\n        },\n\"map_cut_10\",\n\"01\",\n{\n            'v': 1.0,\n            'f': \"1.0\",\n        }],\n [{\n            'v': 69,\n            'f': \"69\",\n        },\n\"map_cut_15\",\n\"01\",\n{\n            'v': 1.0,\n            'f': \"1.0\",\n        }],\n [{\n            'v': 70,\n            'f': \"70\",\n        },\n\"map_cut_20\",\n\"01\",\n{\n            'v': 1.0,\n            'f': \"1.0\",\n        }],\n [{\n            'v': 71,\n            'f': \"71\",\n        },\n\"map_cut_30\",\n\"01\",\n{\n            'v': 1.0,\n            'f': \"1.0\",\n        }],\n [{\n            'v': 72,\n            'f': \"72\",\n        },\n\"map_cut_100\",\n\"01\",\n{\n            'v': 1.0,\n            'f': \"1.0\",\n        }],\n [{\n            'v': 73,\n            'f': \"73\",\n        },\n\"map_cut_200\",\n\"01\",\n{\n            'v': 1.0,\n            'f': \"1.0\",\n        }],\n [{\n            'v': 74,\n            'f': \"74\",\n        },\n\"map_cut_500\",\n\"01\",\n{\n            'v': 1.0,\n            'f': \"1.0\",\n        }],\n [{\n            'v': 75,\n            'f': \"75\",\n        },\n\"map_cut_1000\",\n\"01\",\n{\n            'v': 1.0,\n            'f': \"1.0\",\n        }],\n [{\n            'v': 76,\n            'f': \"76\",\n        },\n\"relative_P_5\",\n\"01\",\n{\n            'v': 1.0,\n            'f': \"1.0\",\n        }],\n [{\n            'v': 77,\n            'f': \"77\",\n        },\n\"relative_P_10\",\n\"01\",\n{\n            'v': 1.0,\n            'f': \"1.0\",\n        }],\n [{\n            'v': 78,\n            'f': \"78\",\n        },\n\"relative_P_15\",\n\"01\",\n{\n            'v': 1.0,\n            'f': \"1.0\",\n        }],\n [{\n            'v': 79,\n            'f': \"79\",\n        },\n\"relative_P_20\",\n\"01\",\n{\n            'v': 1.0,\n            'f': \"1.0\",\n        }],\n [{\n            'v': 80,\n            'f': \"80\",\n        },\n\"relative_P_30\",\n\"01\",\n{\n            'v': 1.0,\n            'f': \"1.0\",\n        }],\n [{\n            'v': 81,\n            'f': \"81\",\n        },\n\"relative_P_100\",\n\"01\",\n{\n            'v': 1.0,\n            'f': \"1.0\",\n        }],\n [{\n            'v': 82,\n            'f': \"82\",\n        },\n\"relative_P_200\",\n\"01\",\n{\n            'v': 1.0,\n            'f': \"1.0\",\n        }],\n [{\n            'v': 83,\n            'f': \"83\",\n        },\n\"relative_P_500\",\n\"01\",\n{\n            'v': 1.0,\n            'f': \"1.0\",\n        }],\n [{\n            'v': 84,\n            'f': \"84\",\n        },\n\"relative_P_1000\",\n\"01\",\n{\n            'v': 1.0,\n            'f': \"1.0\",\n        }],\n [{\n            'v': 85,\n            'f': \"85\",\n        },\n\"success_1\",\n\"01\",\n{\n            'v': 1.0,\n            'f': \"1.0\",\n        }],\n [{\n            'v': 86,\n            'f': \"86\",\n        },\n\"success_5\",\n\"01\",\n{\n            'v': 1.0,\n            'f': \"1.0\",\n        }],\n [{\n            'v': 87,\n            'f': \"87\",\n        },\n\"success_10\",\n\"01\",\n{\n            'v': 1.0,\n            'f': \"1.0\",\n        }],\n [{\n            'v': 88,\n            'f': \"88\",\n        },\n\"set_P\",\n\"01\",\n{\n            'v': 1.0,\n            'f': \"1.0\",\n        }],\n [{\n            'v': 89,\n            'f': \"89\",\n        },\n\"set_relative_P\",\n\"01\",\n{\n            'v': 1.0,\n            'f': \"1.0\",\n        }],\n [{\n            'v': 90,\n            'f': \"90\",\n        },\n\"set_recall\",\n\"01\",\n{\n            'v': 1.0,\n            'f': \"1.0\",\n        }],\n [{\n            'v': 91,\n            'f': \"91\",\n        },\n\"set_map\",\n\"01\",\n{\n            'v': 1.0,\n            'f': \"1.0\",\n        }],\n [{\n            'v': 92,\n            'f': \"92\",\n        },\n\"set_F\",\n\"01\",\n{\n            'v': 1.0,\n            'f': \"1.0\",\n        }],\n [{\n            'v': 93,\n            'f': \"93\",\n        },\n\"num_nonrel_judged_ret\",\n\"01\",\n{\n            'v': 0.0,\n            'f': \"0.0\",\n        }],\n [{\n            'v': 94,\n            'f': \"94\",\n        },\n\"num_q\",\n\"02\",\n{\n            'v': 1.0,\n            'f': \"1.0\",\n        }],\n [{\n            'v': 95,\n            'f': \"95\",\n        },\n\"num_ret\",\n\"02\",\n{\n            'v': 11.0,\n            'f': \"11.0\",\n        }],\n [{\n            'v': 96,\n            'f': \"96\",\n        },\n\"num_rel\",\n\"02\",\n{\n            'v': 8.0,\n            'f': \"8.0\",\n        }],\n [{\n            'v': 97,\n            'f': \"97\",\n        },\n\"num_rel_ret\",\n\"02\",\n{\n            'v': 8.0,\n            'f': \"8.0\",\n        }],\n [{\n            'v': 98,\n            'f': \"98\",\n        },\n\"map\",\n\"02\",\n{\n            'v': 0.9206845238095237,\n            'f': \"0.9206845238095237\",\n        }],\n [{\n            'v': 99,\n            'f': \"99\",\n        },\n\"gm_map\",\n\"02\",\n{\n            'v': -0.08263783798620655,\n            'f': \"-0.08263783798620655\",\n        }],\n [{\n            'v': 100,\n            'f': \"100\",\n        },\n\"Rprec\",\n\"02\",\n{\n            'v': 0.875,\n            'f': \"0.875\",\n        }],\n [{\n            'v': 101,\n            'f': \"101\",\n        },\n\"bpref\",\n\"02\",\n{\n            'v': 0.75,\n            'f': \"0.75\",\n        }],\n [{\n            'v': 102,\n            'f': \"102\",\n        },\n\"recip_rank\",\n\"02\",\n{\n            'v': 1.0,\n            'f': \"1.0\",\n        }],\n [{\n            'v': 103,\n            'f': \"103\",\n        },\n\"iprec_at_recall_0.00\",\n\"02\",\n{\n            'v': 1.0,\n            'f': \"1.0\",\n        }],\n [{\n            'v': 104,\n            'f': \"104\",\n        },\n\"iprec_at_recall_0.10\",\n\"02\",\n{\n            'v': 1.0,\n            'f': \"1.0\",\n        }],\n [{\n            'v': 105,\n            'f': \"105\",\n        },\n\"iprec_at_recall_0.20\",\n\"02\",\n{\n            'v': 1.0,\n            'f': \"1.0\",\n        }],\n [{\n            'v': 106,\n            'f': \"106\",\n        },\n\"iprec_at_recall_0.30\",\n\"02\",\n{\n            'v': 1.0,\n            'f': \"1.0\",\n        }],\n [{\n            'v': 107,\n            'f': \"107\",\n        },\n\"iprec_at_recall_0.40\",\n\"02\",\n{\n            'v': 1.0,\n            'f': \"1.0\",\n        }],\n [{\n            'v': 108,\n            'f': \"108\",\n        },\n\"iprec_at_recall_0.50\",\n\"02\",\n{\n            'v': 1.0,\n            'f': \"1.0\",\n        }],\n [{\n            'v': 109,\n            'f': \"109\",\n        },\n\"iprec_at_recall_0.60\",\n\"02\",\n{\n            'v': 0.875,\n            'f': \"0.875\",\n        }],\n [{\n            'v': 110,\n            'f': \"110\",\n        },\n\"iprec_at_recall_0.70\",\n\"02\",\n{\n            'v': 0.875,\n            'f': \"0.875\",\n        }],\n [{\n            'v': 111,\n            'f': \"111\",\n        },\n\"iprec_at_recall_0.80\",\n\"02\",\n{\n            'v': 0.875,\n            'f': \"0.875\",\n        }],\n [{\n            'v': 112,\n            'f': \"112\",\n        },\n\"iprec_at_recall_0.90\",\n\"02\",\n{\n            'v': 0.8,\n            'f': \"0.8\",\n        }],\n [{\n            'v': 113,\n            'f': \"113\",\n        },\n\"iprec_at_recall_1.00\",\n\"02\",\n{\n            'v': 0.8,\n            'f': \"0.8\",\n        }],\n [{\n            'v': 114,\n            'f': \"114\",\n        },\n\"P_5\",\n\"02\",\n{\n            'v': 0.8,\n            'f': \"0.8\",\n        }],\n [{\n            'v': 115,\n            'f': \"115\",\n        },\n\"P_10\",\n\"02\",\n{\n            'v': 0.8,\n            'f': \"0.8\",\n        }],\n [{\n            'v': 116,\n            'f': \"116\",\n        },\n\"P_15\",\n\"02\",\n{\n            'v': 0.5333333333333333,\n            'f': \"0.5333333333333333\",\n        }],\n [{\n            'v': 117,\n            'f': \"117\",\n        },\n\"P_20\",\n\"02\",\n{\n            'v': 0.4,\n            'f': \"0.4\",\n        }],\n [{\n            'v': 118,\n            'f': \"118\",\n        },\n\"P_30\",\n\"02\",\n{\n            'v': 0.26666666666666666,\n            'f': \"0.26666666666666666\",\n        }],\n [{\n            'v': 119,\n            'f': \"119\",\n        },\n\"P_100\",\n\"02\",\n{\n            'v': 0.08,\n            'f': \"0.08\",\n        }],\n [{\n            'v': 120,\n            'f': \"120\",\n        },\n\"P_200\",\n\"02\",\n{\n            'v': 0.04,\n            'f': \"0.04\",\n        }],\n [{\n            'v': 121,\n            'f': \"121\",\n        },\n\"P_500\",\n\"02\",\n{\n            'v': 0.016,\n            'f': \"0.016\",\n        }],\n [{\n            'v': 122,\n            'f': \"122\",\n        },\n\"P_1000\",\n\"02\",\n{\n            'v': 0.008,\n            'f': \"0.008\",\n        }],\n [{\n            'v': 123,\n            'f': \"123\",\n        },\n\"relstring\",\n\"02\",\n{\n            'v': 0.0,\n            'f': \"0.0\",\n        }],\n [{\n            'v': 124,\n            'f': \"124\",\n        },\n\"recall_5\",\n\"02\",\n{\n            'v': 0.5,\n            'f': \"0.5\",\n        }],\n [{\n            'v': 125,\n            'f': \"125\",\n        },\n\"recall_10\",\n\"02\",\n{\n            'v': 1.0,\n            'f': \"1.0\",\n        }],\n [{\n            'v': 126,\n            'f': \"126\",\n        },\n\"recall_15\",\n\"02\",\n{\n            'v': 1.0,\n            'f': \"1.0\",\n        }],\n [{\n            'v': 127,\n            'f': \"127\",\n        },\n\"recall_20\",\n\"02\",\n{\n            'v': 1.0,\n            'f': \"1.0\",\n        }],\n [{\n            'v': 128,\n            'f': \"128\",\n        },\n\"recall_30\",\n\"02\",\n{\n            'v': 1.0,\n            'f': \"1.0\",\n        }],\n [{\n            'v': 129,\n            'f': \"129\",\n        },\n\"recall_100\",\n\"02\",\n{\n            'v': 1.0,\n            'f': \"1.0\",\n        }],\n [{\n            'v': 130,\n            'f': \"130\",\n        },\n\"recall_200\",\n\"02\",\n{\n            'v': 1.0,\n            'f': \"1.0\",\n        }],\n [{\n            'v': 131,\n            'f': \"131\",\n        },\n\"recall_500\",\n\"02\",\n{\n            'v': 1.0,\n            'f': \"1.0\",\n        }],\n [{\n            'v': 132,\n            'f': \"132\",\n        },\n\"recall_1000\",\n\"02\",\n{\n            'v': 1.0,\n            'f': \"1.0\",\n        }],\n [{\n            'v': 133,\n            'f': \"133\",\n        },\n\"infAP\",\n\"02\",\n{\n            'v': 0.9206827202582949,\n            'f': \"0.9206827202582949\",\n        }],\n [{\n            'v': 134,\n            'f': \"134\",\n        },\n\"gm_bpref\",\n\"02\",\n{\n            'v': -0.2876820724517809,\n            'f': \"-0.2876820724517809\",\n        }],\n [{\n            'v': 135,\n            'f': \"135\",\n        },\n\"Rprec_mult_0.20\",\n\"02\",\n{\n            'v': 1.0,\n            'f': \"1.0\",\n        }],\n [{\n            'v': 136,\n            'f': \"136\",\n        },\n\"Rprec_mult_0.40\",\n\"02\",\n{\n            'v': 1.0,\n            'f': \"1.0\",\n        }],\n [{\n            'v': 137,\n            'f': \"137\",\n        },\n\"Rprec_mult_0.60\",\n\"02\",\n{\n            'v': 0.8,\n            'f': \"0.8\",\n        }],\n [{\n            'v': 138,\n            'f': \"138\",\n        },\n\"Rprec_mult_0.80\",\n\"02\",\n{\n            'v': 0.8571428571428571,\n            'f': \"0.8571428571428571\",\n        }],\n [{\n            'v': 139,\n            'f': \"139\",\n        },\n\"Rprec_mult_1.00\",\n\"02\",\n{\n            'v': 0.875,\n            'f': \"0.875\",\n        }],\n [{\n            'v': 140,\n            'f': \"140\",\n        },\n\"Rprec_mult_1.20\",\n\"02\",\n{\n            'v': 0.8,\n            'f': \"0.8\",\n        }],\n [{\n            'v': 141,\n            'f': \"141\",\n        },\n\"Rprec_mult_1.40\",\n\"02\",\n{\n            'v': 0.6666666666666666,\n            'f': \"0.6666666666666666\",\n        }],\n [{\n            'v': 142,\n            'f': \"142\",\n        },\n\"Rprec_mult_1.60\",\n\"02\",\n{\n            'v': 0.6153846153846154,\n            'f': \"0.6153846153846154\",\n        }],\n [{\n            'v': 143,\n            'f': \"143\",\n        },\n\"Rprec_mult_1.80\",\n\"02\",\n{\n            'v': 0.5333333333333333,\n            'f': \"0.5333333333333333\",\n        }],\n [{\n            'v': 144,\n            'f': \"144\",\n        },\n\"Rprec_mult_2.00\",\n\"02\",\n{\n            'v': 0.5,\n            'f': \"0.5\",\n        }],\n [{\n            'v': 145,\n            'f': \"145\",\n        },\n\"utility\",\n\"02\",\n{\n            'v': 5.0,\n            'f': \"5.0\",\n        }],\n [{\n            'v': 146,\n            'f': \"146\",\n        },\n\"11pt_avg\",\n\"02\",\n{\n            'v': 0.9295454545454546,\n            'f': \"0.9295454545454546\",\n        }],\n [{\n            'v': 147,\n            'f': \"147\",\n        },\n\"binG\",\n\"02\",\n{\n            'v': 0.7990986575892967,\n            'f': \"0.7990986575892967\",\n        }],\n [{\n            'v': 148,\n            'f': \"148\",\n        },\n\"G\",\n\"02\",\n{\n            'v': 0.7990986575892967,\n            'f': \"0.7990986575892967\",\n        }],\n [{\n            'v': 149,\n            'f': \"149\",\n        },\n\"ndcg\",\n\"02\",\n{\n            'v': 0.9752652438087495,\n            'f': \"0.9752652438087495\",\n        }],\n [{\n            'v': 150,\n            'f': \"150\",\n        },\n\"ndcg_rel\",\n\"02\",\n{\n            'v': 0.9567517968756745,\n            'f': \"0.9567517968756745\",\n        }],\n [{\n            'v': 151,\n            'f': \"151\",\n        },\n\"Rndcg\",\n\"02\",\n{\n            'v': 0.9387068245867944,\n            'f': \"0.9387068245867944\",\n        }],\n [{\n            'v': 152,\n            'f': \"152\",\n        },\n\"ndcg_cut_5\",\n\"02\",\n{\n            'v': 0.8687949224876582,\n            'f': \"0.8687949224876582\",\n        }],\n [{\n            'v': 153,\n            'f': \"153\",\n        },\n\"ndcg_cut_10\",\n\"02\",\n{\n            'v': 0.9752652438087495,\n            'f': \"0.9752652438087495\",\n        }],\n [{\n            'v': 154,\n            'f': \"154\",\n        },\n\"ndcg_cut_15\",\n\"02\",\n{\n            'v': 0.9752652438087495,\n            'f': \"0.9752652438087495\",\n        }],\n [{\n            'v': 155,\n            'f': \"155\",\n        },\n\"ndcg_cut_20\",\n\"02\",\n{\n            'v': 0.9752652438087495,\n            'f': \"0.9752652438087495\",\n        }],\n [{\n            'v': 156,\n            'f': \"156\",\n        },\n\"ndcg_cut_30\",\n\"02\",\n{\n            'v': 0.9752652438087495,\n            'f': \"0.9752652438087495\",\n        }],\n [{\n            'v': 157,\n            'f': \"157\",\n        },\n\"ndcg_cut_100\",\n\"02\",\n{\n            'v': 0.9752652438087495,\n            'f': \"0.9752652438087495\",\n        }],\n [{\n            'v': 158,\n            'f': \"158\",\n        },\n\"ndcg_cut_200\",\n\"02\",\n{\n            'v': 0.9752652438087495,\n            'f': \"0.9752652438087495\",\n        }],\n [{\n            'v': 159,\n            'f': \"159\",\n        },\n\"ndcg_cut_500\",\n\"02\",\n{\n            'v': 0.9752652438087495,\n            'f': \"0.9752652438087495\",\n        }],\n [{\n            'v': 160,\n            'f': \"160\",\n        },\n\"ndcg_cut_1000\",\n\"02\",\n{\n            'v': 0.9752652438087495,\n            'f': \"0.9752652438087495\",\n        }],\n [{\n            'v': 161,\n            'f': \"161\",\n        },\n\"map_cut_5\",\n\"02\",\n{\n            'v': 0.5,\n            'f': \"0.5\",\n        }],\n [{\n            'v': 162,\n            'f': \"162\",\n        },\n\"map_cut_10\",\n\"02\",\n{\n            'v': 0.9206845238095237,\n            'f': \"0.9206845238095237\",\n        }],\n [{\n            'v': 163,\n            'f': \"163\",\n        },\n\"map_cut_15\",\n\"02\",\n{\n            'v': 0.9206845238095237,\n            'f': \"0.9206845238095237\",\n        }],\n [{\n            'v': 164,\n            'f': \"164\",\n        },\n\"map_cut_20\",\n\"02\",\n{\n            'v': 0.9206845238095237,\n            'f': \"0.9206845238095237\",\n        }],\n [{\n            'v': 165,\n            'f': \"165\",\n        },\n\"map_cut_30\",\n\"02\",\n{\n            'v': 0.9206845238095237,\n            'f': \"0.9206845238095237\",\n        }],\n [{\n            'v': 166,\n            'f': \"166\",\n        },\n\"map_cut_100\",\n\"02\",\n{\n            'v': 0.9206845238095237,\n            'f': \"0.9206845238095237\",\n        }],\n [{\n            'v': 167,\n            'f': \"167\",\n        },\n\"map_cut_200\",\n\"02\",\n{\n            'v': 0.9206845238095237,\n            'f': \"0.9206845238095237\",\n        }],\n [{\n            'v': 168,\n            'f': \"168\",\n        },\n\"map_cut_500\",\n\"02\",\n{\n            'v': 0.9206845238095237,\n            'f': \"0.9206845238095237\",\n        }],\n [{\n            'v': 169,\n            'f': \"169\",\n        },\n\"map_cut_1000\",\n\"02\",\n{\n            'v': 0.9206845238095237,\n            'f': \"0.9206845238095237\",\n        }],\n [{\n            'v': 170,\n            'f': \"170\",\n        },\n\"relative_P_5\",\n\"02\",\n{\n            'v': 0.8,\n            'f': \"0.8\",\n        }],\n [{\n            'v': 171,\n            'f': \"171\",\n        },\n\"relative_P_10\",\n\"02\",\n{\n            'v': 1.0,\n            'f': \"1.0\",\n        }],\n [{\n            'v': 172,\n            'f': \"172\",\n        },\n\"relative_P_15\",\n\"02\",\n{\n            'v': 1.0,\n            'f': \"1.0\",\n        }],\n [{\n            'v': 173,\n            'f': \"173\",\n        },\n\"relative_P_20\",\n\"02\",\n{\n            'v': 1.0,\n            'f': \"1.0\",\n        }],\n [{\n            'v': 174,\n            'f': \"174\",\n        },\n\"relative_P_30\",\n\"02\",\n{\n            'v': 1.0,\n            'f': \"1.0\",\n        }],\n [{\n            'v': 175,\n            'f': \"175\",\n        },\n\"relative_P_100\",\n\"02\",\n{\n            'v': 1.0,\n            'f': \"1.0\",\n        }],\n [{\n            'v': 176,\n            'f': \"176\",\n        },\n\"relative_P_200\",\n\"02\",\n{\n            'v': 1.0,\n            'f': \"1.0\",\n        }],\n [{\n            'v': 177,\n            'f': \"177\",\n        },\n\"relative_P_500\",\n\"02\",\n{\n            'v': 1.0,\n            'f': \"1.0\",\n        }],\n [{\n            'v': 178,\n            'f': \"178\",\n        },\n\"relative_P_1000\",\n\"02\",\n{\n            'v': 1.0,\n            'f': \"1.0\",\n        }],\n [{\n            'v': 179,\n            'f': \"179\",\n        },\n\"success_1\",\n\"02\",\n{\n            'v': 1.0,\n            'f': \"1.0\",\n        }],\n [{\n            'v': 180,\n            'f': \"180\",\n        },\n\"success_5\",\n\"02\",\n{\n            'v': 1.0,\n            'f': \"1.0\",\n        }],\n [{\n            'v': 181,\n            'f': \"181\",\n        },\n\"success_10\",\n\"02\",\n{\n            'v': 1.0,\n            'f': \"1.0\",\n        }],\n [{\n            'v': 182,\n            'f': \"182\",\n        },\n\"set_P\",\n\"02\",\n{\n            'v': 0.7272727272727273,\n            'f': \"0.7272727272727273\",\n        }],\n [{\n            'v': 183,\n            'f': \"183\",\n        },\n\"set_relative_P\",\n\"02\",\n{\n            'v': 1.0,\n            'f': \"1.0\",\n        }],\n [{\n            'v': 184,\n            'f': \"184\",\n        },\n\"set_recall\",\n\"02\",\n{\n            'v': 1.0,\n            'f': \"1.0\",\n        }],\n [{\n            'v': 185,\n            'f': \"185\",\n        },\n\"set_map\",\n\"02\",\n{\n            'v': 0.7272727272727273,\n            'f': \"0.7272727272727273\",\n        }],\n [{\n            'v': 186,\n            'f': \"186\",\n        },\n\"set_F\",\n\"02\",\n{\n            'v': 0.8421052631578948,\n            'f': \"0.8421052631578948\",\n        }],\n [{\n            'v': 187,\n            'f': \"187\",\n        },\n\"num_nonrel_judged_ret\",\n\"02\",\n{\n            'v': 2.0,\n            'f': \"2.0\",\n        }],\n [{\n            'v': 188,\n            'f': \"188\",\n        },\n\"num_q\",\n\"03\",\n{\n            'v': 1.0,\n            'f': \"1.0\",\n        }],\n [{\n            'v': 189,\n            'f': \"189\",\n        },\n\"num_ret\",\n\"03\",\n{\n            'v': 2.0,\n            'f': \"2.0\",\n        }],\n [{\n            'v': 190,\n            'f': \"190\",\n        },\n\"num_rel\",\n\"03\",\n{\n            'v': 1.0,\n            'f': \"1.0\",\n        }],\n [{\n            'v': 191,\n            'f': \"191\",\n        },\n\"num_rel_ret\",\n\"03\",\n{\n            'v': 1.0,\n            'f': \"1.0\",\n        }],\n [{\n            'v': 192,\n            'f': \"192\",\n        },\n\"map\",\n\"03\",\n{\n            'v': 1.0,\n            'f': \"1.0\",\n        }],\n [{\n            'v': 193,\n            'f': \"193\",\n        },\n\"gm_map\",\n\"03\",\n{\n            'v': 0.0,\n            'f': \"0.0\",\n        }],\n [{\n            'v': 194,\n            'f': \"194\",\n        },\n\"Rprec\",\n\"03\",\n{\n            'v': 1.0,\n            'f': \"1.0\",\n        }],\n [{\n            'v': 195,\n            'f': \"195\",\n        },\n\"bpref\",\n\"03\",\n{\n            'v': 1.0,\n            'f': \"1.0\",\n        }],\n [{\n            'v': 196,\n            'f': \"196\",\n        },\n\"recip_rank\",\n\"03\",\n{\n            'v': 1.0,\n            'f': \"1.0\",\n        }],\n [{\n            'v': 197,\n            'f': \"197\",\n        },\n\"iprec_at_recall_0.00\",\n\"03\",\n{\n            'v': 1.0,\n            'f': \"1.0\",\n        }],\n [{\n            'v': 198,\n            'f': \"198\",\n        },\n\"iprec_at_recall_0.10\",\n\"03\",\n{\n            'v': 1.0,\n            'f': \"1.0\",\n        }],\n [{\n            'v': 199,\n            'f': \"199\",\n        },\n\"iprec_at_recall_0.20\",\n\"03\",\n{\n            'v': 1.0,\n            'f': \"1.0\",\n        }],\n [{\n            'v': 200,\n            'f': \"200\",\n        },\n\"iprec_at_recall_0.30\",\n\"03\",\n{\n            'v': 1.0,\n            'f': \"1.0\",\n        }],\n [{\n            'v': 201,\n            'f': \"201\",\n        },\n\"iprec_at_recall_0.40\",\n\"03\",\n{\n            'v': 1.0,\n            'f': \"1.0\",\n        }],\n [{\n            'v': 202,\n            'f': \"202\",\n        },\n\"iprec_at_recall_0.50\",\n\"03\",\n{\n            'v': 1.0,\n            'f': \"1.0\",\n        }],\n [{\n            'v': 203,\n            'f': \"203\",\n        },\n\"iprec_at_recall_0.60\",\n\"03\",\n{\n            'v': 1.0,\n            'f': \"1.0\",\n        }],\n [{\n            'v': 204,\n            'f': \"204\",\n        },\n\"iprec_at_recall_0.70\",\n\"03\",\n{\n            'v': 1.0,\n            'f': \"1.0\",\n        }],\n [{\n            'v': 205,\n            'f': \"205\",\n        },\n\"iprec_at_recall_0.80\",\n\"03\",\n{\n            'v': 1.0,\n            'f': \"1.0\",\n        }],\n [{\n            'v': 206,\n            'f': \"206\",\n        },\n\"iprec_at_recall_0.90\",\n\"03\",\n{\n            'v': 1.0,\n            'f': \"1.0\",\n        }],\n [{\n            'v': 207,\n            'f': \"207\",\n        },\n\"iprec_at_recall_1.00\",\n\"03\",\n{\n            'v': 1.0,\n            'f': \"1.0\",\n        }],\n [{\n            'v': 208,\n            'f': \"208\",\n        },\n\"P_5\",\n\"03\",\n{\n            'v': 0.2,\n            'f': \"0.2\",\n        }],\n [{\n            'v': 209,\n            'f': \"209\",\n        },\n\"P_10\",\n\"03\",\n{\n            'v': 0.1,\n            'f': \"0.1\",\n        }],\n [{\n            'v': 210,\n            'f': \"210\",\n        },\n\"P_15\",\n\"03\",\n{\n            'v': 0.06666666666666667,\n            'f': \"0.06666666666666667\",\n        }],\n [{\n            'v': 211,\n            'f': \"211\",\n        },\n\"P_20\",\n\"03\",\n{\n            'v': 0.05,\n            'f': \"0.05\",\n        }],\n [{\n            'v': 212,\n            'f': \"212\",\n        },\n\"P_30\",\n\"03\",\n{\n            'v': 0.03333333333333333,\n            'f': \"0.03333333333333333\",\n        }],\n [{\n            'v': 213,\n            'f': \"213\",\n        },\n\"P_100\",\n\"03\",\n{\n            'v': 0.01,\n            'f': \"0.01\",\n        }],\n [{\n            'v': 214,\n            'f': \"214\",\n        },\n\"P_200\",\n\"03\",\n{\n            'v': 0.005,\n            'f': \"0.005\",\n        }],\n [{\n            'v': 215,\n            'f': \"215\",\n        },\n\"P_500\",\n\"03\",\n{\n            'v': 0.002,\n            'f': \"0.002\",\n        }],\n [{\n            'v': 216,\n            'f': \"216\",\n        },\n\"P_1000\",\n\"03\",\n{\n            'v': 0.001,\n            'f': \"0.001\",\n        }],\n [{\n            'v': 217,\n            'f': \"217\",\n        },\n\"relstring\",\n\"03\",\n{\n            'v': 0.0,\n            'f': \"0.0\",\n        }],\n [{\n            'v': 218,\n            'f': \"218\",\n        },\n\"recall_5\",\n\"03\",\n{\n            'v': 1.0,\n            'f': \"1.0\",\n        }],\n [{\n            'v': 219,\n            'f': \"219\",\n        },\n\"recall_10\",\n\"03\",\n{\n            'v': 1.0,\n            'f': \"1.0\",\n        }],\n [{\n            'v': 220,\n            'f': \"220\",\n        },\n\"recall_15\",\n\"03\",\n{\n            'v': 1.0,\n            'f': \"1.0\",\n        }],\n [{\n            'v': 221,\n            'f': \"221\",\n        },\n\"recall_20\",\n\"03\",\n{\n            'v': 1.0,\n            'f': \"1.0\",\n        }],\n [{\n            'v': 222,\n            'f': \"222\",\n        },\n\"recall_30\",\n\"03\",\n{\n            'v': 1.0,\n            'f': \"1.0\",\n        }],\n [{\n            'v': 223,\n            'f': \"223\",\n        },\n\"recall_100\",\n\"03\",\n{\n            'v': 1.0,\n            'f': \"1.0\",\n        }],\n [{\n            'v': 224,\n            'f': \"224\",\n        },\n\"recall_200\",\n\"03\",\n{\n            'v': 1.0,\n            'f': \"1.0\",\n        }],\n [{\n            'v': 225,\n            'f': \"225\",\n        },\n\"recall_500\",\n\"03\",\n{\n            'v': 1.0,\n            'f': \"1.0\",\n        }],\n [{\n            'v': 226,\n            'f': \"226\",\n        },\n\"recall_1000\",\n\"03\",\n{\n            'v': 1.0,\n            'f': \"1.0\",\n        }],\n [{\n            'v': 227,\n            'f': \"227\",\n        },\n\"infAP\",\n\"03\",\n{\n            'v': 1.0,\n            'f': \"1.0\",\n        }],\n [{\n            'v': 228,\n            'f': \"228\",\n        },\n\"gm_bpref\",\n\"03\",\n{\n            'v': 0.0,\n            'f': \"0.0\",\n        }],\n [{\n            'v': 229,\n            'f': \"229\",\n        },\n\"Rprec_mult_0.20\",\n\"03\",\n{\n            'v': 1.0,\n            'f': \"1.0\",\n        }],\n [{\n            'v': 230,\n            'f': \"230\",\n        },\n\"Rprec_mult_0.40\",\n\"03\",\n{\n            'v': 1.0,\n            'f': \"1.0\",\n        }],\n [{\n            'v': 231,\n            'f': \"231\",\n        },\n\"Rprec_mult_0.60\",\n\"03\",\n{\n            'v': 1.0,\n            'f': \"1.0\",\n        }],\n [{\n            'v': 232,\n            'f': \"232\",\n        },\n\"Rprec_mult_0.80\",\n\"03\",\n{\n            'v': 1.0,\n            'f': \"1.0\",\n        }],\n [{\n            'v': 233,\n            'f': \"233\",\n        },\n\"Rprec_mult_1.00\",\n\"03\",\n{\n            'v': 1.0,\n            'f': \"1.0\",\n        }],\n [{\n            'v': 234,\n            'f': \"234\",\n        },\n\"Rprec_mult_1.20\",\n\"03\",\n{\n            'v': 0.5,\n            'f': \"0.5\",\n        }],\n [{\n            'v': 235,\n            'f': \"235\",\n        },\n\"Rprec_mult_1.40\",\n\"03\",\n{\n            'v': 0.5,\n            'f': \"0.5\",\n        }],\n [{\n            'v': 236,\n            'f': \"236\",\n        },\n\"Rprec_mult_1.60\",\n\"03\",\n{\n            'v': 0.5,\n            'f': \"0.5\",\n        }],\n [{\n            'v': 237,\n            'f': \"237\",\n        },\n\"Rprec_mult_1.80\",\n\"03\",\n{\n            'v': 0.5,\n            'f': \"0.5\",\n        }],\n [{\n            'v': 238,\n            'f': \"238\",\n        },\n\"Rprec_mult_2.00\",\n\"03\",\n{\n            'v': 0.5,\n            'f': \"0.5\",\n        }],\n [{\n            'v': 239,\n            'f': \"239\",\n        },\n\"utility\",\n\"03\",\n{\n            'v': 0.0,\n            'f': \"0.0\",\n        }],\n [{\n            'v': 240,\n            'f': \"240\",\n        },\n\"11pt_avg\",\n\"03\",\n{\n            'v': 1.0,\n            'f': \"1.0\",\n        }],\n [{\n            'v': 241,\n            'f': \"241\",\n        },\n\"binG\",\n\"03\",\n{\n            'v': 1.0,\n            'f': \"1.0\",\n        }],\n [{\n            'v': 242,\n            'f': \"242\",\n        },\n\"G\",\n\"03\",\n{\n            'v': 1.0,\n            'f': \"1.0\",\n        }],\n [{\n            'v': 243,\n            'f': \"243\",\n        },\n\"ndcg\",\n\"03\",\n{\n            'v': 1.0,\n            'f': \"1.0\",\n        }],\n [{\n            'v': 244,\n            'f': \"244\",\n        },\n\"ndcg_rel\",\n\"03\",\n{\n            'v': 1.0,\n            'f': \"1.0\",\n        }],\n [{\n            'v': 245,\n            'f': \"245\",\n        },\n\"Rndcg\",\n\"03\",\n{\n            'v': 1.0,\n            'f': \"1.0\",\n        }],\n [{\n            'v': 246,\n            'f': \"246\",\n        },\n\"ndcg_cut_5\",\n\"03\",\n{\n            'v': 1.0,\n            'f': \"1.0\",\n        }],\n [{\n            'v': 247,\n            'f': \"247\",\n        },\n\"ndcg_cut_10\",\n\"03\",\n{\n            'v': 1.0,\n            'f': \"1.0\",\n        }],\n [{\n            'v': 248,\n            'f': \"248\",\n        },\n\"ndcg_cut_15\",\n\"03\",\n{\n            'v': 1.0,\n            'f': \"1.0\",\n        }],\n [{\n            'v': 249,\n            'f': \"249\",\n        },\n\"ndcg_cut_20\",\n\"03\",\n{\n            'v': 1.0,\n            'f': \"1.0\",\n        }],\n [{\n            'v': 250,\n            'f': \"250\",\n        },\n\"ndcg_cut_30\",\n\"03\",\n{\n            'v': 1.0,\n            'f': \"1.0\",\n        }],\n [{\n            'v': 251,\n            'f': \"251\",\n        },\n\"ndcg_cut_100\",\n\"03\",\n{\n            'v': 1.0,\n            'f': \"1.0\",\n        }],\n [{\n            'v': 252,\n            'f': \"252\",\n        },\n\"ndcg_cut_200\",\n\"03\",\n{\n            'v': 1.0,\n            'f': \"1.0\",\n        }],\n [{\n            'v': 253,\n            'f': \"253\",\n        },\n\"ndcg_cut_500\",\n\"03\",\n{\n            'v': 1.0,\n            'f': \"1.0\",\n        }],\n [{\n            'v': 254,\n            'f': \"254\",\n        },\n\"ndcg_cut_1000\",\n\"03\",\n{\n            'v': 1.0,\n            'f': \"1.0\",\n        }],\n [{\n            'v': 255,\n            'f': \"255\",\n        },\n\"map_cut_5\",\n\"03\",\n{\n            'v': 1.0,\n            'f': \"1.0\",\n        }],\n [{\n            'v': 256,\n            'f': \"256\",\n        },\n\"map_cut_10\",\n\"03\",\n{\n            'v': 1.0,\n            'f': \"1.0\",\n        }],\n [{\n            'v': 257,\n            'f': \"257\",\n        },\n\"map_cut_15\",\n\"03\",\n{\n            'v': 1.0,\n            'f': \"1.0\",\n        }],\n [{\n            'v': 258,\n            'f': \"258\",\n        },\n\"map_cut_20\",\n\"03\",\n{\n            'v': 1.0,\n            'f': \"1.0\",\n        }],\n [{\n            'v': 259,\n            'f': \"259\",\n        },\n\"map_cut_30\",\n\"03\",\n{\n            'v': 1.0,\n            'f': \"1.0\",\n        }],\n [{\n            'v': 260,\n            'f': \"260\",\n        },\n\"map_cut_100\",\n\"03\",\n{\n            'v': 1.0,\n            'f': \"1.0\",\n        }],\n [{\n            'v': 261,\n            'f': \"261\",\n        },\n\"map_cut_200\",\n\"03\",\n{\n            'v': 1.0,\n            'f': \"1.0\",\n        }],\n [{\n            'v': 262,\n            'f': \"262\",\n        },\n\"map_cut_500\",\n\"03\",\n{\n            'v': 1.0,\n            'f': \"1.0\",\n        }],\n [{\n            'v': 263,\n            'f': \"263\",\n        },\n\"map_cut_1000\",\n\"03\",\n{\n            'v': 1.0,\n            'f': \"1.0\",\n        }],\n [{\n            'v': 264,\n            'f': \"264\",\n        },\n\"relative_P_5\",\n\"03\",\n{\n            'v': 1.0,\n            'f': \"1.0\",\n        }],\n [{\n            'v': 265,\n            'f': \"265\",\n        },\n\"relative_P_10\",\n\"03\",\n{\n            'v': 1.0,\n            'f': \"1.0\",\n        }],\n [{\n            'v': 266,\n            'f': \"266\",\n        },\n\"relative_P_15\",\n\"03\",\n{\n            'v': 1.0,\n            'f': \"1.0\",\n        }],\n [{\n            'v': 267,\n            'f': \"267\",\n        },\n\"relative_P_20\",\n\"03\",\n{\n            'v': 1.0,\n            'f': \"1.0\",\n        }],\n [{\n            'v': 268,\n            'f': \"268\",\n        },\n\"relative_P_30\",\n\"03\",\n{\n            'v': 1.0,\n            'f': \"1.0\",\n        }],\n [{\n            'v': 269,\n            'f': \"269\",\n        },\n\"relative_P_100\",\n\"03\",\n{\n            'v': 1.0,\n            'f': \"1.0\",\n        }],\n [{\n            'v': 270,\n            'f': \"270\",\n        },\n\"relative_P_200\",\n\"03\",\n{\n            'v': 1.0,\n            'f': \"1.0\",\n        }],\n [{\n            'v': 271,\n            'f': \"271\",\n        },\n\"relative_P_500\",\n\"03\",\n{\n            'v': 1.0,\n            'f': \"1.0\",\n        }],\n [{\n            'v': 272,\n            'f': \"272\",\n        },\n\"relative_P_1000\",\n\"03\",\n{\n            'v': 1.0,\n            'f': \"1.0\",\n        }],\n [{\n            'v': 273,\n            'f': \"273\",\n        },\n\"success_1\",\n\"03\",\n{\n            'v': 1.0,\n            'f': \"1.0\",\n        }],\n [{\n            'v': 274,\n            'f': \"274\",\n        },\n\"success_5\",\n\"03\",\n{\n            'v': 1.0,\n            'f': \"1.0\",\n        }],\n [{\n            'v': 275,\n            'f': \"275\",\n        },\n\"success_10\",\n\"03\",\n{\n            'v': 1.0,\n            'f': \"1.0\",\n        }],\n [{\n            'v': 276,\n            'f': \"276\",\n        },\n\"set_P\",\n\"03\",\n{\n            'v': 0.5,\n            'f': \"0.5\",\n        }],\n [{\n            'v': 277,\n            'f': \"277\",\n        },\n\"set_relative_P\",\n\"03\",\n{\n            'v': 1.0,\n            'f': \"1.0\",\n        }],\n [{\n            'v': 278,\n            'f': \"278\",\n        },\n\"set_recall\",\n\"03\",\n{\n            'v': 1.0,\n            'f': \"1.0\",\n        }],\n [{\n            'v': 279,\n            'f': \"279\",\n        },\n\"set_map\",\n\"03\",\n{\n            'v': 0.5,\n            'f': \"0.5\",\n        }],\n [{\n            'v': 280,\n            'f': \"280\",\n        },\n\"set_F\",\n\"03\",\n{\n            'v': 0.6666666666666666,\n            'f': \"0.6666666666666666\",\n        }],\n [{\n            'v': 281,\n            'f': \"281\",\n        },\n\"num_nonrel_judged_ret\",\n\"03\",\n{\n            'v': 1.0,\n            'f': \"1.0\",\n        }],\n [{\n            'v': 282,\n            'f': \"282\",\n        },\n\"num_q\",\n\"04\",\n{\n            'v': 1.0,\n            'f': \"1.0\",\n        }],\n [{\n            'v': 283,\n            'f': \"283\",\n        },\n\"num_ret\",\n\"04\",\n{\n            'v': 8.0,\n            'f': \"8.0\",\n        }],\n [{\n            'v': 284,\n            'f': \"284\",\n        },\n\"num_rel\",\n\"04\",\n{\n            'v': 5.0,\n            'f': \"5.0\",\n        }],\n [{\n            'v': 285,\n            'f': \"285\",\n        },\n\"num_rel_ret\",\n\"04\",\n{\n            'v': 5.0,\n            'f': \"5.0\",\n        }],\n [{\n            'v': 286,\n            'f': \"286\",\n        },\n\"map\",\n\"04\",\n{\n            'v': 0.8392857142857142,\n            'f': \"0.8392857142857142\",\n        }],\n [{\n            'v': 287,\n            'f': \"287\",\n        },\n\"gm_map\",\n\"04\",\n{\n            'v': -0.17520408902509077,\n            'f': \"-0.17520408902509077\",\n        }],\n [{\n            'v': 288,\n            'f': \"288\",\n        },\n\"Rprec\",\n\"04\",\n{\n            'v': 0.6,\n            'f': \"0.6\",\n        }],\n [{\n            'v': 289,\n            'f': \"289\",\n        },\n\"bpref\",\n\"04\",\n{\n            'v': 0.8400000000000001,\n            'f': \"0.8400000000000001\",\n        }],\n [{\n            'v': 290,\n            'f': \"290\",\n        },\n\"recip_rank\",\n\"04\",\n{\n            'v': 1.0,\n            'f': \"1.0\",\n        }],\n [{\n            'v': 291,\n            'f': \"291\",\n        },\n\"iprec_at_recall_0.00\",\n\"04\",\n{\n            'v': 1.0,\n            'f': \"1.0\",\n        }],\n [{\n            'v': 292,\n            'f': \"292\",\n        },\n\"iprec_at_recall_0.10\",\n\"04\",\n{\n            'v': 1.0,\n            'f': \"1.0\",\n        }],\n [{\n            'v': 293,\n            'f': \"293\",\n        },\n\"iprec_at_recall_0.20\",\n\"04\",\n{\n            'v': 1.0,\n            'f': \"1.0\",\n        }],\n [{\n            'v': 294,\n            'f': \"294\",\n        },\n\"iprec_at_recall_0.30\",\n\"04\",\n{\n            'v': 1.0,\n            'f': \"1.0\",\n        }],\n [{\n            'v': 295,\n            'f': \"295\",\n        },\n\"iprec_at_recall_0.40\",\n\"04\",\n{\n            'v': 1.0,\n            'f': \"1.0\",\n        }],\n [{\n            'v': 296,\n            'f': \"296\",\n        },\n\"iprec_at_recall_0.50\",\n\"04\",\n{\n            'v': 1.0,\n            'f': \"1.0\",\n        }],\n [{\n            'v': 297,\n            'f': \"297\",\n        },\n\"iprec_at_recall_0.60\",\n\"04\",\n{\n            'v': 1.0,\n            'f': \"1.0\",\n        }],\n [{\n            'v': 298,\n            'f': \"298\",\n        },\n\"iprec_at_recall_0.70\",\n\"04\",\n{\n            'v': 0.625,\n            'f': \"0.625\",\n        }],\n [{\n            'v': 299,\n            'f': \"299\",\n        },\n\"iprec_at_recall_0.80\",\n\"04\",\n{\n            'v': 0.625,\n            'f': \"0.625\",\n        }],\n [{\n            'v': 300,\n            'f': \"300\",\n        },\n\"iprec_at_recall_0.90\",\n\"04\",\n{\n            'v': 0.625,\n            'f': \"0.625\",\n        }],\n [{\n            'v': 301,\n            'f': \"301\",\n        },\n\"iprec_at_recall_1.00\",\n\"04\",\n{\n            'v': 0.625,\n            'f': \"0.625\",\n        }],\n [{\n            'v': 302,\n            'f': \"302\",\n        },\n\"P_5\",\n\"04\",\n{\n            'v': 0.6,\n            'f': \"0.6\",\n        }],\n [{\n            'v': 303,\n            'f': \"303\",\n        },\n\"P_10\",\n\"04\",\n{\n            'v': 0.5,\n            'f': \"0.5\",\n        }],\n [{\n            'v': 304,\n            'f': \"304\",\n        },\n\"P_15\",\n\"04\",\n{\n            'v': 0.3333333333333333,\n            'f': \"0.3333333333333333\",\n        }],\n [{\n            'v': 305,\n            'f': \"305\",\n        },\n\"P_20\",\n\"04\",\n{\n            'v': 0.25,\n            'f': \"0.25\",\n        }],\n [{\n            'v': 306,\n            'f': \"306\",\n        },\n\"P_30\",\n\"04\",\n{\n            'v': 0.16666666666666666,\n            'f': \"0.16666666666666666\",\n        }],\n [{\n            'v': 307,\n            'f': \"307\",\n        },\n\"P_100\",\n\"04\",\n{\n            'v': 0.05,\n            'f': \"0.05\",\n        }],\n [{\n            'v': 308,\n            'f': \"308\",\n        },\n\"P_200\",\n\"04\",\n{\n            'v': 0.025,\n            'f': \"0.025\",\n        }],\n [{\n            'v': 309,\n            'f': \"309\",\n        },\n\"P_500\",\n\"04\",\n{\n            'v': 0.01,\n            'f': \"0.01\",\n        }],\n [{\n            'v': 310,\n            'f': \"310\",\n        },\n\"P_1000\",\n\"04\",\n{\n            'v': 0.005,\n            'f': \"0.005\",\n        }],\n [{\n            'v': 311,\n            'f': \"311\",\n        },\n\"relstring\",\n\"04\",\n{\n            'v': 0.0,\n            'f': \"0.0\",\n        }],\n [{\n            'v': 312,\n            'f': \"312\",\n        },\n\"recall_5\",\n\"04\",\n{\n            'v': 0.6,\n            'f': \"0.6\",\n        }],\n [{\n            'v': 313,\n            'f': \"313\",\n        },\n\"recall_10\",\n\"04\",\n{\n            'v': 1.0,\n            'f': \"1.0\",\n        }],\n [{\n            'v': 314,\n            'f': \"314\",\n        },\n\"recall_15\",\n\"04\",\n{\n            'v': 1.0,\n            'f': \"1.0\",\n        }],\n [{\n            'v': 315,\n            'f': \"315\",\n        },\n\"recall_20\",\n\"04\",\n{\n            'v': 1.0,\n            'f': \"1.0\",\n        }],\n [{\n            'v': 316,\n            'f': \"316\",\n        },\n\"recall_30\",\n\"04\",\n{\n            'v': 1.0,\n            'f': \"1.0\",\n        }],\n [{\n            'v': 317,\n            'f': \"317\",\n        },\n\"recall_100\",\n\"04\",\n{\n            'v': 1.0,\n            'f': \"1.0\",\n        }],\n [{\n            'v': 318,\n            'f': \"318\",\n        },\n\"recall_200\",\n\"04\",\n{\n            'v': 1.0,\n            'f': \"1.0\",\n        }],\n [{\n            'v': 319,\n            'f': \"319\",\n        },\n\"recall_500\",\n\"04\",\n{\n            'v': 1.0,\n            'f': \"1.0\",\n        }],\n [{\n            'v': 320,\n            'f': \"320\",\n        },\n\"recall_1000\",\n\"04\",\n{\n            'v': 1.0,\n            'f': \"1.0\",\n        }],\n [{\n            'v': 321,\n            'f': \"321\",\n        },\n\"infAP\",\n\"04\",\n{\n            'v': 0.8392839071700298,\n            'f': \"0.8392839071700298\",\n        }],\n [{\n            'v': 322,\n            'f': \"322\",\n        },\n\"gm_bpref\",\n\"04\",\n{\n            'v': -0.17435338714477766,\n            'f': \"-0.17435338714477766\",\n        }],\n [{\n            'v': 323,\n            'f': \"323\",\n        },\n\"Rprec_mult_0.20\",\n\"04\",\n{\n            'v': 1.0,\n            'f': \"1.0\",\n        }],\n [{\n            'v': 324,\n            'f': \"324\",\n        },\n\"Rprec_mult_0.40\",\n\"04\",\n{\n            'v': 1.0,\n            'f': \"1.0\",\n        }],\n [{\n            'v': 325,\n            'f': \"325\",\n        },\n\"Rprec_mult_0.60\",\n\"04\",\n{\n            'v': 1.0,\n            'f': \"1.0\",\n        }],\n [{\n            'v': 326,\n            'f': \"326\",\n        },\n\"Rprec_mult_0.80\",\n\"04\",\n{\n            'v': 0.75,\n            'f': \"0.75\",\n        }],\n [{\n            'v': 327,\n            'f': \"327\",\n        },\n\"Rprec_mult_1.00\",\n\"04\",\n{\n            'v': 0.6,\n            'f': \"0.6\",\n        }],\n [{\n            'v': 328,\n            'f': \"328\",\n        },\n\"Rprec_mult_1.20\",\n\"04\",\n{\n            'v': 0.5,\n            'f': \"0.5\",\n        }],\n [{\n            'v': 329,\n            'f': \"329\",\n        },\n\"Rprec_mult_1.40\",\n\"04\",\n{\n            'v': 0.5714285714285714,\n            'f': \"0.5714285714285714\",\n        }],\n [{\n            'v': 330,\n            'f': \"330\",\n        },\n\"Rprec_mult_1.60\",\n\"04\",\n{\n            'v': 0.625,\n            'f': \"0.625\",\n        }],\n [{\n            'v': 331,\n            'f': \"331\",\n        },\n\"Rprec_mult_1.80\",\n\"04\",\n{\n            'v': 0.5555555555555556,\n            'f': \"0.5555555555555556\",\n        }],\n [{\n            'v': 332,\n            'f': \"332\",\n        },\n\"Rprec_mult_2.00\",\n\"04\",\n{\n            'v': 0.5,\n            'f': \"0.5\",\n        }],\n [{\n            'v': 333,\n            'f': \"333\",\n        },\n\"utility\",\n\"04\",\n{\n            'v': 2.0,\n            'f': \"2.0\",\n        }],\n [{\n            'v': 334,\n            'f': \"334\",\n        },\n\"11pt_avg\",\n\"04\",\n{\n            'v': 0.8636363636363636,\n            'f': \"0.8636363636363636\",\n        }],\n [{\n            'v': 335,\n            'f': \"335\",\n        },\n\"binG\",\n\"04\",\n{\n            'v': 0.7722706232293571,\n            'f': \"0.7722706232293571\",\n        }],\n [{\n            'v': 336,\n            'f': \"336\",\n        },\n\"G\",\n\"04\",\n{\n            'v': 0.7722706232293571,\n            'f': \"0.7722706232293571\",\n        }],\n [{\n            'v': 337,\n            'f': \"337\",\n        },\n\"ndcg\",\n\"04\",\n{\n            'v': 0.9427731067700877,\n            'f': \"0.9427731067700877\",\n        }],\n [{\n            'v': 338,\n            'f': \"338\",\n        },\n\"ndcg_rel\",\n\"04\",\n{\n            'v': 0.9557106162345823,\n            'f': \"0.9557106162345823\",\n        }],\n [{\n            'v': 339,\n            'f': \"339\",\n        },\n\"Rndcg\",\n\"04\",\n{\n            'v': 0.8327498397075198,\n            'f': \"0.8327498397075198\",\n        }],\n [{\n            'v': 340,\n            'f': \"340\",\n        },\n\"ndcg_cut_5\",\n\"04\",\n{\n            'v': 0.7227265726449519,\n            'f': \"0.7227265726449519\",\n        }],\n [{\n            'v': 341,\n            'f': \"341\",\n        },\n\"ndcg_cut_10\",\n\"04\",\n{\n            'v': 0.9427731067700877,\n            'f': \"0.9427731067700877\",\n        }],\n [{\n            'v': 342,\n            'f': \"342\",\n        },\n\"ndcg_cut_15\",\n\"04\",\n{\n            'v': 0.9427731067700877,\n            'f': \"0.9427731067700877\",\n        }],\n [{\n            'v': 343,\n            'f': \"343\",\n        },\n\"ndcg_cut_20\",\n\"04\",\n{\n            'v': 0.9427731067700877,\n            'f': \"0.9427731067700877\",\n        }],\n [{\n            'v': 344,\n            'f': \"344\",\n        },\n\"ndcg_cut_30\",\n\"04\",\n{\n            'v': 0.9427731067700877,\n            'f': \"0.9427731067700877\",\n        }],\n [{\n            'v': 345,\n            'f': \"345\",\n        },\n\"ndcg_cut_100\",\n\"04\",\n{\n            'v': 0.9427731067700877,\n            'f': \"0.9427731067700877\",\n        }],\n [{\n            'v': 346,\n            'f': \"346\",\n        },\n\"ndcg_cut_200\",\n\"04\",\n{\n            'v': 0.9427731067700877,\n            'f': \"0.9427731067700877\",\n        }],\n [{\n            'v': 347,\n            'f': \"347\",\n        },\n\"ndcg_cut_500\",\n\"04\",\n{\n            'v': 0.9427731067700877,\n            'f': \"0.9427731067700877\",\n        }],\n [{\n            'v': 348,\n            'f': \"348\",\n        },\n\"ndcg_cut_1000\",\n\"04\",\n{\n            'v': 0.9427731067700877,\n            'f': \"0.9427731067700877\",\n        }],\n [{\n            'v': 349,\n            'f': \"349\",\n        },\n\"map_cut_5\",\n\"04\",\n{\n            'v': 0.6,\n            'f': \"0.6\",\n        }],\n [{\n            'v': 350,\n            'f': \"350\",\n        },\n\"map_cut_10\",\n\"04\",\n{\n            'v': 0.8392857142857142,\n            'f': \"0.8392857142857142\",\n        }],\n [{\n            'v': 351,\n            'f': \"351\",\n        },\n\"map_cut_15\",\n\"04\",\n{\n            'v': 0.8392857142857142,\n            'f': \"0.8392857142857142\",\n        }],\n [{\n            'v': 352,\n            'f': \"352\",\n        },\n\"map_cut_20\",\n\"04\",\n{\n            'v': 0.8392857142857142,\n            'f': \"0.8392857142857142\",\n        }],\n [{\n            'v': 353,\n            'f': \"353\",\n        },\n\"map_cut_30\",\n\"04\",\n{\n            'v': 0.8392857142857142,\n            'f': \"0.8392857142857142\",\n        }],\n [{\n            'v': 354,\n            'f': \"354\",\n        },\n\"map_cut_100\",\n\"04\",\n{\n            'v': 0.8392857142857142,\n            'f': \"0.8392857142857142\",\n        }],\n [{\n            'v': 355,\n            'f': \"355\",\n        },\n\"map_cut_200\",\n\"04\",\n{\n            'v': 0.8392857142857142,\n            'f': \"0.8392857142857142\",\n        }],\n [{\n            'v': 356,\n            'f': \"356\",\n        },\n\"map_cut_500\",\n\"04\",\n{\n            'v': 0.8392857142857142,\n            'f': \"0.8392857142857142\",\n        }],\n [{\n            'v': 357,\n            'f': \"357\",\n        },\n\"map_cut_1000\",\n\"04\",\n{\n            'v': 0.8392857142857142,\n            'f': \"0.8392857142857142\",\n        }],\n [{\n            'v': 358,\n            'f': \"358\",\n        },\n\"relative_P_5\",\n\"04\",\n{\n            'v': 0.6,\n            'f': \"0.6\",\n        }],\n [{\n            'v': 359,\n            'f': \"359\",\n        },\n\"relative_P_10\",\n\"04\",\n{\n            'v': 1.0,\n            'f': \"1.0\",\n        }],\n [{\n            'v': 360,\n            'f': \"360\",\n        },\n\"relative_P_15\",\n\"04\",\n{\n            'v': 1.0,\n            'f': \"1.0\",\n        }],\n [{\n            'v': 361,\n            'f': \"361\",\n        },\n\"relative_P_20\",\n\"04\",\n{\n            'v': 1.0,\n            'f': \"1.0\",\n        }],\n [{\n            'v': 362,\n            'f': \"362\",\n        },\n\"relative_P_30\",\n\"04\",\n{\n            'v': 1.0,\n            'f': \"1.0\",\n        }],\n [{\n            'v': 363,\n            'f': \"363\",\n        },\n\"relative_P_100\",\n\"04\",\n{\n            'v': 1.0,\n            'f': \"1.0\",\n        }],\n [{\n            'v': 364,\n            'f': \"364\",\n        },\n\"relative_P_200\",\n\"04\",\n{\n            'v': 1.0,\n            'f': \"1.0\",\n        }],\n [{\n            'v': 365,\n            'f': \"365\",\n        },\n\"relative_P_500\",\n\"04\",\n{\n            'v': 1.0,\n            'f': \"1.0\",\n        }],\n [{\n            'v': 366,\n            'f': \"366\",\n        },\n\"relative_P_1000\",\n\"04\",\n{\n            'v': 1.0,\n            'f': \"1.0\",\n        }],\n [{\n            'v': 367,\n            'f': \"367\",\n        },\n\"success_1\",\n\"04\",\n{\n            'v': 1.0,\n            'f': \"1.0\",\n        }],\n [{\n            'v': 368,\n            'f': \"368\",\n        },\n\"success_5\",\n\"04\",\n{\n            'v': 1.0,\n            'f': \"1.0\",\n        }],\n [{\n            'v': 369,\n            'f': \"369\",\n        },\n\"success_10\",\n\"04\",\n{\n            'v': 1.0,\n            'f': \"1.0\",\n        }],\n [{\n            'v': 370,\n            'f': \"370\",\n        },\n\"set_P\",\n\"04\",\n{\n            'v': 0.625,\n            'f': \"0.625\",\n        }],\n [{\n            'v': 371,\n            'f': \"371\",\n        },\n\"set_relative_P\",\n\"04\",\n{\n            'v': 1.0,\n            'f': \"1.0\",\n        }],\n [{\n            'v': 372,\n            'f': \"372\",\n        },\n\"set_recall\",\n\"04\",\n{\n            'v': 1.0,\n            'f': \"1.0\",\n        }],\n [{\n            'v': 373,\n            'f': \"373\",\n        },\n\"set_map\",\n\"04\",\n{\n            'v': 0.625,\n            'f': \"0.625\",\n        }],\n [{\n            'v': 374,\n            'f': \"374\",\n        },\n\"set_F\",\n\"04\",\n{\n            'v': 0.7692307692307693,\n            'f': \"0.7692307692307693\",\n        }],\n [{\n            'v': 375,\n            'f': \"375\",\n        },\n\"num_nonrel_judged_ret\",\n\"04\",\n{\n            'v': 2.0,\n            'f': \"2.0\",\n        }],\n [{\n            'v': 376,\n            'f': \"376\",\n        },\n\"num_q\",\n\"05\",\n{\n            'v': 1.0,\n            'f': \"1.0\",\n        }],\n [{\n            'v': 377,\n            'f': \"377\",\n        },\n\"num_ret\",\n\"05\",\n{\n            'v': 2.0,\n            'f': \"2.0\",\n        }],\n [{\n            'v': 378,\n            'f': \"378\",\n        },\n\"num_rel\",\n\"05\",\n{\n            'v': 2.0,\n            'f': \"2.0\",\n        }],\n [{\n            'v': 379,\n            'f': \"379\",\n        },\n\"num_rel_ret\",\n\"05\",\n{\n            'v': 0.0,\n            'f': \"0.0\",\n        }],\n [{\n            'v': 380,\n            'f': \"380\",\n        },\n\"map\",\n\"05\",\n{\n            'v': 0.0,\n            'f': \"0.0\",\n        }],\n [{\n            'v': 381,\n            'f': \"381\",\n        },\n\"gm_map\",\n\"05\",\n{\n            'v': -11.512925464970229,\n            'f': \"-11.512925464970229\",\n        }],\n [{\n            'v': 382,\n            'f': \"382\",\n        },\n\"Rprec\",\n\"05\",\n{\n            'v': 0.0,\n            'f': \"0.0\",\n        }],\n [{\n            'v': 383,\n            'f': \"383\",\n        },\n\"bpref\",\n\"05\",\n{\n            'v': 0.0,\n            'f': \"0.0\",\n        }],\n [{\n            'v': 384,\n            'f': \"384\",\n        },\n\"recip_rank\",\n\"05\",\n{\n            'v': 0.0,\n            'f': \"0.0\",\n        }],\n [{\n            'v': 385,\n            'f': \"385\",\n        },\n\"iprec_at_recall_0.00\",\n\"05\",\n{\n            'v': 0.0,\n            'f': \"0.0\",\n        }],\n [{\n            'v': 386,\n            'f': \"386\",\n        },\n\"iprec_at_recall_0.10\",\n\"05\",\n{\n            'v': 0.0,\n            'f': \"0.0\",\n        }],\n [{\n            'v': 387,\n            'f': \"387\",\n        },\n\"iprec_at_recall_0.20\",\n\"05\",\n{\n            'v': 0.0,\n            'f': \"0.0\",\n        }],\n [{\n            'v': 388,\n            'f': \"388\",\n        },\n\"iprec_at_recall_0.30\",\n\"05\",\n{\n            'v': 0.0,\n            'f': \"0.0\",\n        }],\n [{\n            'v': 389,\n            'f': \"389\",\n        },\n\"iprec_at_recall_0.40\",\n\"05\",\n{\n            'v': 0.0,\n            'f': \"0.0\",\n        }],\n [{\n            'v': 390,\n            'f': \"390\",\n        },\n\"iprec_at_recall_0.50\",\n\"05\",\n{\n            'v': 0.0,\n            'f': \"0.0\",\n        }],\n [{\n            'v': 391,\n            'f': \"391\",\n        },\n\"iprec_at_recall_0.60\",\n\"05\",\n{\n            'v': 0.0,\n            'f': \"0.0\",\n        }],\n [{\n            'v': 392,\n            'f': \"392\",\n        },\n\"iprec_at_recall_0.70\",\n\"05\",\n{\n            'v': 0.0,\n            'f': \"0.0\",\n        }],\n [{\n            'v': 393,\n            'f': \"393\",\n        },\n\"iprec_at_recall_0.80\",\n\"05\",\n{\n            'v': 0.0,\n            'f': \"0.0\",\n        }],\n [{\n            'v': 394,\n            'f': \"394\",\n        },\n\"iprec_at_recall_0.90\",\n\"05\",\n{\n            'v': 0.0,\n            'f': \"0.0\",\n        }],\n [{\n            'v': 395,\n            'f': \"395\",\n        },\n\"iprec_at_recall_1.00\",\n\"05\",\n{\n            'v': 0.0,\n            'f': \"0.0\",\n        }],\n [{\n            'v': 396,\n            'f': \"396\",\n        },\n\"P_5\",\n\"05\",\n{\n            'v': 0.0,\n            'f': \"0.0\",\n        }],\n [{\n            'v': 397,\n            'f': \"397\",\n        },\n\"P_10\",\n\"05\",\n{\n            'v': 0.0,\n            'f': \"0.0\",\n        }],\n [{\n            'v': 398,\n            'f': \"398\",\n        },\n\"P_15\",\n\"05\",\n{\n            'v': 0.0,\n            'f': \"0.0\",\n        }],\n [{\n            'v': 399,\n            'f': \"399\",\n        },\n\"P_20\",\n\"05\",\n{\n            'v': 0.0,\n            'f': \"0.0\",\n        }],\n [{\n            'v': 400,\n            'f': \"400\",\n        },\n\"P_30\",\n\"05\",\n{\n            'v': 0.0,\n            'f': \"0.0\",\n        }],\n [{\n            'v': 401,\n            'f': \"401\",\n        },\n\"P_100\",\n\"05\",\n{\n            'v': 0.0,\n            'f': \"0.0\",\n        }],\n [{\n            'v': 402,\n            'f': \"402\",\n        },\n\"P_200\",\n\"05\",\n{\n            'v': 0.0,\n            'f': \"0.0\",\n        }],\n [{\n            'v': 403,\n            'f': \"403\",\n        },\n\"P_500\",\n\"05\",\n{\n            'v': 0.0,\n            'f': \"0.0\",\n        }],\n [{\n            'v': 404,\n            'f': \"404\",\n        },\n\"P_1000\",\n\"05\",\n{\n            'v': 0.0,\n            'f': \"0.0\",\n        }],\n [{\n            'v': 405,\n            'f': \"405\",\n        },\n\"relstring\",\n\"05\",\n{\n            'v': 0.0,\n            'f': \"0.0\",\n        }],\n [{\n            'v': 406,\n            'f': \"406\",\n        },\n\"recall_5\",\n\"05\",\n{\n            'v': 0.0,\n            'f': \"0.0\",\n        }],\n [{\n            'v': 407,\n            'f': \"407\",\n        },\n\"recall_10\",\n\"05\",\n{\n            'v': 0.0,\n            'f': \"0.0\",\n        }],\n [{\n            'v': 408,\n            'f': \"408\",\n        },\n\"recall_15\",\n\"05\",\n{\n            'v': 0.0,\n            'f': \"0.0\",\n        }],\n [{\n            'v': 409,\n            'f': \"409\",\n        },\n\"recall_20\",\n\"05\",\n{\n            'v': 0.0,\n            'f': \"0.0\",\n        }],\n [{\n            'v': 410,\n            'f': \"410\",\n        },\n\"recall_30\",\n\"05\",\n{\n            'v': 0.0,\n            'f': \"0.0\",\n        }],\n [{\n            'v': 411,\n            'f': \"411\",\n        },\n\"recall_100\",\n\"05\",\n{\n            'v': 0.0,\n            'f': \"0.0\",\n        }],\n [{\n            'v': 412,\n            'f': \"412\",\n        },\n\"recall_200\",\n\"05\",\n{\n            'v': 0.0,\n            'f': \"0.0\",\n        }],\n [{\n            'v': 413,\n            'f': \"413\",\n        },\n\"recall_500\",\n\"05\",\n{\n            'v': 0.0,\n            'f': \"0.0\",\n        }],\n [{\n            'v': 414,\n            'f': \"414\",\n        },\n\"recall_1000\",\n\"05\",\n{\n            'v': 0.0,\n            'f': \"0.0\",\n        }],\n [{\n            'v': 415,\n            'f': \"415\",\n        },\n\"infAP\",\n\"05\",\n{\n            'v': 0.0,\n            'f': \"0.0\",\n        }],\n [{\n            'v': 416,\n            'f': \"416\",\n        },\n\"gm_bpref\",\n\"05\",\n{\n            'v': -11.512925464970229,\n            'f': \"-11.512925464970229\",\n        }],\n [{\n            'v': 417,\n            'f': \"417\",\n        },\n\"Rprec_mult_0.20\",\n\"05\",\n{\n            'v': 0.0,\n            'f': \"0.0\",\n        }],\n [{\n            'v': 418,\n            'f': \"418\",\n        },\n\"Rprec_mult_0.40\",\n\"05\",\n{\n            'v': 0.0,\n            'f': \"0.0\",\n        }],\n [{\n            'v': 419,\n            'f': \"419\",\n        },\n\"Rprec_mult_0.60\",\n\"05\",\n{\n            'v': 0.0,\n            'f': \"0.0\",\n        }],\n [{\n            'v': 420,\n            'f': \"420\",\n        },\n\"Rprec_mult_0.80\",\n\"05\",\n{\n            'v': 0.0,\n            'f': \"0.0\",\n        }],\n [{\n            'v': 421,\n            'f': \"421\",\n        },\n\"Rprec_mult_1.00\",\n\"05\",\n{\n            'v': 0.0,\n            'f': \"0.0\",\n        }],\n [{\n            'v': 422,\n            'f': \"422\",\n        },\n\"Rprec_mult_1.20\",\n\"05\",\n{\n            'v': 0.0,\n            'f': \"0.0\",\n        }],\n [{\n            'v': 423,\n            'f': \"423\",\n        },\n\"Rprec_mult_1.40\",\n\"05\",\n{\n            'v': 0.0,\n            'f': \"0.0\",\n        }],\n [{\n            'v': 424,\n            'f': \"424\",\n        },\n\"Rprec_mult_1.60\",\n\"05\",\n{\n            'v': 0.0,\n            'f': \"0.0\",\n        }],\n [{\n            'v': 425,\n            'f': \"425\",\n        },\n\"Rprec_mult_1.80\",\n\"05\",\n{\n            'v': 0.0,\n            'f': \"0.0\",\n        }],\n [{\n            'v': 426,\n            'f': \"426\",\n        },\n\"Rprec_mult_2.00\",\n\"05\",\n{\n            'v': 0.0,\n            'f': \"0.0\",\n        }],\n [{\n            'v': 427,\n            'f': \"427\",\n        },\n\"utility\",\n\"05\",\n{\n            'v': -2.0,\n            'f': \"-2.0\",\n        }],\n [{\n            'v': 428,\n            'f': \"428\",\n        },\n\"11pt_avg\",\n\"05\",\n{\n            'v': 0.0,\n            'f': \"0.0\",\n        }],\n [{\n            'v': 429,\n            'f': \"429\",\n        },\n\"binG\",\n\"05\",\n{\n            'v': 0.0,\n            'f': \"0.0\",\n        }],\n [{\n            'v': 430,\n            'f': \"430\",\n        },\n\"G\",\n\"05\",\n{\n            'v': 0.0,\n            'f': \"0.0\",\n        }],\n [{\n            'v': 431,\n            'f': \"431\",\n        },\n\"ndcg\",\n\"05\",\n{\n            'v': 0.0,\n            'f': \"0.0\",\n        }],\n [{\n            'v': 432,\n            'f': \"432\",\n        },\n\"ndcg_rel\",\n\"05\",\n{\n            'v': 0.0,\n            'f': \"0.0\",\n        }],\n [{\n            'v': 433,\n            'f': \"433\",\n        },\n\"Rndcg\",\n\"05\",\n{\n            'v': 0.0,\n            'f': \"0.0\",\n        }],\n [{\n            'v': 434,\n            'f': \"434\",\n        },\n\"ndcg_cut_5\",\n\"05\",\n{\n            'v': 0.0,\n            'f': \"0.0\",\n        }],\n [{\n            'v': 435,\n            'f': \"435\",\n        },\n\"ndcg_cut_10\",\n\"05\",\n{\n            'v': 0.0,\n            'f': \"0.0\",\n        }],\n [{\n            'v': 436,\n            'f': \"436\",\n        },\n\"ndcg_cut_15\",\n\"05\",\n{\n            'v': 0.0,\n            'f': \"0.0\",\n        }],\n [{\n            'v': 437,\n            'f': \"437\",\n        },\n\"ndcg_cut_20\",\n\"05\",\n{\n            'v': 0.0,\n            'f': \"0.0\",\n        }],\n [{\n            'v': 438,\n            'f': \"438\",\n        },\n\"ndcg_cut_30\",\n\"05\",\n{\n            'v': 0.0,\n            'f': \"0.0\",\n        }],\n [{\n            'v': 439,\n            'f': \"439\",\n        },\n\"ndcg_cut_100\",\n\"05\",\n{\n            'v': 0.0,\n            'f': \"0.0\",\n        }],\n [{\n            'v': 440,\n            'f': \"440\",\n        },\n\"ndcg_cut_200\",\n\"05\",\n{\n            'v': 0.0,\n            'f': \"0.0\",\n        }],\n [{\n            'v': 441,\n            'f': \"441\",\n        },\n\"ndcg_cut_500\",\n\"05\",\n{\n            'v': 0.0,\n            'f': \"0.0\",\n        }],\n [{\n            'v': 442,\n            'f': \"442\",\n        },\n\"ndcg_cut_1000\",\n\"05\",\n{\n            'v': 0.0,\n            'f': \"0.0\",\n        }],\n [{\n            'v': 443,\n            'f': \"443\",\n        },\n\"map_cut_5\",\n\"05\",\n{\n            'v': 0.0,\n            'f': \"0.0\",\n        }],\n [{\n            'v': 444,\n            'f': \"444\",\n        },\n\"map_cut_10\",\n\"05\",\n{\n            'v': 0.0,\n            'f': \"0.0\",\n        }],\n [{\n            'v': 445,\n            'f': \"445\",\n        },\n\"map_cut_15\",\n\"05\",\n{\n            'v': 0.0,\n            'f': \"0.0\",\n        }],\n [{\n            'v': 446,\n            'f': \"446\",\n        },\n\"map_cut_20\",\n\"05\",\n{\n            'v': 0.0,\n            'f': \"0.0\",\n        }],\n [{\n            'v': 447,\n            'f': \"447\",\n        },\n\"map_cut_30\",\n\"05\",\n{\n            'v': 0.0,\n            'f': \"0.0\",\n        }],\n [{\n            'v': 448,\n            'f': \"448\",\n        },\n\"map_cut_100\",\n\"05\",\n{\n            'v': 0.0,\n            'f': \"0.0\",\n        }],\n [{\n            'v': 449,\n            'f': \"449\",\n        },\n\"map_cut_200\",\n\"05\",\n{\n            'v': 0.0,\n            'f': \"0.0\",\n        }],\n [{\n            'v': 450,\n            'f': \"450\",\n        },\n\"map_cut_500\",\n\"05\",\n{\n            'v': 0.0,\n            'f': \"0.0\",\n        }],\n [{\n            'v': 451,\n            'f': \"451\",\n        },\n\"map_cut_1000\",\n\"05\",\n{\n            'v': 0.0,\n            'f': \"0.0\",\n        }],\n [{\n            'v': 452,\n            'f': \"452\",\n        },\n\"relative_P_5\",\n\"05\",\n{\n            'v': 0.0,\n            'f': \"0.0\",\n        }],\n [{\n            'v': 453,\n            'f': \"453\",\n        },\n\"relative_P_10\",\n\"05\",\n{\n            'v': 0.0,\n            'f': \"0.0\",\n        }],\n [{\n            'v': 454,\n            'f': \"454\",\n        },\n\"relative_P_15\",\n\"05\",\n{\n            'v': 0.0,\n            'f': \"0.0\",\n        }],\n [{\n            'v': 455,\n            'f': \"455\",\n        },\n\"relative_P_20\",\n\"05\",\n{\n            'v': 0.0,\n            'f': \"0.0\",\n        }],\n [{\n            'v': 456,\n            'f': \"456\",\n        },\n\"relative_P_30\",\n\"05\",\n{\n            'v': 0.0,\n            'f': \"0.0\",\n        }],\n [{\n            'v': 457,\n            'f': \"457\",\n        },\n\"relative_P_100\",\n\"05\",\n{\n            'v': 0.0,\n            'f': \"0.0\",\n        }],\n [{\n            'v': 458,\n            'f': \"458\",\n        },\n\"relative_P_200\",\n\"05\",\n{\n            'v': 0.0,\n            'f': \"0.0\",\n        }],\n [{\n            'v': 459,\n            'f': \"459\",\n        },\n\"relative_P_500\",\n\"05\",\n{\n            'v': 0.0,\n            'f': \"0.0\",\n        }],\n [{\n            'v': 460,\n            'f': \"460\",\n        },\n\"relative_P_1000\",\n\"05\",\n{\n            'v': 0.0,\n            'f': \"0.0\",\n        }],\n [{\n            'v': 461,\n            'f': \"461\",\n        },\n\"success_1\",\n\"05\",\n{\n            'v': 0.0,\n            'f': \"0.0\",\n        }],\n [{\n            'v': 462,\n            'f': \"462\",\n        },\n\"success_5\",\n\"05\",\n{\n            'v': 0.0,\n            'f': \"0.0\",\n        }],\n [{\n            'v': 463,\n            'f': \"463\",\n        },\n\"success_10\",\n\"05\",\n{\n            'v': 0.0,\n            'f': \"0.0\",\n        }],\n [{\n            'v': 464,\n            'f': \"464\",\n        },\n\"set_P\",\n\"05\",\n{\n            'v': 0.0,\n            'f': \"0.0\",\n        }],\n [{\n            'v': 465,\n            'f': \"465\",\n        },\n\"set_relative_P\",\n\"05\",\n{\n            'v': 0.0,\n            'f': \"0.0\",\n        }],\n [{\n            'v': 466,\n            'f': \"466\",\n        },\n\"set_recall\",\n\"05\",\n{\n            'v': 0.0,\n            'f': \"0.0\",\n        }],\n [{\n            'v': 467,\n            'f': \"467\",\n        },\n\"set_map\",\n\"05\",\n{\n            'v': 0.0,\n            'f': \"0.0\",\n        }],\n [{\n            'v': 468,\n            'f': \"468\",\n        },\n\"set_F\",\n\"05\",\n{\n            'v': 0.0,\n            'f': \"0.0\",\n        }],\n [{\n            'v': 469,\n            'f': \"469\",\n        },\n\"num_nonrel_judged_ret\",\n\"05\",\n{\n            'v': 1.0,\n            'f': \"1.0\",\n        }],\n [{\n            'v': 470,\n            'f': \"470\",\n        },\n\"num_q\",\n\"06\",\n{\n            'v': 1.0,\n            'f': \"1.0\",\n        }],\n [{\n            'v': 471,\n            'f': \"471\",\n        },\n\"num_ret\",\n\"06\",\n{\n            'v': 3.0,\n            'f': \"3.0\",\n        }],\n [{\n            'v': 472,\n            'f': \"472\",\n        },\n\"num_rel\",\n\"06\",\n{\n            'v': 2.0,\n            'f': \"2.0\",\n        }],\n [{\n            'v': 473,\n            'f': \"473\",\n        },\n\"num_rel_ret\",\n\"06\",\n{\n            'v': 2.0,\n            'f': \"2.0\",\n        }],\n [{\n            'v': 474,\n            'f': \"474\",\n        },\n\"map\",\n\"06\",\n{\n            'v': 0.8333333333333333,\n            'f': \"0.8333333333333333\",\n        }],\n [{\n            'v': 475,\n            'f': \"475\",\n        },\n\"gm_map\",\n\"06\",\n{\n            'v': -0.1823215567939547,\n            'f': \"-0.1823215567939547\",\n        }],\n [{\n            'v': 476,\n            'f': \"476\",\n        },\n\"Rprec\",\n\"06\",\n{\n            'v': 0.5,\n            'f': \"0.5\",\n        }],\n [{\n            'v': 477,\n            'f': \"477\",\n        },\n\"bpref\",\n\"06\",\n{\n            'v': 1.0,\n            'f': \"1.0\",\n        }],\n [{\n            'v': 478,\n            'f': \"478\",\n        },\n\"recip_rank\",\n\"06\",\n{\n            'v': 1.0,\n            'f': \"1.0\",\n        }],\n [{\n            'v': 479,\n            'f': \"479\",\n        },\n\"iprec_at_recall_0.00\",\n\"06\",\n{\n            'v': 1.0,\n            'f': \"1.0\",\n        }],\n [{\n            'v': 480,\n            'f': \"480\",\n        },\n\"iprec_at_recall_0.10\",\n\"06\",\n{\n            'v': 1.0,\n            'f': \"1.0\",\n        }],\n [{\n            'v': 481,\n            'f': \"481\",\n        },\n\"iprec_at_recall_0.20\",\n\"06\",\n{\n            'v': 1.0,\n            'f': \"1.0\",\n        }],\n [{\n            'v': 482,\n            'f': \"482\",\n        },\n\"iprec_at_recall_0.30\",\n\"06\",\n{\n            'v': 1.0,\n            'f': \"1.0\",\n        }],\n [{\n            'v': 483,\n            'f': \"483\",\n        },\n\"iprec_at_recall_0.40\",\n\"06\",\n{\n            'v': 1.0,\n            'f': \"1.0\",\n        }],\n [{\n            'v': 484,\n            'f': \"484\",\n        },\n\"iprec_at_recall_0.50\",\n\"06\",\n{\n            'v': 1.0,\n            'f': \"1.0\",\n        }],\n [{\n            'v': 485,\n            'f': \"485\",\n        },\n\"iprec_at_recall_0.60\",\n\"06\",\n{\n            'v': 0.6666666666666666,\n            'f': \"0.6666666666666666\",\n        }],\n [{\n            'v': 486,\n            'f': \"486\",\n        },\n\"iprec_at_recall_0.70\",\n\"06\",\n{\n            'v': 0.6666666666666666,\n            'f': \"0.6666666666666666\",\n        }],\n [{\n            'v': 487,\n            'f': \"487\",\n        },\n\"iprec_at_recall_0.80\",\n\"06\",\n{\n            'v': 0.6666666666666666,\n            'f': \"0.6666666666666666\",\n        }],\n [{\n            'v': 488,\n            'f': \"488\",\n        },\n\"iprec_at_recall_0.90\",\n\"06\",\n{\n            'v': 0.6666666666666666,\n            'f': \"0.6666666666666666\",\n        }],\n [{\n            'v': 489,\n            'f': \"489\",\n        },\n\"iprec_at_recall_1.00\",\n\"06\",\n{\n            'v': 0.6666666666666666,\n            'f': \"0.6666666666666666\",\n        }],\n [{\n            'v': 490,\n            'f': \"490\",\n        },\n\"P_5\",\n\"06\",\n{\n            'v': 0.4,\n            'f': \"0.4\",\n        }],\n [{\n            'v': 491,\n            'f': \"491\",\n        },\n\"P_10\",\n\"06\",\n{\n            'v': 0.2,\n            'f': \"0.2\",\n        }],\n [{\n            'v': 492,\n            'f': \"492\",\n        },\n\"P_15\",\n\"06\",\n{\n            'v': 0.13333333333333333,\n            'f': \"0.13333333333333333\",\n        }],\n [{\n            'v': 493,\n            'f': \"493\",\n        },\n\"P_20\",\n\"06\",\n{\n            'v': 0.1,\n            'f': \"0.1\",\n        }],\n [{\n            'v': 494,\n            'f': \"494\",\n        },\n\"P_30\",\n\"06\",\n{\n            'v': 0.06666666666666667,\n            'f': \"0.06666666666666667\",\n        }],\n [{\n            'v': 495,\n            'f': \"495\",\n        },\n\"P_100\",\n\"06\",\n{\n            'v': 0.02,\n            'f': \"0.02\",\n        }],\n [{\n            'v': 496,\n            'f': \"496\",\n        },\n\"P_200\",\n\"06\",\n{\n            'v': 0.01,\n            'f': \"0.01\",\n        }],\n [{\n            'v': 497,\n            'f': \"497\",\n        },\n\"P_500\",\n\"06\",\n{\n            'v': 0.004,\n            'f': \"0.004\",\n        }],\n [{\n            'v': 498,\n            'f': \"498\",\n        },\n\"P_1000\",\n\"06\",\n{\n            'v': 0.002,\n            'f': \"0.002\",\n        }],\n [{\n            'v': 499,\n            'f': \"499\",\n        },\n\"relstring\",\n\"06\",\n{\n            'v': 0.0,\n            'f': \"0.0\",\n        }],\n [{\n            'v': 500,\n            'f': \"500\",\n        },\n\"recall_5\",\n\"06\",\n{\n            'v': 1.0,\n            'f': \"1.0\",\n        }],\n [{\n            'v': 501,\n            'f': \"501\",\n        },\n\"recall_10\",\n\"06\",\n{\n            'v': 1.0,\n            'f': \"1.0\",\n        }],\n [{\n            'v': 502,\n            'f': \"502\",\n        },\n\"recall_15\",\n\"06\",\n{\n            'v': 1.0,\n            'f': \"1.0\",\n        }],\n [{\n            'v': 503,\n            'f': \"503\",\n        },\n\"recall_20\",\n\"06\",\n{\n            'v': 1.0,\n            'f': \"1.0\",\n        }],\n [{\n            'v': 504,\n            'f': \"504\",\n        },\n\"recall_30\",\n\"06\",\n{\n            'v': 1.0,\n            'f': \"1.0\",\n        }],\n [{\n            'v': 505,\n            'f': \"505\",\n        },\n\"recall_100\",\n\"06\",\n{\n            'v': 1.0,\n            'f': \"1.0\",\n        }],\n [{\n            'v': 506,\n            'f': \"506\",\n        },\n\"recall_200\",\n\"06\",\n{\n            'v': 1.0,\n            'f': \"1.0\",\n        }],\n [{\n            'v': 507,\n            'f': \"507\",\n        },\n\"recall_500\",\n\"06\",\n{\n            'v': 1.0,\n            'f': \"1.0\",\n        }],\n [{\n            'v': 508,\n            'f': \"508\",\n        },\n\"recall_1000\",\n\"06\",\n{\n            'v': 1.0,\n            'f': \"1.0\",\n        }],\n [{\n            'v': 509,\n            'f': \"509\",\n        },\n\"infAP\",\n\"06\",\n{\n            'v': 0.8333316666999994,\n            'f': \"0.8333316666999994\",\n        }],\n [{\n            'v': 510,\n            'f': \"510\",\n        },\n\"gm_bpref\",\n\"06\",\n{\n            'v': 0.0,\n            'f': \"0.0\",\n        }],\n [{\n            'v': 511,\n            'f': \"511\",\n        },\n\"Rprec_mult_0.20\",\n\"06\",\n{\n            'v': 1.0,\n            'f': \"1.0\",\n        }],\n [{\n            'v': 512,\n            'f': \"512\",\n        },\n\"Rprec_mult_0.40\",\n\"06\",\n{\n            'v': 1.0,\n            'f': \"1.0\",\n        }],\n [{\n            'v': 513,\n            'f': \"513\",\n        },\n\"Rprec_mult_0.60\",\n\"06\",\n{\n            'v': 0.5,\n            'f': \"0.5\",\n        }],\n [{\n            'v': 514,\n            'f': \"514\",\n        },\n\"Rprec_mult_0.80\",\n\"06\",\n{\n            'v': 0.5,\n            'f': \"0.5\",\n        }],\n [{\n            'v': 515,\n            'f': \"515\",\n        },\n\"Rprec_mult_1.00\",\n\"06\",\n{\n            'v': 0.5,\n            'f': \"0.5\",\n        }],\n [{\n            'v': 516,\n            'f': \"516\",\n        },\n\"Rprec_mult_1.20\",\n\"06\",\n{\n            'v': 0.6666666666666666,\n            'f': \"0.6666666666666666\",\n        }],\n [{\n            'v': 517,\n            'f': \"517\",\n        },\n\"Rprec_mult_1.40\",\n\"06\",\n{\n            'v': 0.6666666666666666,\n            'f': \"0.6666666666666666\",\n        }],\n [{\n            'v': 518,\n            'f': \"518\",\n        },\n\"Rprec_mult_1.60\",\n\"06\",\n{\n            'v': 0.5,\n            'f': \"0.5\",\n        }],\n [{\n            'v': 519,\n            'f': \"519\",\n        },\n\"Rprec_mult_1.80\",\n\"06\",\n{\n            'v': 0.5,\n            'f': \"0.5\",\n        }],\n [{\n            'v': 520,\n            'f': \"520\",\n        },\n\"Rprec_mult_2.00\",\n\"06\",\n{\n            'v': 0.5,\n            'f': \"0.5\",\n        }],\n [{\n            'v': 521,\n            'f': \"521\",\n        },\n\"utility\",\n\"06\",\n{\n            'v': 1.0,\n            'f': \"1.0\",\n        }],\n [{\n            'v': 522,\n            'f': \"522\",\n        },\n\"11pt_avg\",\n\"06\",\n{\n            'v': 0.8484848484848484,\n            'f': \"0.8484848484848484\",\n        }],\n [{\n            'v': 523,\n            'f': \"523\",\n        },\n\"binG\",\n\"06\",\n{\n            'v': 0.8154648767857288,\n            'f': \"0.8154648767857288\",\n        }],\n [{\n            'v': 524,\n            'f': \"524\",\n        },\n\"G\",\n\"06\",\n{\n            'v': 0.8154648767857288,\n            'f': \"0.8154648767857288\",\n        }],\n [{\n            'v': 525,\n            'f': \"525\",\n        },\n\"ndcg\",\n\"06\",\n{\n            'v': 0.9197207891481876,\n            'f': \"0.9197207891481876\",\n        }],\n [{\n            'v': 526,\n            'f': \"526\",\n        },\n\"ndcg_rel\",\n\"06\",\n{\n            'v': 0.9598603945740938,\n            'f': \"0.9598603945740938\",\n        }],\n [{\n            'v': 527,\n            'f': \"527\",\n        },\n\"Rndcg\",\n\"06\",\n{\n            'v': 0.6131471927654584,\n            'f': \"0.6131471927654584\",\n        }],\n [{\n            'v': 528,\n            'f': \"528\",\n        },\n\"ndcg_cut_5\",\n\"06\",\n{\n            'v': 0.9197207891481876,\n            'f': \"0.9197207891481876\",\n        }],\n [{\n            'v': 529,\n            'f': \"529\",\n        },\n\"ndcg_cut_10\",\n\"06\",\n{\n            'v': 0.9197207891481876,\n            'f': \"0.9197207891481876\",\n        }],\n [{\n            'v': 530,\n            'f': \"530\",\n        },\n\"ndcg_cut_15\",\n\"06\",\n{\n            'v': 0.9197207891481876,\n            'f': \"0.9197207891481876\",\n        }],\n [{\n            'v': 531,\n            'f': \"531\",\n        },\n\"ndcg_cut_20\",\n\"06\",\n{\n            'v': 0.9197207891481876,\n            'f': \"0.9197207891481876\",\n        }],\n [{\n            'v': 532,\n            'f': \"532\",\n        },\n\"ndcg_cut_30\",\n\"06\",\n{\n            'v': 0.9197207891481876,\n            'f': \"0.9197207891481876\",\n        }],\n [{\n            'v': 533,\n            'f': \"533\",\n        },\n\"ndcg_cut_100\",\n\"06\",\n{\n            'v': 0.9197207891481876,\n            'f': \"0.9197207891481876\",\n        }],\n [{\n            'v': 534,\n            'f': \"534\",\n        },\n\"ndcg_cut_200\",\n\"06\",\n{\n            'v': 0.9197207891481876,\n            'f': \"0.9197207891481876\",\n        }],\n [{\n            'v': 535,\n            'f': \"535\",\n        },\n\"ndcg_cut_500\",\n\"06\",\n{\n            'v': 0.9197207891481876,\n            'f': \"0.9197207891481876\",\n        }],\n [{\n            'v': 536,\n            'f': \"536\",\n        },\n\"ndcg_cut_1000\",\n\"06\",\n{\n            'v': 0.9197207891481876,\n            'f': \"0.9197207891481876\",\n        }],\n [{\n            'v': 537,\n            'f': \"537\",\n        },\n\"map_cut_5\",\n\"06\",\n{\n            'v': 0.8333333333333333,\n            'f': \"0.8333333333333333\",\n        }],\n [{\n            'v': 538,\n            'f': \"538\",\n        },\n\"map_cut_10\",\n\"06\",\n{\n            'v': 0.8333333333333333,\n            'f': \"0.8333333333333333\",\n        }],\n [{\n            'v': 539,\n            'f': \"539\",\n        },\n\"map_cut_15\",\n\"06\",\n{\n            'v': 0.8333333333333333,\n            'f': \"0.8333333333333333\",\n        }],\n [{\n            'v': 540,\n            'f': \"540\",\n        },\n\"map_cut_20\",\n\"06\",\n{\n            'v': 0.8333333333333333,\n            'f': \"0.8333333333333333\",\n        }],\n [{\n            'v': 541,\n            'f': \"541\",\n        },\n\"map_cut_30\",\n\"06\",\n{\n            'v': 0.8333333333333333,\n            'f': \"0.8333333333333333\",\n        }],\n [{\n            'v': 542,\n            'f': \"542\",\n        },\n\"map_cut_100\",\n\"06\",\n{\n            'v': 0.8333333333333333,\n            'f': \"0.8333333333333333\",\n        }],\n [{\n            'v': 543,\n            'f': \"543\",\n        },\n\"map_cut_200\",\n\"06\",\n{\n            'v': 0.8333333333333333,\n            'f': \"0.8333333333333333\",\n        }],\n [{\n            'v': 544,\n            'f': \"544\",\n        },\n\"map_cut_500\",\n\"06\",\n{\n            'v': 0.8333333333333333,\n            'f': \"0.8333333333333333\",\n        }],\n [{\n            'v': 545,\n            'f': \"545\",\n        },\n\"map_cut_1000\",\n\"06\",\n{\n            'v': 0.8333333333333333,\n            'f': \"0.8333333333333333\",\n        }],\n [{\n            'v': 546,\n            'f': \"546\",\n        },\n\"relative_P_5\",\n\"06\",\n{\n            'v': 1.0,\n            'f': \"1.0\",\n        }],\n [{\n            'v': 547,\n            'f': \"547\",\n        },\n\"relative_P_10\",\n\"06\",\n{\n            'v': 1.0,\n            'f': \"1.0\",\n        }],\n [{\n            'v': 548,\n            'f': \"548\",\n        },\n\"relative_P_15\",\n\"06\",\n{\n            'v': 1.0,\n            'f': \"1.0\",\n        }],\n [{\n            'v': 549,\n            'f': \"549\",\n        },\n\"relative_P_20\",\n\"06\",\n{\n            'v': 1.0,\n            'f': \"1.0\",\n        }],\n [{\n            'v': 550,\n            'f': \"550\",\n        },\n\"relative_P_30\",\n\"06\",\n{\n            'v': 1.0,\n            'f': \"1.0\",\n        }],\n [{\n            'v': 551,\n            'f': \"551\",\n        },\n\"relative_P_100\",\n\"06\",\n{\n            'v': 1.0,\n            'f': \"1.0\",\n        }],\n [{\n            'v': 552,\n            'f': \"552\",\n        },\n\"relative_P_200\",\n\"06\",\n{\n            'v': 1.0,\n            'f': \"1.0\",\n        }],\n [{\n            'v': 553,\n            'f': \"553\",\n        },\n\"relative_P_500\",\n\"06\",\n{\n            'v': 1.0,\n            'f': \"1.0\",\n        }],\n [{\n            'v': 554,\n            'f': \"554\",\n        },\n\"relative_P_1000\",\n\"06\",\n{\n            'v': 1.0,\n            'f': \"1.0\",\n        }],\n [{\n            'v': 555,\n            'f': \"555\",\n        },\n\"success_1\",\n\"06\",\n{\n            'v': 1.0,\n            'f': \"1.0\",\n        }],\n [{\n            'v': 556,\n            'f': \"556\",\n        },\n\"success_5\",\n\"06\",\n{\n            'v': 1.0,\n            'f': \"1.0\",\n        }],\n [{\n            'v': 557,\n            'f': \"557\",\n        },\n\"success_10\",\n\"06\",\n{\n            'v': 1.0,\n            'f': \"1.0\",\n        }],\n [{\n            'v': 558,\n            'f': \"558\",\n        },\n\"set_P\",\n\"06\",\n{\n            'v': 0.6666666666666666,\n            'f': \"0.6666666666666666\",\n        }],\n [{\n            'v': 559,\n            'f': \"559\",\n        },\n\"set_relative_P\",\n\"06\",\n{\n            'v': 1.0,\n            'f': \"1.0\",\n        }],\n [{\n            'v': 560,\n            'f': \"560\",\n        },\n\"set_recall\",\n\"06\",\n{\n            'v': 1.0,\n            'f': \"1.0\",\n        }],\n [{\n            'v': 561,\n            'f': \"561\",\n        },\n\"set_map\",\n\"06\",\n{\n            'v': 0.6666666666666666,\n            'f': \"0.6666666666666666\",\n        }],\n [{\n            'v': 562,\n            'f': \"562\",\n        },\n\"set_F\",\n\"06\",\n{\n            'v': 0.8,\n            'f': \"0.8\",\n        }],\n [{\n            'v': 563,\n            'f': \"563\",\n        },\n\"num_nonrel_judged_ret\",\n\"06\",\n{\n            'v': 0.0,\n            'f': \"0.0\",\n        }],\n [{\n            'v': 564,\n            'f': \"564\",\n        },\n\"num_q\",\n\"all\",\n{\n            'v': 6.0,\n            'f': \"6.0\",\n        }],\n [{\n            'v': 565,\n            'f': \"565\",\n        },\n\"num_ret\",\n\"all\",\n{\n            'v': 29.0,\n            'f': \"29.0\",\n        }],\n [{\n            'v': 566,\n            'f': \"566\",\n        },\n\"num_rel\",\n\"all\",\n{\n            'v': 21.0,\n            'f': \"21.0\",\n        }],\n [{\n            'v': 567,\n            'f': \"567\",\n        },\n\"num_rel_ret\",\n\"all\",\n{\n            'v': 19.0,\n            'f': \"19.0\",\n        }],\n [{\n            'v': 568,\n            'f': \"568\",\n        },\n\"map\",\n\"all\",\n{\n            'v': 0.7655505952380951,\n            'f': \"0.7655505952380951\",\n        }],\n [{\n            'v': 569,\n            'f': \"569\",\n        },\n\"gm_map\",\n\"all\",\n{\n            'v': 0.13639755056582403,\n            'f': \"0.13639755056582403\",\n        }],\n [{\n            'v': 570,\n            'f': \"570\",\n        },\n\"Rprec\",\n\"all\",\n{\n            'v': 0.6625,\n            'f': \"0.6625\",\n        }],\n [{\n            'v': 571,\n            'f': \"571\",\n        },\n\"bpref\",\n\"all\",\n{\n            'v': 0.765,\n            'f': \"0.765\",\n        }],\n [{\n            'v': 572,\n            'f': \"572\",\n        },\n\"recip_rank\",\n\"all\",\n{\n            'v': 0.8333333333333334,\n            'f': \"0.8333333333333334\",\n        }],\n [{\n            'v': 573,\n            'f': \"573\",\n        },\n\"iprec_at_recall_0.00\",\n\"all\",\n{\n            'v': 0.8333333333333334,\n            'f': \"0.8333333333333334\",\n        }],\n [{\n            'v': 574,\n            'f': \"574\",\n        },\n\"iprec_at_recall_0.10\",\n\"all\",\n{\n            'v': 0.8333333333333334,\n            'f': \"0.8333333333333334\",\n        }],\n [{\n            'v': 575,\n            'f': \"575\",\n        },\n\"iprec_at_recall_0.20\",\n\"all\",\n{\n            'v': 0.8333333333333334,\n            'f': \"0.8333333333333334\",\n        }],\n [{\n            'v': 576,\n            'f': \"576\",\n        },\n\"iprec_at_recall_0.30\",\n\"all\",\n{\n            'v': 0.8333333333333334,\n            'f': \"0.8333333333333334\",\n        }],\n [{\n            'v': 577,\n            'f': \"577\",\n        },\n\"iprec_at_recall_0.40\",\n\"all\",\n{\n            'v': 0.8333333333333334,\n            'f': \"0.8333333333333334\",\n        }],\n [{\n            'v': 578,\n            'f': \"578\",\n        },\n\"iprec_at_recall_0.50\",\n\"all\",\n{\n            'v': 0.8333333333333334,\n            'f': \"0.8333333333333334\",\n        }],\n [{\n            'v': 579,\n            'f': \"579\",\n        },\n\"iprec_at_recall_0.60\",\n\"all\",\n{\n            'v': 0.7569444444444445,\n            'f': \"0.7569444444444445\",\n        }],\n [{\n            'v': 580,\n            'f': \"580\",\n        },\n\"iprec_at_recall_0.70\",\n\"all\",\n{\n            'v': 0.6944444444444445,\n            'f': \"0.6944444444444445\",\n        }],\n [{\n            'v': 581,\n            'f': \"581\",\n        },\n\"iprec_at_recall_0.80\",\n\"all\",\n{\n            'v': 0.6944444444444445,\n            'f': \"0.6944444444444445\",\n        }],\n [{\n            'v': 582,\n            'f': \"582\",\n        },\n\"iprec_at_recall_0.90\",\n\"all\",\n{\n            'v': 0.6819444444444445,\n            'f': \"0.6819444444444445\",\n        }],\n [{\n            'v': 583,\n            'f': \"583\",\n        },\n\"iprec_at_recall_1.00\",\n\"all\",\n{\n            'v': 0.6819444444444445,\n            'f': \"0.6819444444444445\",\n        }],\n [{\n            'v': 584,\n            'f': \"584\",\n        },\n\"P_5\",\n\"all\",\n{\n            'v': 0.4333333333333333,\n            'f': \"0.4333333333333333\",\n        }],\n [{\n            'v': 585,\n            'f': \"585\",\n        },\n\"P_10\",\n\"all\",\n{\n            'v': 0.3166666666666667,\n            'f': \"0.3166666666666667\",\n        }],\n [{\n            'v': 586,\n            'f': \"586\",\n        },\n\"P_15\",\n\"all\",\n{\n            'v': 0.2111111111111111,\n            'f': \"0.2111111111111111\",\n        }],\n [{\n            'v': 587,\n            'f': \"587\",\n        },\n\"P_20\",\n\"all\",\n{\n            'v': 0.15833333333333335,\n            'f': \"0.15833333333333335\",\n        }],\n [{\n            'v': 588,\n            'f': \"588\",\n        },\n\"P_30\",\n\"all\",\n{\n            'v': 0.10555555555555556,\n            'f': \"0.10555555555555556\",\n        }],\n [{\n            'v': 589,\n            'f': \"589\",\n        },\n\"P_100\",\n\"all\",\n{\n            'v': 0.03166666666666666,\n            'f': \"0.03166666666666666\",\n        }],\n [{\n            'v': 590,\n            'f': \"590\",\n        },\n\"P_200\",\n\"all\",\n{\n            'v': 0.01583333333333333,\n            'f': \"0.01583333333333333\",\n        }],\n [{\n            'v': 591,\n            'f': \"591\",\n        },\n\"P_500\",\n\"all\",\n{\n            'v': 0.006333333333333334,\n            'f': \"0.006333333333333334\",\n        }],\n [{\n            'v': 592,\n            'f': \"592\",\n        },\n\"P_1000\",\n\"all\",\n{\n            'v': 0.003166666666666667,\n            'f': \"0.003166666666666667\",\n        }],\n [{\n            'v': 593,\n            'f': \"593\",\n        },\n\"relstring\",\n\"all\",\n{\n            'v': 0.0,\n            'f': \"0.0\",\n        }],\n [{\n            'v': 594,\n            'f': \"594\",\n        },\n\"recall_5\",\n\"all\",\n{\n            'v': 0.6833333333333332,\n            'f': \"0.6833333333333332\",\n        }],\n [{\n            'v': 595,\n            'f': \"595\",\n        },\n\"recall_10\",\n\"all\",\n{\n            'v': 0.8333333333333334,\n            'f': \"0.8333333333333334\",\n        }],\n [{\n            'v': 596,\n            'f': \"596\",\n        },\n\"recall_15\",\n\"all\",\n{\n            'v': 0.8333333333333334,\n            'f': \"0.8333333333333334\",\n        }],\n [{\n            'v': 597,\n            'f': \"597\",\n        },\n\"recall_20\",\n\"all\",\n{\n            'v': 0.8333333333333334,\n            'f': \"0.8333333333333334\",\n        }],\n [{\n            'v': 598,\n            'f': \"598\",\n        },\n\"recall_30\",\n\"all\",\n{\n            'v': 0.8333333333333334,\n            'f': \"0.8333333333333334\",\n        }],\n [{\n            'v': 599,\n            'f': \"599\",\n        },\n\"recall_100\",\n\"all\",\n{\n            'v': 0.8333333333333334,\n            'f': \"0.8333333333333334\",\n        }],\n [{\n            'v': 600,\n            'f': \"600\",\n        },\n\"recall_200\",\n\"all\",\n{\n            'v': 0.8333333333333334,\n            'f': \"0.8333333333333334\",\n        }],\n [{\n            'v': 601,\n            'f': \"601\",\n        },\n\"recall_500\",\n\"all\",\n{\n            'v': 0.8333333333333334,\n            'f': \"0.8333333333333334\",\n        }],\n [{\n            'v': 602,\n            'f': \"602\",\n        },\n\"recall_1000\",\n\"all\",\n{\n            'v': 0.8333333333333334,\n            'f': \"0.8333333333333334\",\n        }],\n [{\n            'v': 603,\n            'f': \"603\",\n        },\n\"infAP\",\n\"all\",\n{\n            'v': 0.7655492527324984,\n            'f': \"0.7655492527324984\",\n        }],\n [{\n            'v': 604,\n            'f': \"604\",\n        },\n\"gm_bpref\",\n\"all\",\n{\n            'v': 0.13590124173265797,\n            'f': \"0.13590124173265797\",\n        }],\n [{\n            'v': 605,\n            'f': \"605\",\n        },\n\"Rprec_mult_0.20\",\n\"all\",\n{\n            'v': 0.8333333333333334,\n            'f': \"0.8333333333333334\",\n        }],\n [{\n            'v': 606,\n            'f': \"606\",\n        },\n\"Rprec_mult_0.40\",\n\"all\",\n{\n            'v': 0.8333333333333334,\n            'f': \"0.8333333333333334\",\n        }],\n [{\n            'v': 607,\n            'f': \"607\",\n        },\n\"Rprec_mult_0.60\",\n\"all\",\n{\n            'v': 0.7166666666666667,\n            'f': \"0.7166666666666667\",\n        }],\n [{\n            'v': 608,\n            'f': \"608\",\n        },\n\"Rprec_mult_0.80\",\n\"all\",\n{\n            'v': 0.6845238095238096,\n            'f': \"0.6845238095238096\",\n        }],\n [{\n            'v': 609,\n            'f': \"609\",\n        },\n\"Rprec_mult_1.00\",\n\"all\",\n{\n            'v': 0.6625,\n            'f': \"0.6625\",\n        }],\n [{\n            'v': 610,\n            'f': \"610\",\n        },\n\"Rprec_mult_1.20\",\n\"all\",\n{\n            'v': 0.5361111111111111,\n            'f': \"0.5361111111111111\",\n        }],\n [{\n            'v': 611,\n            'f': \"611\",\n        },\n\"Rprec_mult_1.40\",\n\"all\",\n{\n            'v': 0.5007936507936507,\n            'f': \"0.5007936507936507\",\n        }],\n [{\n            'v': 612,\n            'f': \"612\",\n        },\n\"Rprec_mult_1.60\",\n\"all\",\n{\n            'v': 0.47339743589743594,\n            'f': \"0.47339743589743594\",\n        }],\n [{\n            'v': 613,\n            'f': \"613\",\n        },\n\"Rprec_mult_1.80\",\n\"all\",\n{\n            'v': 0.4314814814814814,\n            'f': \"0.4314814814814814\",\n        }],\n [{\n            'v': 614,\n            'f': \"614\",\n        },\n\"Rprec_mult_2.00\",\n\"all\",\n{\n            'v': 0.4166666666666667,\n            'f': \"0.4166666666666667\",\n        }],\n [{\n            'v': 615,\n            'f': \"615\",\n        },\n\"utility\",\n\"all\",\n{\n            'v': 1.5,\n            'f': \"1.5\",\n        }],\n [{\n            'v': 616,\n            'f': \"616\",\n        },\n\"11pt_avg\",\n\"all\",\n{\n            'v': 0.7736111111111111,\n            'f': \"0.7736111111111111\",\n        }],\n [{\n            'v': 617,\n            'f': \"617\",\n        },\n\"binG\",\n\"all\",\n{\n            'v': 0.731139026267397,\n            'f': \"0.731139026267397\",\n        }],\n [{\n            'v': 618,\n            'f': \"618\",\n        },\n\"G\",\n\"all\",\n{\n            'v': 0.731139026267397,\n            'f': \"0.731139026267397\",\n        }],\n [{\n            'v': 619,\n            'f': \"619\",\n        },\n\"ndcg\",\n\"all\",\n{\n            'v': 0.8062931899545042,\n            'f': \"0.8062931899545042\",\n        }],\n [{\n            'v': 620,\n            'f': \"620\",\n        },\n\"ndcg_rel\",\n\"all\",\n{\n            'v': 0.812053801280725,\n            'f': \"0.812053801280725\",\n        }],\n [{\n            'v': 621,\n            'f': \"621\",\n        },\n\"Rndcg\",\n\"all\",\n{\n            'v': 0.7307673095099622,\n            'f': \"0.7307673095099622\",\n        }],\n [{\n            'v': 622,\n            'f': \"622\",\n        },\n\"ndcg_cut_5\",\n\"all\",\n{\n            'v': 0.7518737140467996,\n            'f': \"0.7518737140467996\",\n        }],\n [{\n            'v': 623,\n            'f': \"623\",\n        },\n\"ndcg_cut_10\",\n\"all\",\n{\n            'v': 0.8062931899545042,\n            'f': \"0.8062931899545042\",\n        }],\n [{\n            'v': 624,\n            'f': \"624\",\n        },\n\"ndcg_cut_15\",\n\"all\",\n{\n            'v': 0.8062931899545042,\n            'f': \"0.8062931899545042\",\n        }],\n [{\n            'v': 625,\n            'f': \"625\",\n        },\n\"ndcg_cut_20\",\n\"all\",\n{\n            'v': 0.8062931899545042,\n            'f': \"0.8062931899545042\",\n        }],\n [{\n            'v': 626,\n            'f': \"626\",\n        },\n\"ndcg_cut_30\",\n\"all\",\n{\n            'v': 0.8062931899545042,\n            'f': \"0.8062931899545042\",\n        }],\n [{\n            'v': 627,\n            'f': \"627\",\n        },\n\"ndcg_cut_100\",\n\"all\",\n{\n            'v': 0.8062931899545042,\n            'f': \"0.8062931899545042\",\n        }],\n [{\n            'v': 628,\n            'f': \"628\",\n        },\n\"ndcg_cut_200\",\n\"all\",\n{\n            'v': 0.8062931899545042,\n            'f': \"0.8062931899545042\",\n        }],\n [{\n            'v': 629,\n            'f': \"629\",\n        },\n\"ndcg_cut_500\",\n\"all\",\n{\n            'v': 0.8062931899545042,\n            'f': \"0.8062931899545042\",\n        }],\n [{\n            'v': 630,\n            'f': \"630\",\n        },\n\"ndcg_cut_1000\",\n\"all\",\n{\n            'v': 0.8062931899545042,\n            'f': \"0.8062931899545042\",\n        }],\n [{\n            'v': 631,\n            'f': \"631\",\n        },\n\"map_cut_5\",\n\"all\",\n{\n            'v': 0.6555555555555556,\n            'f': \"0.6555555555555556\",\n        }],\n [{\n            'v': 632,\n            'f': \"632\",\n        },\n\"map_cut_10\",\n\"all\",\n{\n            'v': 0.7655505952380951,\n            'f': \"0.7655505952380951\",\n        }],\n [{\n            'v': 633,\n            'f': \"633\",\n        },\n\"map_cut_15\",\n\"all\",\n{\n            'v': 0.7655505952380951,\n            'f': \"0.7655505952380951\",\n        }],\n [{\n            'v': 634,\n            'f': \"634\",\n        },\n\"map_cut_20\",\n\"all\",\n{\n            'v': 0.7655505952380951,\n            'f': \"0.7655505952380951\",\n        }],\n [{\n            'v': 635,\n            'f': \"635\",\n        },\n\"map_cut_30\",\n\"all\",\n{\n            'v': 0.7655505952380951,\n            'f': \"0.7655505952380951\",\n        }],\n [{\n            'v': 636,\n            'f': \"636\",\n        },\n\"map_cut_100\",\n\"all\",\n{\n            'v': 0.7655505952380951,\n            'f': \"0.7655505952380951\",\n        }],\n [{\n            'v': 637,\n            'f': \"637\",\n        },\n\"map_cut_200\",\n\"all\",\n{\n            'v': 0.7655505952380951,\n            'f': \"0.7655505952380951\",\n        }],\n [{\n            'v': 638,\n            'f': \"638\",\n        },\n\"map_cut_500\",\n\"all\",\n{\n            'v': 0.7655505952380951,\n            'f': \"0.7655505952380951\",\n        }],\n [{\n            'v': 639,\n            'f': \"639\",\n        },\n\"map_cut_1000\",\n\"all\",\n{\n            'v': 0.7655505952380951,\n            'f': \"0.7655505952380951\",\n        }],\n [{\n            'v': 640,\n            'f': \"640\",\n        },\n\"relative_P_5\",\n\"all\",\n{\n            'v': 0.7333333333333334,\n            'f': \"0.7333333333333334\",\n        }],\n [{\n            'v': 641,\n            'f': \"641\",\n        },\n\"relative_P_10\",\n\"all\",\n{\n            'v': 0.8333333333333334,\n            'f': \"0.8333333333333334\",\n        }],\n [{\n            'v': 642,\n            'f': \"642\",\n        },\n\"relative_P_15\",\n\"all\",\n{\n            'v': 0.8333333333333334,\n            'f': \"0.8333333333333334\",\n        }],\n [{\n            'v': 643,\n            'f': \"643\",\n        },\n\"relative_P_20\",\n\"all\",\n{\n            'v': 0.8333333333333334,\n            'f': \"0.8333333333333334\",\n        }],\n [{\n            'v': 644,\n            'f': \"644\",\n        },\n\"relative_P_30\",\n\"all\",\n{\n            'v': 0.8333333333333334,\n            'f': \"0.8333333333333334\",\n        }],\n [{\n            'v': 645,\n            'f': \"645\",\n        },\n\"relative_P_100\",\n\"all\",\n{\n            'v': 0.8333333333333334,\n            'f': \"0.8333333333333334\",\n        }],\n [{\n            'v': 646,\n            'f': \"646\",\n        },\n\"relative_P_200\",\n\"all\",\n{\n            'v': 0.8333333333333334,\n            'f': \"0.8333333333333334\",\n        }],\n [{\n            'v': 647,\n            'f': \"647\",\n        },\n\"relative_P_500\",\n\"all\",\n{\n            'v': 0.8333333333333334,\n            'f': \"0.8333333333333334\",\n        }],\n [{\n            'v': 648,\n            'f': \"648\",\n        },\n\"relative_P_1000\",\n\"all\",\n{\n            'v': 0.8333333333333334,\n            'f': \"0.8333333333333334\",\n        }],\n [{\n            'v': 649,\n            'f': \"649\",\n        },\n\"success_1\",\n\"all\",\n{\n            'v': 0.8333333333333334,\n            'f': \"0.8333333333333334\",\n        }],\n [{\n            'v': 650,\n            'f': \"650\",\n        },\n\"success_5\",\n\"all\",\n{\n            'v': 0.8333333333333334,\n            'f': \"0.8333333333333334\",\n        }],\n [{\n            'v': 651,\n            'f': \"651\",\n        },\n\"success_10\",\n\"all\",\n{\n            'v': 0.8333333333333334,\n            'f': \"0.8333333333333334\",\n        }],\n [{\n            'v': 652,\n            'f': \"652\",\n        },\n\"set_P\",\n\"all\",\n{\n            'v': 0.586489898989899,\n            'f': \"0.586489898989899\",\n        }],\n [{\n            'v': 653,\n            'f': \"653\",\n        },\n\"set_relative_P\",\n\"all\",\n{\n            'v': 0.8333333333333334,\n            'f': \"0.8333333333333334\",\n        }],\n [{\n            'v': 654,\n            'f': \"654\",\n        },\n\"set_recall\",\n\"all\",\n{\n            'v': 0.8333333333333334,\n            'f': \"0.8333333333333334\",\n        }],\n [{\n            'v': 655,\n            'f': \"655\",\n        },\n\"set_map\",\n\"all\",\n{\n            'v': 0.586489898989899,\n            'f': \"0.586489898989899\",\n        }],\n [{\n            'v': 656,\n            'f': \"656\",\n        },\n\"set_F\",\n\"all\",\n{\n            'v': 0.6796671165092217,\n            'f': \"0.6796671165092217\",\n        }],\n [{\n            'v': 657,\n            'f': \"657\",\n        },\n\"num_nonrel_judged_ret\",\n\"all\",\n{\n            'v': 6.0,\n            'f': \"6.0\",\n        }]],\n        columns: [[\"number\", \"index\"], [\"string\", \"Measure\"], [\"string\", \"Query Id\"], [\"number\", \"Value\"]],\n        columnOptions: [{\"width\": \"1px\", \"className\": \"index_column\"}],\n        rowsPerPage: 25,\n        helpUrl: \"https://colab.research.google.com/notebooks/data_table.ipynb\",\n        suppressOutputScrolling: true,\n        minimumWidth: undefined,\n      });\n    ",
      "text/html": [
       "\n",
       "  <div id=\"df-913d464f-a676-46fb-ba10-3214a42bd704\">\n",
       "    <div class=\"colab-df-container\">\n",
       "      <div>\n",
       "<style scoped>\n",
       "    .dataframe tbody tr th:only-of-type {\n",
       "        vertical-align: middle;\n",
       "    }\n",
       "\n",
       "    .dataframe tbody tr th {\n",
       "        vertical-align: top;\n",
       "    }\n",
       "\n",
       "    .dataframe thead th {\n",
       "        text-align: right;\n",
       "    }\n",
       "</style>\n",
       "<table border=\"1\" class=\"dataframe\">\n",
       "  <thead>\n",
       "    <tr style=\"text-align: right;\">\n",
       "      <th></th>\n",
       "      <th>Measure</th>\n",
       "      <th>Query Id</th>\n",
       "      <th>Value</th>\n",
       "    </tr>\n",
       "  </thead>\n",
       "  <tbody>\n",
       "    <tr>\n",
       "      <th>0</th>\n",
       "      <td>num_q</td>\n",
       "      <td>01</td>\n",
       "      <td>1.000000</td>\n",
       "    </tr>\n",
       "    <tr>\n",
       "      <th>1</th>\n",
       "      <td>num_ret</td>\n",
       "      <td>01</td>\n",
       "      <td>3.000000</td>\n",
       "    </tr>\n",
       "    <tr>\n",
       "      <th>2</th>\n",
       "      <td>num_rel</td>\n",
       "      <td>01</td>\n",
       "      <td>3.000000</td>\n",
       "    </tr>\n",
       "    <tr>\n",
       "      <th>3</th>\n",
       "      <td>num_rel_ret</td>\n",
       "      <td>01</td>\n",
       "      <td>3.000000</td>\n",
       "    </tr>\n",
       "    <tr>\n",
       "      <th>4</th>\n",
       "      <td>map</td>\n",
       "      <td>01</td>\n",
       "      <td>1.000000</td>\n",
       "    </tr>\n",
       "    <tr>\n",
       "      <th>...</th>\n",
       "      <td>...</td>\n",
       "      <td>...</td>\n",
       "      <td>...</td>\n",
       "    </tr>\n",
       "    <tr>\n",
       "      <th>653</th>\n",
       "      <td>set_relative_P</td>\n",
       "      <td>all</td>\n",
       "      <td>0.833333</td>\n",
       "    </tr>\n",
       "    <tr>\n",
       "      <th>654</th>\n",
       "      <td>set_recall</td>\n",
       "      <td>all</td>\n",
       "      <td>0.833333</td>\n",
       "    </tr>\n",
       "    <tr>\n",
       "      <th>655</th>\n",
       "      <td>set_map</td>\n",
       "      <td>all</td>\n",
       "      <td>0.586490</td>\n",
       "    </tr>\n",
       "    <tr>\n",
       "      <th>656</th>\n",
       "      <td>set_F</td>\n",
       "      <td>all</td>\n",
       "      <td>0.679667</td>\n",
       "    </tr>\n",
       "    <tr>\n",
       "      <th>657</th>\n",
       "      <td>num_nonrel_judged_ret</td>\n",
       "      <td>all</td>\n",
       "      <td>6.000000</td>\n",
       "    </tr>\n",
       "  </tbody>\n",
       "</table>\n",
       "<p>658 rows × 3 columns</p>\n",
       "</div>\n",
       "      <button class=\"colab-df-convert\" onclick=\"convertToInteractive('df-913d464f-a676-46fb-ba10-3214a42bd704')\"\n",
       "              title=\"Convert this dataframe to an interactive table.\"\n",
       "              style=\"display:none;\">\n",
       "        \n",
       "  <svg xmlns=\"http://www.w3.org/2000/svg\" height=\"24px\"viewBox=\"0 0 24 24\"\n",
       "       width=\"24px\">\n",
       "    <path d=\"M0 0h24v24H0V0z\" fill=\"none\"/>\n",
       "    <path d=\"M18.56 5.44l.94 2.06.94-2.06 2.06-.94-2.06-.94-.94-2.06-.94 2.06-2.06.94zm-11 1L8.5 8.5l.94-2.06 2.06-.94-2.06-.94L8.5 2.5l-.94 2.06-2.06.94zm10 10l.94 2.06.94-2.06 2.06-.94-2.06-.94-.94-2.06-.94 2.06-2.06.94z\"/><path d=\"M17.41 7.96l-1.37-1.37c-.4-.4-.92-.59-1.43-.59-.52 0-1.04.2-1.43.59L10.3 9.45l-7.72 7.72c-.78.78-.78 2.05 0 2.83L4 21.41c.39.39.9.59 1.41.59.51 0 1.02-.2 1.41-.59l7.78-7.78 2.81-2.81c.8-.78.8-2.07 0-2.86zM5.41 20L4 18.59l7.72-7.72 1.47 1.35L5.41 20z\"/>\n",
       "  </svg>\n",
       "      </button>\n",
       "      \n",
       "  <style>\n",
       "    .colab-df-container {\n",
       "      display:flex;\n",
       "      flex-wrap:wrap;\n",
       "      gap: 12px;\n",
       "    }\n",
       "\n",
       "    .colab-df-convert {\n",
       "      background-color: #E8F0FE;\n",
       "      border: none;\n",
       "      border-radius: 50%;\n",
       "      cursor: pointer;\n",
       "      display: none;\n",
       "      fill: #1967D2;\n",
       "      height: 32px;\n",
       "      padding: 0 0 0 0;\n",
       "      width: 32px;\n",
       "    }\n",
       "\n",
       "    .colab-df-convert:hover {\n",
       "      background-color: #E2EBFA;\n",
       "      box-shadow: 0px 1px 2px rgba(60, 64, 67, 0.3), 0px 1px 3px 1px rgba(60, 64, 67, 0.15);\n",
       "      fill: #174EA6;\n",
       "    }\n",
       "\n",
       "    [theme=dark] .colab-df-convert {\n",
       "      background-color: #3B4455;\n",
       "      fill: #D2E3FC;\n",
       "    }\n",
       "\n",
       "    [theme=dark] .colab-df-convert:hover {\n",
       "      background-color: #434B5C;\n",
       "      box-shadow: 0px 1px 3px 1px rgba(0, 0, 0, 0.15);\n",
       "      filter: drop-shadow(0px 1px 2px rgba(0, 0, 0, 0.3));\n",
       "      fill: #FFFFFF;\n",
       "    }\n",
       "  </style>\n",
       "\n",
       "      <script>\n",
       "        const buttonEl =\n",
       "          document.querySelector('#df-913d464f-a676-46fb-ba10-3214a42bd704 button.colab-df-convert');\n",
       "        buttonEl.style.display =\n",
       "          google.colab.kernel.accessAllowed ? 'block' : 'none';\n",
       "\n",
       "        async function convertToInteractive(key) {\n",
       "          const element = document.querySelector('#df-913d464f-a676-46fb-ba10-3214a42bd704');\n",
       "          const dataTable =\n",
       "            await google.colab.kernel.invokeFunction('convertToInteractive',\n",
       "                                                     [key], {});\n",
       "          if (!dataTable) return;\n",
       "\n",
       "          const docLinkHtml = 'Like what you see? Visit the ' +\n",
       "            '<a target=\"_blank\" href=https://colab.research.google.com/notebooks/data_table.ipynb>data table notebook</a>'\n",
       "            + ' to learn more about interactive tables.';\n",
       "          element.innerHTML = '';\n",
       "          dataTable['output_type'] = 'display_data';\n",
       "          await google.colab.output.renderOutput(dataTable, element);\n",
       "          const docLink = document.createElement('div');\n",
       "          docLink.innerHTML = docLinkHtml;\n",
       "          element.appendChild(docLink);\n",
       "        }\n",
       "      </script>\n",
       "    </div>\n",
       "  </div>\n",
       "  "
      ],
      "text/plain": [
       "                   Measure Query Id     Value\n",
       "0                    num_q       01  1.000000\n",
       "1                  num_ret       01  3.000000\n",
       "2                  num_rel       01  3.000000\n",
       "3              num_rel_ret       01  3.000000\n",
       "4                      map       01  1.000000\n",
       "..                     ...      ...       ...\n",
       "653         set_relative_P      all  0.833333\n",
       "654             set_recall      all  0.833333\n",
       "655                set_map      all  0.586490\n",
       "656                  set_F      all  0.679667\n",
       "657  num_nonrel_judged_ret      all  6.000000\n",
       "\n",
       "[658 rows x 3 columns]"
      ]
     },
     "execution_count": 39,
     "metadata": {},
     "output_type": "execute_result"
    }
   ],
   "source": [
    "pyTrecEval(TOPIC_FILE, QRELS_FILE, myQueryParser2, mySearcher2) "
   ]
  },
  {
   "cell_type": "code",
   "execution_count": 40,
   "metadata": {
    "colab": {
     "base_uri": "https://localhost:8080/"
    },
    "id": "WQa08KoStPTp",
    "outputId": "42fe519d-36d3-4987-cb4a-199edf5fc2fb"
   },
   "outputs": [
    {
     "name": "stdout",
     "output_type": "stream",
     "text": [
      "# docs with 'bit' 11\n",
      "# docs with 'are' 0\n",
      "# docs with 'get' 7\n"
     ]
    }
   ],
   "source": [
    "# let count the same words again\n",
    "myReader2 = myIndex2.reader()\n",
    "print(\"# docs with 'bit'\", myReader2.doc_frequency(\"file_content\", \"bit\"))\n",
    "print(\"# docs with 'are'\", myReader2.doc_frequency(\"file_content\", \"are\"))\n",
    "print(\"# docs with 'get'\", myReader2.doc_frequency(\"file_content\", \"get\"))"
   ]
  },
  {
   "cell_type": "markdown",
   "metadata": {
    "id": "286mQai_tPTr"
   },
   "source": [
    "**Can you explain the differences?**"
   ]
  },
  {
   "cell_type": "markdown",
   "metadata": {
    "id": "LHxWeV1ltPTr"
   },
   "source": [
    "### Using NLTK's stemmers and lemmatizers\n",
    "\n",
    "[NLTK](https://www.nltk.org/) is a very powerful package frequently used in NLP area. We are going to borrow 1) [WordNet](https://wordnet.princeton.edu/) [interface](https://www.nltk.org/howto/wordnet.html) 2) various stemmers to further explore the language processing pipeline."
   ]
  },
  {
   "cell_type": "code",
   "execution_count": 46,
   "metadata": {
    "colab": {
     "base_uri": "https://localhost:8080/"
    },
    "id": "8QN89h1rtPTs",
    "outputId": "a706beb6-1294-42e3-ae6f-0f7734d640cb"
   },
   "outputs": [
    {
     "name": "stderr",
     "output_type": "stream",
     "text": [
      "[nltk_data] Downloading package omw-1.4 to /root/nltk_data...\n"
     ]
    }
   ],
   "source": [
    "import nltk\n",
    "nltk.download('omw-1.4')\n",
    "from nltk.stem import *"
   ]
  },
  {
   "cell_type": "code",
   "execution_count": 42,
   "metadata": {
    "colab": {
     "base_uri": "https://localhost:8080/"
    },
    "id": "_tAOTINetPTt",
    "outputId": "20bd73d1-597f-4840-e07f-87b2d0d0bdb2"
   },
   "outputs": [
    {
     "name": "stderr",
     "output_type": "stream",
     "text": [
      "[nltk_data] Downloading package wordnet to /root/nltk_data...\n"
     ]
    },
    {
     "data": {
      "text/plain": [
       "True"
      ]
     },
     "execution_count": 42,
     "metadata": {},
     "output_type": "execute_result"
    }
   ],
   "source": [
    "# download required resources\n",
    "nltk.download(\"wordnet\")"
   ]
  },
  {
   "cell_type": "code",
   "execution_count": 43,
   "metadata": {
    "id": "47PMWb54tPTv"
   },
   "outputs": [],
   "source": [
    "# we'll compare two stemmers and a lemmatizer\n",
    "lrStem = LancasterStemmer()\n",
    "sbStem = SnowballStemmer(\"english\")\n",
    "wnLemm = WordNetLemmatizer()"
   ]
  },
  {
   "cell_type": "code",
   "execution_count": 44,
   "metadata": {
    "id": "PC01OAIstPTx"
   },
   "outputs": [],
   "source": [
    "# define a list of words to compare the stemmers on\n",
    "listWords = [\"going\", \"saying\", \"minimize\", \"maximum\", \n",
    "             \"meeting\", \"files\", \"tries\", \"is\", \"are\", \"beautiful\",\n",
    "             \"summarize\", \"better\", \"dogs\", \"phenomena\"]"
   ]
  },
  {
   "cell_type": "code",
   "execution_count": 47,
   "metadata": {
    "colab": {
     "base_uri": "https://localhost:8080/"
    },
    "id": "dei5v9GrtPT0",
    "outputId": "502c47a4-5442-4620-eff5-6b6a7c51ab58"
   },
   "outputs": [
    {
     "name": "stdout",
     "output_type": "stream",
     "text": [
      "          going              go           going              go\n",
      "            say             say          saying             say\n",
      "          minim           minim        minimize        minimize\n",
      "          maxim         maximum         maximum         maximum\n",
      "           meet            meet         meeting            meet\n",
      "            fil            file            file            file\n",
      "            tri             tri             try             try\n",
      "             is              is              is              be\n",
      "             ar             are             are              be\n",
      "         beauty          beauti       beautiful       beautiful\n",
      "           summ          summar       summarize       summarize\n",
      "            bet          better          better          better\n",
      "            dog             dog             dog             dog\n",
      "       phenomen       phenomena      phenomenon       phenomena\n"
     ]
    }
   ],
   "source": [
    "for word in listWords:\n",
    "    print(\"%15s %15s %15s %15s\" % (lrStem.stem(word),\n",
    "                                   sbStem.stem(word),\n",
    "                                   wnLemm.lemmatize(word),\n",
    "                                   wnLemm.lemmatize(word, 'v')))"
   ]
  },
  {
   "cell_type": "markdown",
   "metadata": {
    "id": "R6BmsPrntPT3"
   },
   "source": [
    "### How to use NLTK stemmers / lemmatizers in Whoosh"
   ]
  },
  {
   "cell_type": "code",
   "execution_count": 48,
   "metadata": {
    "id": "MXumu_JztPT4"
   },
   "outputs": [],
   "source": [
    "# Dont change this! Use it as-is in your code\n",
    "# This filter will run for both the index and the query\n",
    "from whoosh.analysis import Filter\n",
    "class CustomFilter(Filter):\n",
    "    is_morph = True\n",
    "    def __init__(self, filterFunc, *args, **kwargs):\n",
    "        self.customFilter = filterFunc\n",
    "        self.args = args\n",
    "        self.kwargs = kwargs\n",
    "    def __eq__(self):\n",
    "        return (other\n",
    "                and self.__class__ is other.__class__)\n",
    "    def __call__(self, tokens):\n",
    "        for t in tokens:\n",
    "            if t.mode == 'query': # if called by query parser\n",
    "                t.text = self.customFilter(t.text, *self.args, **self.kwargs)\n",
    "                yield t\n",
    "            else: # == 'index' if called by indexer\n",
    "                t.text = self.customFilter(t.text, *self.args, **self.kwargs)\n",
    "                yield t"
   ]
  },
  {
   "cell_type": "code",
   "execution_count": 49,
   "metadata": {
    "colab": {
     "base_uri": "https://localhost:8080/"
    },
    "id": "q50AgsrmtPT5",
    "outputId": "a4f20818-e97a-41f4-bb2d-901d1ad1fd4b"
   },
   "outputs": [
    {
     "data": {
      "text/plain": [
       "['we', 'ar', 'going', 'to', 'do', 'text', 'analys', 'with', 'whoosh.analysis']"
      ]
     },
     "execution_count": 49,
     "metadata": {},
     "output_type": "execute_result"
    }
   ],
   "source": [
    "# Example1: Whoosh filter for NLTK's LancasterStemmer\n",
    "myFilter1 = RegexTokenizer() | CustomFilter(LancasterStemmer().stem)\n",
    "[token.text for token in myFilter1(\"We are going to do Text Analysis with whoosh.analysis\")]"
   ]
  },
  {
   "cell_type": "code",
   "execution_count": 50,
   "metadata": {
    "colab": {
     "base_uri": "https://localhost:8080/"
    },
    "id": "WUWjmhjZtPT7",
    "outputId": "e9efce5c-689d-4751-9cc2-177fcde3db43"
   },
   "outputs": [
    {
     "data": {
      "text/plain": [
       "['We',\n",
       " 'are',\n",
       " 'going',\n",
       " 'to',\n",
       " 'do',\n",
       " 'Text',\n",
       " 'Analysis',\n",
       " 'with',\n",
       " 'whoosh.analysis']"
      ]
     },
     "execution_count": 50,
     "metadata": {},
     "output_type": "execute_result"
    }
   ],
   "source": [
    "# Example2: Whoosh filter for NLTK's WordNetLemmatizer\n",
    "myFilter2 = RegexTokenizer() | CustomFilter(WordNetLemmatizer().lemmatize)\n",
    "[token.text for token in myFilter2(\"We are going to do Text Analysis with whoosh.analysis\")]"
   ]
  },
  {
   "cell_type": "code",
   "execution_count": 51,
   "metadata": {
    "colab": {
     "base_uri": "https://localhost:8080/"
    },
    "id": "okNoDllntPT8",
    "outputId": "1097b1c9-b1b1-41cf-de7e-bc9285d01b2a"
   },
   "outputs": [
    {
     "data": {
      "text/plain": [
       "['We', 'be', 'go', 'to', 'do', 'Text', 'Analysis', 'with', 'whoosh.analysis']"
      ]
     },
     "execution_count": 51,
     "metadata": {},
     "output_type": "execute_result"
    }
   ],
   "source": [
    "# Example3: Whoosh filter for NLTK's WordNetLemmatizer for verbs\n",
    "myFilter3 = RegexTokenizer() | CustomFilter(WordNetLemmatizer().lemmatize, 'v')\n",
    "[token.text for token in myFilter3(\"We are going to do Text Analysis with whoosh.analysis\")]"
   ]
  },
  {
   "cell_type": "markdown",
   "metadata": {
    "id": "ruhos_p-tPUB"
   },
   "source": [
    "You can now use myFilter1/2/3 as part of your Schema\n",
    "\n",
    "------------\n",
    "You can find details of other NLTK Stemmers and Lemmatizers here:\n",
    "\n",
    "http://www.nltk.org/api/nltk.stem.html"
   ]
  }
 ],
 "metadata": {
  "colab": {
   "provenance": []
  },
  "kernelspec": {
   "display_name": "Python 3 (ipykernel)",
   "language": "python",
   "name": "python3"
  },
  "language_info": {
   "codemirror_mode": {
    "name": "ipython",
    "version": 3
   },
   "file_extension": ".py",
   "mimetype": "text/x-python",
   "name": "python",
   "nbconvert_exporter": "python",
   "pygments_lexer": "ipython3",
   "version": "3.9.12"
  }
 },
 "nbformat": 4,
 "nbformat_minor": 1
}

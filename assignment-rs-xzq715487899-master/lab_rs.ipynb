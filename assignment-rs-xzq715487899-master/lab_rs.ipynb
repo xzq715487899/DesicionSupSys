{
  "nbformat": 4,
  "nbformat_minor": 0,
  "metadata": {
    "anaconda-cloud": {},
    "kernelspec": {
      "display_name": "Python 3",
      "language": "python",
      "name": "python3"
    },
    "language_info": {
      "codemirror_mode": {
        "name": "ipython",
        "version": 2
      },
      "file_extension": ".py",
      "mimetype": "text/x-python",
      "name": "python",
      "nbconvert_exporter": "python",
      "pygments_lexer": "ipython2",
      "version": "2.7.12"
    },
    "colab": {
      "name": "lab_rs.ipynb",
      "provenance": [],
      "collapsed_sections": [],
      "toc_visible": true
    }
  },
  "cells": [
    {
      "cell_type": "markdown",
      "metadata": {
        "collapsed": true,
        "id": "3zkUQsPyuBHt"
      },
      "source": [
        "#Recommendation System (RS) Lab: Recommender for MovieLens"
      ]
    },
    {
      "cell_type": "markdown",
      "metadata": {
        "id": "q516dLQGuBHw"
      },
      "source": [
        "## 0.0 Data Preparation \n"
      ]
    },
    {
      "cell_type": "markdown",
      "source": [
        "### 0.1 Getting MovieLens data"
      ],
      "metadata": {
        "id": "PAvkTMvhMSyt"
      }
    },
    {
      "cell_type": "markdown",
      "metadata": {
        "id": "VbCSqIyZuBHx"
      },
      "source": [
        "* Download the movielens 100k dataset from this link: [ml-100k.zip](http://files.grouplens.org/datasets/movielens/ml-100k.zip)\n",
        "\n",
        "* Upload ml-100k.zip\n",
        "\n",
        "* Extract using the following cell:"
      ]
    },
    {
      "cell_type": "code",
      "metadata": {
        "id": "n5CFVCz8uBHy",
        "outputId": "968f46ba-3fc5-46a9-b874-dc1a4dffe6cc",
        "colab": {
          "base_uri": "https://localhost:8080/"
        }
      },
      "source": [
        "!pip install wget"
      ],
      "execution_count": 1,
      "outputs": [
        {
          "output_type": "stream",
          "name": "stdout",
          "text": [
            "Collecting wget\n",
            "  Downloading wget-3.2.zip (10 kB)\n",
            "Building wheels for collected packages: wget\n",
            "  Building wheel for wget (setup.py) ... \u001b[?25l\u001b[?25hdone\n",
            "  Created wheel for wget: filename=wget-3.2-py3-none-any.whl size=9675 sha256=91053e8264efc6647f09143de2b2e4bce6efa70aa5eb569f7bad62170dde51dc\n",
            "  Stored in directory: /root/.cache/pip/wheels/a1/b6/7c/0e63e34eb06634181c63adacca38b79ff8f35c37e3c13e3c02\n",
            "Successfully built wget\n",
            "Installing collected packages: wget\n",
            "Successfully installed wget-3.2\n"
          ]
        }
      ]
    },
    {
      "cell_type": "code",
      "metadata": {
        "id": "GrkuW0qOuBH3"
      },
      "source": [
        "# import required libraries\n",
        "import numpy as np\n",
        "import pandas as pd\n",
        "from sklearn.metrics.pairwise import pairwise_distances\n",
        "from heapq import nlargest\n",
        "from sklearn.metrics import mean_squared_error\n",
        "from math import sqrt\n",
        "import os.path\n",
        "import wget"
      ],
      "execution_count": 2,
      "outputs": []
    },
    {
      "cell_type": "code",
      "metadata": {
        "id": "kEW5ifakuBH5",
        "outputId": "c337f623-9b6b-487e-813b-0a28ba8724dc",
        "colab": {
          "base_uri": "https://localhost:8080/"
        }
      },
      "source": [
        "# define constant for movie lends 100K directory\n",
        "wget.download(\"https://github.com/MIE1513HS-2022/course-datasets/raw/main/ml-100k.zip\", \"ml-100k.zip\")\n",
        "!unzip ml-100k.zip\n",
        "MOVIELENS_DIR = \"ml-100k/\""
      ],
      "execution_count": 3,
      "outputs": [
        {
          "output_type": "stream",
          "name": "stdout",
          "text": [
            "Archive:  ml-100k.zip\n",
            "   creating: ml-100k/\n",
            "  inflating: ml-100k/allbut.pl       \n",
            "  inflating: ml-100k/mku.sh          \n",
            "  inflating: ml-100k/README          \n",
            "  inflating: ml-100k/u.data          \n",
            "  inflating: ml-100k/u.genre         \n",
            "  inflating: ml-100k/u.info          \n",
            "  inflating: ml-100k/u.item          \n",
            "  inflating: ml-100k/u.occupation    \n",
            "  inflating: ml-100k/u.user          \n",
            "  inflating: ml-100k/u1.base         \n",
            "  inflating: ml-100k/u1.test         \n",
            "  inflating: ml-100k/u2.base         \n",
            "  inflating: ml-100k/u2.test         \n",
            "  inflating: ml-100k/u3.base         \n",
            "  inflating: ml-100k/u3.test         \n",
            "  inflating: ml-100k/u4.base         \n",
            "  inflating: ml-100k/u4.test         \n",
            "  inflating: ml-100k/u5.base         \n",
            "  inflating: ml-100k/u5.test         \n",
            "  inflating: ml-100k/ua.base         \n",
            "  inflating: ml-100k/ua.test         \n",
            "  inflating: ml-100k/ub.base         \n",
            "  inflating: ml-100k/ub.test         \n"
          ]
        }
      ]
    },
    {
      "cell_type": "markdown",
      "metadata": {
        "id": "7N3AEcebuBH8"
      },
      "source": [
        "### 0.2 Loading the data"
      ]
    },
    {
      "cell_type": "markdown",
      "metadata": {
        "id": "vISe4HIcuBH8"
      },
      "source": [
        "First, we inspect the directory content"
      ]
    },
    {
      "cell_type": "code",
      "metadata": {
        "id": "XtVavVn_uBH9",
        "outputId": "410f1bba-6cea-4629-fbb7-96d3d7c9b362",
        "colab": {
          "base_uri": "https://localhost:8080/"
        }
      },
      "source": [
        "!ls $MOVIELENS_DIR"
      ],
      "execution_count": 5,
      "outputs": [
        {
          "output_type": "stream",
          "name": "stdout",
          "text": [
            "allbut.pl  u1.base  u2.test  u4.base  u5.test  ub.base\tu.genre  u.occupation\n",
            "mku.sh\t   u1.test  u3.base  u4.test  ua.base  ub.test\tu.info\t u.user\n",
            "README\t   u2.base  u3.test  u5.base  ua.test  u.data\tu.item\n"
          ]
        }
      ]
    },
    {
      "cell_type": "markdown",
      "metadata": {
        "id": "kCTgOrhjuBIB"
      },
      "source": [
        "We then load the full MovieLens 100K dataset to find the number of users and items"
      ]
    },
    {
      "cell_type": "code",
      "metadata": {
        "id": "LiIQ73vXuBIC",
        "outputId": "21ca82a7-4676-4fb3-a909-eaef92bf3edc",
        "colab": {
          "base_uri": "https://localhost:8080/",
          "height": 206
        }
      },
      "source": [
        "fields = ['userID', 'itemID', 'rating', 'timestamp']\n",
        "ratingDF = pd.read_csv(os.path.join(MOVIELENS_DIR, 'u.data'), sep='\\t', names=fields)\n",
        "\n",
        "ratingDF.head()"
      ],
      "execution_count": 6,
      "outputs": [
        {
          "output_type": "execute_result",
          "data": {
            "text/html": [
              "\n",
              "  <div id=\"df-9c1a1d6d-770c-4838-835a-172d5da0afc4\">\n",
              "    <div class=\"colab-df-container\">\n",
              "      <div>\n",
              "<style scoped>\n",
              "    .dataframe tbody tr th:only-of-type {\n",
              "        vertical-align: middle;\n",
              "    }\n",
              "\n",
              "    .dataframe tbody tr th {\n",
              "        vertical-align: top;\n",
              "    }\n",
              "\n",
              "    .dataframe thead th {\n",
              "        text-align: right;\n",
              "    }\n",
              "</style>\n",
              "<table border=\"1\" class=\"dataframe\">\n",
              "  <thead>\n",
              "    <tr style=\"text-align: right;\">\n",
              "      <th></th>\n",
              "      <th>userID</th>\n",
              "      <th>itemID</th>\n",
              "      <th>rating</th>\n",
              "      <th>timestamp</th>\n",
              "    </tr>\n",
              "  </thead>\n",
              "  <tbody>\n",
              "    <tr>\n",
              "      <th>0</th>\n",
              "      <td>196</td>\n",
              "      <td>242</td>\n",
              "      <td>3</td>\n",
              "      <td>881250949</td>\n",
              "    </tr>\n",
              "    <tr>\n",
              "      <th>1</th>\n",
              "      <td>186</td>\n",
              "      <td>302</td>\n",
              "      <td>3</td>\n",
              "      <td>891717742</td>\n",
              "    </tr>\n",
              "    <tr>\n",
              "      <th>2</th>\n",
              "      <td>22</td>\n",
              "      <td>377</td>\n",
              "      <td>1</td>\n",
              "      <td>878887116</td>\n",
              "    </tr>\n",
              "    <tr>\n",
              "      <th>3</th>\n",
              "      <td>244</td>\n",
              "      <td>51</td>\n",
              "      <td>2</td>\n",
              "      <td>880606923</td>\n",
              "    </tr>\n",
              "    <tr>\n",
              "      <th>4</th>\n",
              "      <td>166</td>\n",
              "      <td>346</td>\n",
              "      <td>1</td>\n",
              "      <td>886397596</td>\n",
              "    </tr>\n",
              "  </tbody>\n",
              "</table>\n",
              "</div>\n",
              "      <button class=\"colab-df-convert\" onclick=\"convertToInteractive('df-9c1a1d6d-770c-4838-835a-172d5da0afc4')\"\n",
              "              title=\"Convert this dataframe to an interactive table.\"\n",
              "              style=\"display:none;\">\n",
              "        \n",
              "  <svg xmlns=\"http://www.w3.org/2000/svg\" height=\"24px\"viewBox=\"0 0 24 24\"\n",
              "       width=\"24px\">\n",
              "    <path d=\"M0 0h24v24H0V0z\" fill=\"none\"/>\n",
              "    <path d=\"M18.56 5.44l.94 2.06.94-2.06 2.06-.94-2.06-.94-.94-2.06-.94 2.06-2.06.94zm-11 1L8.5 8.5l.94-2.06 2.06-.94-2.06-.94L8.5 2.5l-.94 2.06-2.06.94zm10 10l.94 2.06.94-2.06 2.06-.94-2.06-.94-.94-2.06-.94 2.06-2.06.94z\"/><path d=\"M17.41 7.96l-1.37-1.37c-.4-.4-.92-.59-1.43-.59-.52 0-1.04.2-1.43.59L10.3 9.45l-7.72 7.72c-.78.78-.78 2.05 0 2.83L4 21.41c.39.39.9.59 1.41.59.51 0 1.02-.2 1.41-.59l7.78-7.78 2.81-2.81c.8-.78.8-2.07 0-2.86zM5.41 20L4 18.59l7.72-7.72 1.47 1.35L5.41 20z\"/>\n",
              "  </svg>\n",
              "      </button>\n",
              "      \n",
              "  <style>\n",
              "    .colab-df-container {\n",
              "      display:flex;\n",
              "      flex-wrap:wrap;\n",
              "      gap: 12px;\n",
              "    }\n",
              "\n",
              "    .colab-df-convert {\n",
              "      background-color: #E8F0FE;\n",
              "      border: none;\n",
              "      border-radius: 50%;\n",
              "      cursor: pointer;\n",
              "      display: none;\n",
              "      fill: #1967D2;\n",
              "      height: 32px;\n",
              "      padding: 0 0 0 0;\n",
              "      width: 32px;\n",
              "    }\n",
              "\n",
              "    .colab-df-convert:hover {\n",
              "      background-color: #E2EBFA;\n",
              "      box-shadow: 0px 1px 2px rgba(60, 64, 67, 0.3), 0px 1px 3px 1px rgba(60, 64, 67, 0.15);\n",
              "      fill: #174EA6;\n",
              "    }\n",
              "\n",
              "    [theme=dark] .colab-df-convert {\n",
              "      background-color: #3B4455;\n",
              "      fill: #D2E3FC;\n",
              "    }\n",
              "\n",
              "    [theme=dark] .colab-df-convert:hover {\n",
              "      background-color: #434B5C;\n",
              "      box-shadow: 0px 1px 3px 1px rgba(0, 0, 0, 0.15);\n",
              "      filter: drop-shadow(0px 1px 2px rgba(0, 0, 0, 0.3));\n",
              "      fill: #FFFFFF;\n",
              "    }\n",
              "  </style>\n",
              "\n",
              "      <script>\n",
              "        const buttonEl =\n",
              "          document.querySelector('#df-9c1a1d6d-770c-4838-835a-172d5da0afc4 button.colab-df-convert');\n",
              "        buttonEl.style.display =\n",
              "          google.colab.kernel.accessAllowed ? 'block' : 'none';\n",
              "\n",
              "        async function convertToInteractive(key) {\n",
              "          const element = document.querySelector('#df-9c1a1d6d-770c-4838-835a-172d5da0afc4');\n",
              "          const dataTable =\n",
              "            await google.colab.kernel.invokeFunction('convertToInteractive',\n",
              "                                                     [key], {});\n",
              "          if (!dataTable) return;\n",
              "\n",
              "          const docLinkHtml = 'Like what you see? Visit the ' +\n",
              "            '<a target=\"_blank\" href=https://colab.research.google.com/notebooks/data_table.ipynb>data table notebook</a>'\n",
              "            + ' to learn more about interactive tables.';\n",
              "          element.innerHTML = '';\n",
              "          dataTable['output_type'] = 'display_data';\n",
              "          await google.colab.output.renderOutput(dataTable, element);\n",
              "          const docLink = document.createElement('div');\n",
              "          docLink.innerHTML = docLinkHtml;\n",
              "          element.appendChild(docLink);\n",
              "        }\n",
              "      </script>\n",
              "    </div>\n",
              "  </div>\n",
              "  "
            ],
            "text/plain": [
              "   userID  itemID  rating  timestamp\n",
              "0     196     242       3  881250949\n",
              "1     186     302       3  891717742\n",
              "2      22     377       1  878887116\n",
              "3     244      51       2  880606923\n",
              "4     166     346       1  886397596"
            ]
          },
          "metadata": {},
          "execution_count": 6
        }
      ]
    },
    {
      "cell_type": "code",
      "metadata": {
        "id": "CFyewh_7uBIE",
        "outputId": "5ac5f6cf-79a6-42e8-a61c-1c2dfea73384",
        "colab": {
          "base_uri": "https://localhost:8080/"
        }
      },
      "source": [
        "numUsers = len(ratingDF.userID.unique())\n",
        "numItems = len(ratingDF.itemID.unique())\n",
        "\n",
        "print(\"Number of users:\", numUsers)\n",
        "print(\"Number of items:\", numItems)"
      ],
      "execution_count": 7,
      "outputs": [
        {
          "output_type": "stream",
          "name": "stdout",
          "text": [
            "Number of users: 943\n",
            "Number of items: 1682\n"
          ]
        }
      ]
    },
    {
      "cell_type": "code",
      "metadata": {
        "id": "cAKUrdNNuBIH",
        "outputId": "d9c8a87c-7433-4f2c-9e17-aba596598b98",
        "colab": {
          "base_uri": "https://localhost:8080/",
          "height": 392
        }
      },
      "source": [
        "fieldsMovies = ['movieID', 'movieTitle', 'releaseDate', 'videoReleaseDate', 'IMDbURL', 'unknown', 'action', 'adventure',\n",
        "          'animation', 'childrens', 'comedy', 'crime', 'documentary', 'drama', 'fantasy', 'filmNoir', 'horror',\n",
        "          'musical', 'mystery', 'romance','sciFi', 'thriller', 'war', 'western']\n",
        "moviesDF = pd.read_csv(os.path.join(MOVIELENS_DIR, 'u.item'), sep='|', names=fieldsMovies, encoding='latin-1')\n",
        "\n",
        "moviesDF.head()"
      ],
      "execution_count": 8,
      "outputs": [
        {
          "output_type": "execute_result",
          "data": {
            "text/html": [
              "\n",
              "  <div id=\"df-b2c204c9-0438-438c-a870-221c152171e9\">\n",
              "    <div class=\"colab-df-container\">\n",
              "      <div>\n",
              "<style scoped>\n",
              "    .dataframe tbody tr th:only-of-type {\n",
              "        vertical-align: middle;\n",
              "    }\n",
              "\n",
              "    .dataframe tbody tr th {\n",
              "        vertical-align: top;\n",
              "    }\n",
              "\n",
              "    .dataframe thead th {\n",
              "        text-align: right;\n",
              "    }\n",
              "</style>\n",
              "<table border=\"1\" class=\"dataframe\">\n",
              "  <thead>\n",
              "    <tr style=\"text-align: right;\">\n",
              "      <th></th>\n",
              "      <th>movieID</th>\n",
              "      <th>movieTitle</th>\n",
              "      <th>releaseDate</th>\n",
              "      <th>videoReleaseDate</th>\n",
              "      <th>IMDbURL</th>\n",
              "      <th>unknown</th>\n",
              "      <th>action</th>\n",
              "      <th>adventure</th>\n",
              "      <th>animation</th>\n",
              "      <th>childrens</th>\n",
              "      <th>comedy</th>\n",
              "      <th>crime</th>\n",
              "      <th>documentary</th>\n",
              "      <th>drama</th>\n",
              "      <th>fantasy</th>\n",
              "      <th>filmNoir</th>\n",
              "      <th>horror</th>\n",
              "      <th>musical</th>\n",
              "      <th>mystery</th>\n",
              "      <th>romance</th>\n",
              "      <th>sciFi</th>\n",
              "      <th>thriller</th>\n",
              "      <th>war</th>\n",
              "      <th>western</th>\n",
              "    </tr>\n",
              "  </thead>\n",
              "  <tbody>\n",
              "    <tr>\n",
              "      <th>0</th>\n",
              "      <td>1</td>\n",
              "      <td>Toy Story (1995)</td>\n",
              "      <td>01-Jan-1995</td>\n",
              "      <td>NaN</td>\n",
              "      <td>http://us.imdb.com/M/title-exact?Toy%20Story%2...</td>\n",
              "      <td>0</td>\n",
              "      <td>0</td>\n",
              "      <td>0</td>\n",
              "      <td>1</td>\n",
              "      <td>1</td>\n",
              "      <td>1</td>\n",
              "      <td>0</td>\n",
              "      <td>0</td>\n",
              "      <td>0</td>\n",
              "      <td>0</td>\n",
              "      <td>0</td>\n",
              "      <td>0</td>\n",
              "      <td>0</td>\n",
              "      <td>0</td>\n",
              "      <td>0</td>\n",
              "      <td>0</td>\n",
              "      <td>0</td>\n",
              "      <td>0</td>\n",
              "      <td>0</td>\n",
              "    </tr>\n",
              "    <tr>\n",
              "      <th>1</th>\n",
              "      <td>2</td>\n",
              "      <td>GoldenEye (1995)</td>\n",
              "      <td>01-Jan-1995</td>\n",
              "      <td>NaN</td>\n",
              "      <td>http://us.imdb.com/M/title-exact?GoldenEye%20(...</td>\n",
              "      <td>0</td>\n",
              "      <td>1</td>\n",
              "      <td>1</td>\n",
              "      <td>0</td>\n",
              "      <td>0</td>\n",
              "      <td>0</td>\n",
              "      <td>0</td>\n",
              "      <td>0</td>\n",
              "      <td>0</td>\n",
              "      <td>0</td>\n",
              "      <td>0</td>\n",
              "      <td>0</td>\n",
              "      <td>0</td>\n",
              "      <td>0</td>\n",
              "      <td>0</td>\n",
              "      <td>0</td>\n",
              "      <td>1</td>\n",
              "      <td>0</td>\n",
              "      <td>0</td>\n",
              "    </tr>\n",
              "    <tr>\n",
              "      <th>2</th>\n",
              "      <td>3</td>\n",
              "      <td>Four Rooms (1995)</td>\n",
              "      <td>01-Jan-1995</td>\n",
              "      <td>NaN</td>\n",
              "      <td>http://us.imdb.com/M/title-exact?Four%20Rooms%...</td>\n",
              "      <td>0</td>\n",
              "      <td>0</td>\n",
              "      <td>0</td>\n",
              "      <td>0</td>\n",
              "      <td>0</td>\n",
              "      <td>0</td>\n",
              "      <td>0</td>\n",
              "      <td>0</td>\n",
              "      <td>0</td>\n",
              "      <td>0</td>\n",
              "      <td>0</td>\n",
              "      <td>0</td>\n",
              "      <td>0</td>\n",
              "      <td>0</td>\n",
              "      <td>0</td>\n",
              "      <td>0</td>\n",
              "      <td>1</td>\n",
              "      <td>0</td>\n",
              "      <td>0</td>\n",
              "    </tr>\n",
              "    <tr>\n",
              "      <th>3</th>\n",
              "      <td>4</td>\n",
              "      <td>Get Shorty (1995)</td>\n",
              "      <td>01-Jan-1995</td>\n",
              "      <td>NaN</td>\n",
              "      <td>http://us.imdb.com/M/title-exact?Get%20Shorty%...</td>\n",
              "      <td>0</td>\n",
              "      <td>1</td>\n",
              "      <td>0</td>\n",
              "      <td>0</td>\n",
              "      <td>0</td>\n",
              "      <td>1</td>\n",
              "      <td>0</td>\n",
              "      <td>0</td>\n",
              "      <td>1</td>\n",
              "      <td>0</td>\n",
              "      <td>0</td>\n",
              "      <td>0</td>\n",
              "      <td>0</td>\n",
              "      <td>0</td>\n",
              "      <td>0</td>\n",
              "      <td>0</td>\n",
              "      <td>0</td>\n",
              "      <td>0</td>\n",
              "      <td>0</td>\n",
              "    </tr>\n",
              "    <tr>\n",
              "      <th>4</th>\n",
              "      <td>5</td>\n",
              "      <td>Copycat (1995)</td>\n",
              "      <td>01-Jan-1995</td>\n",
              "      <td>NaN</td>\n",
              "      <td>http://us.imdb.com/M/title-exact?Copycat%20(1995)</td>\n",
              "      <td>0</td>\n",
              "      <td>0</td>\n",
              "      <td>0</td>\n",
              "      <td>0</td>\n",
              "      <td>0</td>\n",
              "      <td>0</td>\n",
              "      <td>1</td>\n",
              "      <td>0</td>\n",
              "      <td>1</td>\n",
              "      <td>0</td>\n",
              "      <td>0</td>\n",
              "      <td>0</td>\n",
              "      <td>0</td>\n",
              "      <td>0</td>\n",
              "      <td>0</td>\n",
              "      <td>0</td>\n",
              "      <td>1</td>\n",
              "      <td>0</td>\n",
              "      <td>0</td>\n",
              "    </tr>\n",
              "  </tbody>\n",
              "</table>\n",
              "</div>\n",
              "      <button class=\"colab-df-convert\" onclick=\"convertToInteractive('df-b2c204c9-0438-438c-a870-221c152171e9')\"\n",
              "              title=\"Convert this dataframe to an interactive table.\"\n",
              "              style=\"display:none;\">\n",
              "        \n",
              "  <svg xmlns=\"http://www.w3.org/2000/svg\" height=\"24px\"viewBox=\"0 0 24 24\"\n",
              "       width=\"24px\">\n",
              "    <path d=\"M0 0h24v24H0V0z\" fill=\"none\"/>\n",
              "    <path d=\"M18.56 5.44l.94 2.06.94-2.06 2.06-.94-2.06-.94-.94-2.06-.94 2.06-2.06.94zm-11 1L8.5 8.5l.94-2.06 2.06-.94-2.06-.94L8.5 2.5l-.94 2.06-2.06.94zm10 10l.94 2.06.94-2.06 2.06-.94-2.06-.94-.94-2.06-.94 2.06-2.06.94z\"/><path d=\"M17.41 7.96l-1.37-1.37c-.4-.4-.92-.59-1.43-.59-.52 0-1.04.2-1.43.59L10.3 9.45l-7.72 7.72c-.78.78-.78 2.05 0 2.83L4 21.41c.39.39.9.59 1.41.59.51 0 1.02-.2 1.41-.59l7.78-7.78 2.81-2.81c.8-.78.8-2.07 0-2.86zM5.41 20L4 18.59l7.72-7.72 1.47 1.35L5.41 20z\"/>\n",
              "  </svg>\n",
              "      </button>\n",
              "      \n",
              "  <style>\n",
              "    .colab-df-container {\n",
              "      display:flex;\n",
              "      flex-wrap:wrap;\n",
              "      gap: 12px;\n",
              "    }\n",
              "\n",
              "    .colab-df-convert {\n",
              "      background-color: #E8F0FE;\n",
              "      border: none;\n",
              "      border-radius: 50%;\n",
              "      cursor: pointer;\n",
              "      display: none;\n",
              "      fill: #1967D2;\n",
              "      height: 32px;\n",
              "      padding: 0 0 0 0;\n",
              "      width: 32px;\n",
              "    }\n",
              "\n",
              "    .colab-df-convert:hover {\n",
              "      background-color: #E2EBFA;\n",
              "      box-shadow: 0px 1px 2px rgba(60, 64, 67, 0.3), 0px 1px 3px 1px rgba(60, 64, 67, 0.15);\n",
              "      fill: #174EA6;\n",
              "    }\n",
              "\n",
              "    [theme=dark] .colab-df-convert {\n",
              "      background-color: #3B4455;\n",
              "      fill: #D2E3FC;\n",
              "    }\n",
              "\n",
              "    [theme=dark] .colab-df-convert:hover {\n",
              "      background-color: #434B5C;\n",
              "      box-shadow: 0px 1px 3px 1px rgba(0, 0, 0, 0.15);\n",
              "      filter: drop-shadow(0px 1px 2px rgba(0, 0, 0, 0.3));\n",
              "      fill: #FFFFFF;\n",
              "    }\n",
              "  </style>\n",
              "\n",
              "      <script>\n",
              "        const buttonEl =\n",
              "          document.querySelector('#df-b2c204c9-0438-438c-a870-221c152171e9 button.colab-df-convert');\n",
              "        buttonEl.style.display =\n",
              "          google.colab.kernel.accessAllowed ? 'block' : 'none';\n",
              "\n",
              "        async function convertToInteractive(key) {\n",
              "          const element = document.querySelector('#df-b2c204c9-0438-438c-a870-221c152171e9');\n",
              "          const dataTable =\n",
              "            await google.colab.kernel.invokeFunction('convertToInteractive',\n",
              "                                                     [key], {});\n",
              "          if (!dataTable) return;\n",
              "\n",
              "          const docLinkHtml = 'Like what you see? Visit the ' +\n",
              "            '<a target=\"_blank\" href=https://colab.research.google.com/notebooks/data_table.ipynb>data table notebook</a>'\n",
              "            + ' to learn more about interactive tables.';\n",
              "          element.innerHTML = '';\n",
              "          dataTable['output_type'] = 'display_data';\n",
              "          await google.colab.output.renderOutput(dataTable, element);\n",
              "          const docLink = document.createElement('div');\n",
              "          docLink.innerHTML = docLinkHtml;\n",
              "          element.appendChild(docLink);\n",
              "        }\n",
              "      </script>\n",
              "    </div>\n",
              "  </div>\n",
              "  "
            ],
            "text/plain": [
              "   movieID         movieTitle  releaseDate  ...  thriller war  western\n",
              "0        1   Toy Story (1995)  01-Jan-1995  ...         0   0        0\n",
              "1        2   GoldenEye (1995)  01-Jan-1995  ...         1   0        0\n",
              "2        3  Four Rooms (1995)  01-Jan-1995  ...         1   0        0\n",
              "3        4  Get Shorty (1995)  01-Jan-1995  ...         0   0        0\n",
              "4        5     Copycat (1995)  01-Jan-1995  ...         1   0        0\n",
              "\n",
              "[5 rows x 24 columns]"
            ]
          },
          "metadata": {},
          "execution_count": 8
        }
      ]
    },
    {
      "cell_type": "markdown",
      "metadata": {
        "id": "in-PO-YJuBIJ"
      },
      "source": [
        "Then, we load a train-test split"
      ]
    },
    {
      "cell_type": "code",
      "metadata": {
        "id": "alHHL0TUuBIK",
        "outputId": "b9985ae4-4027-4b2e-a512-dac308be8f29",
        "colab": {
          "base_uri": "https://localhost:8080/"
        }
      },
      "source": [
        "trainDF = pd.read_csv(os.path.join(MOVIELENS_DIR, 'u1.base'), sep='\\t', names=fields)\n",
        "testDF = pd.read_csv(os.path.join(MOVIELENS_DIR, 'u1.test'), sep='\\t', names=fields)\n",
        "\n",
        "# test number of records (total should be 100K)\n",
        "print(\"# of lines in train:\", trainDF.shape[0])\n",
        "print(\"# of lines in test:\", testDF.shape[0])"
      ],
      "execution_count": 9,
      "outputs": [
        {
          "output_type": "stream",
          "name": "stdout",
          "text": [
            "# of lines in train: 80000\n",
            "# of lines in test: 20000\n"
          ]
        }
      ]
    },
    {
      "cell_type": "markdown",
      "metadata": {
        "id": "3l_Vf8uUuBH2"
      },
      "source": [
        "## 1.0 Building the recommender"
      ]
    },
    {
      "cell_type": "markdown",
      "metadata": {
        "id": "e-SCgY_KuBIM"
      },
      "source": [
        "### 1.1 Building User-to-Item Rating Matrix"
      ]
    },
    {
      "cell_type": "code",
      "metadata": {
        "id": "pNmPRj_fuBIN"
      },
      "source": [
        "def buildUserItemMatrix(dataset, numUsers, numItems):\n",
        "    # Initialize a of size (numUsers, numItems) to zeros\n",
        "    matrix = np.zeros((numUsers, numItems), dtype=np.int8)\n",
        "    \n",
        "    # Populate the matrix based on the dataset\n",
        "    for (index, userID, itemID, rating, timestamp) in dataset.itertuples():\n",
        "        matrix[userID-1, itemID-1] = rating\n",
        "    return matrix"
      ],
      "execution_count": 10,
      "outputs": []
    },
    {
      "cell_type": "code",
      "metadata": {
        "id": "4z5K0ZyLuBIP"
      },
      "source": [
        "trainUserItemMatrix = buildUserItemMatrix(trainDF, numUsers, numItems)\n",
        "testUserItemMatrix = buildUserItemMatrix(testDF, numUsers, numItems)"
      ],
      "execution_count": 11,
      "outputs": []
    },
    {
      "cell_type": "code",
      "metadata": {
        "id": "pxhqF8O_uBIS",
        "outputId": "bf852e08-3c42-4cd4-bb45-6bb21a4f7d9a",
        "colab": {
          "base_uri": "https://localhost:8080/"
        }
      },
      "source": [
        "# Inspect the train matrix\n",
        "# What's the shape of this matrix\n",
        "# Let's say the number of users is U and the number of items is I, I will ask you the dimensions of some matrixes in this lab\n",
        "trainUserItemMatrix"
      ],
      "execution_count": 12,
      "outputs": [
        {
          "output_type": "execute_result",
          "data": {
            "text/plain": [
              "array([[5, 3, 4, ..., 0, 0, 0],\n",
              "       [4, 0, 0, ..., 0, 0, 0],\n",
              "       [0, 0, 0, ..., 0, 0, 0],\n",
              "       ...,\n",
              "       [5, 0, 0, ..., 0, 0, 0],\n",
              "       [0, 0, 0, ..., 0, 0, 0],\n",
              "       [0, 5, 0, ..., 0, 0, 0]], dtype=int8)"
            ]
          },
          "metadata": {},
          "execution_count": 12
        }
      ]
    },
    {
      "cell_type": "markdown",
      "metadata": {
        "id": "F1Ua_y85uBIU"
      },
      "source": [
        "### 1.2 Baseline solution - Average User Rating"
      ]
    },
    {
      "cell_type": "code",
      "metadata": {
        "id": "Tw-UoakQuBIV"
      },
      "source": [
        "def predictByUserAverage(trainSet, numUsers, numItems):\n",
        "    # Initialize the predicted rating matrix with zeros\n",
        "    predictionMatrix = np.zeros((numUsers, numItems))\n",
        "    \n",
        "    for (user,item), rating in np.ndenumerate(trainSet):\n",
        "        # Predict rating for every item that wasn't ranked by the user (rating == 0)\n",
        "        if rating == 0:\n",
        "            # select the row for user\n",
        "            # what's the shape of userVector\n",
        "            userVector = trainSet[user, :]\n",
        "            \n",
        "            # Extract the items the user already rated\n",
        "            ratedItems = userVector[userVector.nonzero()]\n",
        "            \n",
        "            # If not empty, calculate average and set as rating for the current item\n",
        "            if ratedItems.size == 0:\n",
        "                itemAvg = 0\n",
        "            else:\n",
        "                itemAvg = ratedItems.mean()\n",
        "            predictionMatrix[user, item] = itemAvg\n",
        "            \n",
        "        # report progress every 100 users\n",
        "        if (user % 100 == 0 and item == 1):\n",
        "            print (\"calculated %d users\" % (user,))\n",
        "    \n",
        "    return predictionMatrix"
      ],
      "execution_count": 13,
      "outputs": []
    },
    {
      "cell_type": "code",
      "metadata": {
        "id": "sI98tM8kuBIX",
        "colab": {
          "base_uri": "https://localhost:8080/"
        },
        "outputId": "305793e9-7b90-4540-8e3d-af506fd20130"
      },
      "source": [
        "userAvgPreiction = predictByUserAverage(trainUserItemMatrix, numUsers, numItems)"
      ],
      "execution_count": 14,
      "outputs": [
        {
          "output_type": "stream",
          "name": "stdout",
          "text": [
            "calculated 0 users\n",
            "calculated 100 users\n",
            "calculated 200 users\n",
            "calculated 300 users\n",
            "calculated 400 users\n",
            "calculated 500 users\n",
            "calculated 600 users\n",
            "calculated 700 users\n",
            "calculated 800 users\n",
            "calculated 900 users\n"
          ]
        }
      ]
    },
    {
      "cell_type": "markdown",
      "metadata": {
        "id": "cZlEyNTQuBIZ"
      },
      "source": [
        "#### How well did we do?"
      ]
    },
    {
      "cell_type": "code",
      "metadata": {
        "id": "a-96QIcmuBIa"
      },
      "source": [
        "def rmse(pred, test):\n",
        "    # calculate RMSE for all the items in the test dataset\n",
        "    predItems = pred[test.nonzero()].flatten() \n",
        "    testItems = test[test.nonzero()].flatten()\n",
        "    return sqrt(mean_squared_error(predItems, testItems))"
      ],
      "execution_count": 15,
      "outputs": []
    },
    {
      "cell_type": "code",
      "metadata": {
        "id": "cOycD_SWuBIc",
        "outputId": "caf3d48d-e87b-410d-ea81-fa36583b26af",
        "colab": {
          "base_uri": "https://localhost:8080/"
        }
      },
      "source": [
        "rmse(userAvgPreiction, testUserItemMatrix)"
      ],
      "execution_count": 16,
      "outputs": [
        {
          "output_type": "execute_result",
          "data": {
            "text/plain": [
              "1.0629951276561334"
            ]
          },
          "metadata": {},
          "execution_count": 16
        }
      ]
    },
    {
      "cell_type": "markdown",
      "metadata": {
        "id": "6XAk61j7uBIf"
      },
      "source": [
        "### 1.3 User-User Similarity"
      ]
    },
    {
      "cell_type": "markdown",
      "metadata": {
        "id": "fb9KC7BquBIg"
      },
      "source": [
        "#### Question: why do we divide the result by the sum of similaries?"
      ]
    },
    {
      "cell_type": "code",
      "metadata": {
        "id": "pLIEJFVAuBIh"
      },
      "source": [
        "userSimilarity = 1 - pairwise_distances(trainUserItemMatrix, metric='cosine')"
      ],
      "execution_count": 17,
      "outputs": []
    },
    {
      "cell_type": "code",
      "metadata": {
        "id": "PiCRFVMCuBIk",
        "outputId": "ad839a3f-b36f-48b6-c0fa-ae6f6927a289",
        "colab": {
          "base_uri": "https://localhost:8080/"
        }
      },
      "source": [
        "userSimilarity"
      ],
      "execution_count": 18,
      "outputs": [
        {
          "output_type": "execute_result",
          "data": {
            "text/plain": [
              "array([[1.        , 0.09702087, 0.05246924, ..., 0.15815144, 0.13309031,\n",
              "        0.25277792],\n",
              "       [0.09702087, 1.        , 0.05134808, ..., 0.13280638, 0.1265973 ,\n",
              "        0.10178363],\n",
              "       [0.05246924, 0.05134808, 1.        , ..., 0.08353707, 0.08122974,\n",
              "        0.01967584],\n",
              "       ...,\n",
              "       [0.15815144, 0.13280638, 0.08353707, ..., 1.        , 0.1016418 ,\n",
              "        0.09511958],\n",
              "       [0.13309031, 0.1265973 , 0.08122974, ..., 0.1016418 , 1.        ,\n",
              "        0.18246466],\n",
              "       [0.25277792, 0.10178363, 0.01967584, ..., 0.09511958, 0.18246466,\n",
              "        1.        ]])"
            ]
          },
          "metadata": {},
          "execution_count": 18
        }
      ]
    },
    {
      "cell_type": "code",
      "metadata": {
        "id": "6Tw6dj9xuBIo"
      },
      "source": [
        "def kNearestNeighbor(sim, k):\n",
        "    sim = sim.copy()\n",
        "    m,n = sim.shape\n",
        "    for i in range(m):\n",
        "        # only keep the k largest number\n",
        "        sim[i, sim[i].argsort()[:-k]] = 0\n",
        "    return sim"
      ],
      "execution_count": 19,
      "outputs": []
    },
    {
      "cell_type": "code",
      "metadata": {
        "id": "cNtddvMXuBIq"
      },
      "source": [
        "userSimilarity=kNearestNeighbor(userSimilarity, 3)"
      ],
      "execution_count": 20,
      "outputs": []
    },
    {
      "cell_type": "code",
      "metadata": {
        "id": "vzk2E4XvExJO",
        "outputId": "bf045f0c-fe53-49e4-abe0-b696404da8b9",
        "colab": {
          "base_uri": "https://localhost:8080/"
        }
      },
      "source": [
        "np.count_nonzero(userSimilarity[0])"
      ],
      "execution_count": 21,
      "outputs": [
        {
          "output_type": "execute_result",
          "data": {
            "text/plain": [
              "3"
            ]
          },
          "metadata": {},
          "execution_count": 21
        }
      ]
    },
    {
      "cell_type": "code",
      "metadata": {
        "id": "gTnW-ZBsuBIu"
      },
      "source": [
        "def predictByUserSimilarity(trainSet, numUsers, numItems, similarity, k=None):\n",
        "    \n",
        "    if k is not None:\n",
        "        similarity = kNearestNeighbor(similarity, k)\n",
        "    \n",
        "    # Initialize the predicted rating matrix with zeros\n",
        "    predictionMatrix = np.zeros((numUsers, numItems))\n",
        "    \n",
        "    for (user,item), rating in np.ndenumerate(trainSet):\n",
        "        \n",
        "        # Predict rating for every item that wasn't ranked by the user (rating == 0)\n",
        "        if rating == 0:\n",
        "            # Extract the users that provided rating for this item\n",
        "            # shape of itemVector\n",
        "            itemVector = trainSet[:,item]\n",
        "            usersRatings = itemVector[itemVector.nonzero()]\n",
        "\n",
        "            # Get the similarity score for each of the users that provided rating for this item\n",
        "            # what's the shape of similarity, similarity[user,:]\n",
        "            usersSim = similarity[user,:][itemVector.nonzero()]\n",
        "\n",
        "            # If there no users that ranked this item, use user's average\n",
        "            if len(usersSim) == 0:\n",
        "                userVector = trainSet[user, :]\n",
        "                ratedItems = userVector[userVector.nonzero()]\n",
        "                \n",
        "                # If the user didnt rated any item use 0, otherwise use average\n",
        "                if len(ratedItems) == 0:\n",
        "                    predictionMatrix[user,item] = 0\n",
        "                else:\n",
        "                    predictionMatrix[user,item] = ratedItems.mean()\n",
        "            else:\n",
        "                # predict score based on user-user similarity\n",
        "                predictionMatrix[user,item] = (usersRatings*usersSim).sum() / usersSim.sum()\n",
        "\n",
        "        if not np.isfinite(predictionMatrix[user,item]):\n",
        "            predictionMatrix[user,item]=0\n",
        "        \n",
        "        # report progress every 100 users\n",
        "        if (user % 100 == 0 and item == 1):\n",
        "            print (\"calculated %d users\" % (user,))\n",
        "    \n",
        "    return predictionMatrix"
      ],
      "execution_count": 22,
      "outputs": []
    },
    {
      "cell_type": "code",
      "metadata": {
        "id": "j8bZRnPAuBIw",
        "colab": {
          "base_uri": "https://localhost:8080/"
        },
        "outputId": "d79c2e14-2719-4704-f781-d20547181649"
      },
      "source": [
        "userSimPrediction = predictByUserSimilarity(trainUserItemMatrix, numUsers, numItems, userSimilarity, k=50)"
      ],
      "execution_count": 23,
      "outputs": [
        {
          "output_type": "stream",
          "name": "stdout",
          "text": [
            "calculated 0 users\n"
          ]
        },
        {
          "output_type": "stream",
          "name": "stderr",
          "text": [
            "/usr/local/lib/python3.7/dist-packages/ipykernel_launcher.py:34: RuntimeWarning: invalid value encountered in double_scalars\n"
          ]
        },
        {
          "output_type": "stream",
          "name": "stdout",
          "text": [
            "calculated 100 users\n",
            "calculated 200 users\n",
            "calculated 300 users\n",
            "calculated 400 users\n",
            "calculated 500 users\n",
            "calculated 600 users\n",
            "calculated 700 users\n",
            "calculated 800 users\n",
            "calculated 900 users\n"
          ]
        }
      ]
    },
    {
      "cell_type": "code",
      "metadata": {
        "id": "hX0ZET66uBIy",
        "outputId": "227e8276-93d2-4d43-a86b-fc591605a611",
        "colab": {
          "base_uri": "https://localhost:8080/"
        }
      },
      "source": [
        "rmse(userSimPrediction, testUserItemMatrix)"
      ],
      "execution_count": 24,
      "outputs": [
        {
          "output_type": "execute_result",
          "data": {
            "text/plain": [
              "2.3177794082696836"
            ]
          },
          "metadata": {},
          "execution_count": 24
        }
      ]
    },
    {
      "cell_type": "markdown",
      "metadata": {
        "id": "gWwzkfPIuBI0"
      },
      "source": [
        "#### Vectorized Version"
      ]
    },
    {
      "cell_type": "code",
      "metadata": {
        "id": "YuoEwUAouBI0"
      },
      "source": [
        "def vectorizedUserSimRecSys(trainSet, k=None):\n",
        "    # Initialize the predicted rating matrix with zeros\n",
        "    temp_matrix = np.zeros(trainSet.shape)\n",
        "    temp_matrix[trainSet.nonzero()] = 1\n",
        "    uu_similarity = 1 - pairwise_distances(trainSet, metric='cosine')\n",
        "    if k is not None:\n",
        "        uu_similarity = kNearestNeighbor(uu_similarity, k)\n",
        "    # UxI: UxU mul UxI\n",
        "    normalizer = np.matmul(uu_similarity, temp_matrix)\n",
        "    #print(normalizer)\n",
        "    normalizer[normalizer == 0] = 1e-5\n",
        "    #what's the dimension of np.matmul(uu_similarity, trainSet)\n",
        "    \n",
        "    predictionMatrix = np.matmul(uu_similarity, trainSet)/normalizer\n",
        "    #predictionMatrix[temp_matrix.nonzero()] = 0\n",
        "    #Cold start\n",
        "    # if no one has rated this item before, use user average  \n",
        "    useraverage = np.sum(trainSet, axis=1)/np.sum(temp_matrix, axis=1)\n",
        "    columns = np.sum(predictionMatrix, axis=0)\n",
        "    #print(columns.shape)\n",
        "    predictionMatrix[:, columns==0] = predictionMatrix[:, columns==0] + np.expand_dims(useraverage, axis=1)\n",
        "    \n",
        "    return predictionMatrix"
      ],
      "execution_count": 25,
      "outputs": []
    },
    {
      "cell_type": "code",
      "metadata": {
        "id": "4WhVh4yCuBI2",
        "outputId": "65eb417d-2e5e-4850-8470-5c033616b12f",
        "colab": {
          "base_uri": "https://localhost:8080/"
        }
      },
      "source": [
        "userSimPrediction = vectorizedUserSimRecSys(trainUserItemMatrix, k=50)\n",
        "print(userSimPrediction)"
      ],
      "execution_count": 26,
      "outputs": [
        {
          "output_type": "stream",
          "name": "stdout",
          "text": [
            "[[3.95768482 3.07884915 2.95870738 ... 0.         3.         3.        ]\n",
            " [3.84711903 0.         2.00999946 ... 0.         0.         0.        ]\n",
            " [4.         0.         3.         ... 2.         0.         0.        ]\n",
            " ...\n",
            " [3.89075627 0.         3.33135748 ... 0.         0.         0.        ]\n",
            " [3.9933765  3.66514556 2.65346589 ... 0.         0.         0.        ]\n",
            " [4.07279746 3.40602568 3.42834447 ... 0.         3.         3.        ]]\n"
          ]
        }
      ]
    },
    {
      "cell_type": "code",
      "metadata": {
        "id": "b4NATqnUuBI3",
        "outputId": "f01acf20-785b-47ad-9c42-3fc2b222b293",
        "colab": {
          "base_uri": "https://localhost:8080/"
        }
      },
      "source": [
        "rmse(userSimPrediction, testUserItemMatrix)"
      ],
      "execution_count": 27,
      "outputs": [
        {
          "output_type": "execute_result",
          "data": {
            "text/plain": [
              "1.1143635272661785"
            ]
          },
          "metadata": {},
          "execution_count": 27
        }
      ]
    },
    {
      "cell_type": "markdown",
      "metadata": {
        "id": "hIw3GrBxuBI6"
      },
      "source": [
        "#### Precision@k and Recall@k"
      ]
    },
    {
      "cell_type": "markdown",
      "metadata": {
        "id": "v3znUo3puBI7"
      },
      "source": [
        "##### Question: where does the K come from?"
      ]
    },
    {
      "cell_type": "code",
      "metadata": {
        "id": "6KsaO--TuBI8"
      },
      "source": [
        "def avgPrecisionAtK(testSet, prediction, k):\n",
        "    # Initialize sum and count vars for average calculation\n",
        "    sumPrecisions = 0\n",
        "    countPrecisions = 0\n",
        "    \n",
        "    # Define function for converting 1-5 rating to 0/1 (like / don't like)\n",
        "    vf = np.vectorize(lambda x: 1 if x >= 4 else 0)\n",
        "    \n",
        "    for userID in range(numUsers):\n",
        "        # Pick top K based on predicted rating\n",
        "        userVector = prediction[userID,:]\n",
        "        #print(userVector)\n",
        "        topK = nlargest(k, range(len(userVector)), userVector.take)\n",
        "        #print(topK)\n",
        "        # Convert test set ratings to like / don't like\n",
        "        userTestVector = vf(testSet[userID,:]).nonzero()[0]\n",
        "        #print(vf(testSet[userID,:]).nonzero())\n",
        "        # Ignore user if has no ratings in the test set\n",
        "        if (len(userTestVector) == 0):\n",
        "            continue\n",
        "\n",
        "        # Calculate precision\n",
        "        precision = float(len([item for item in topK if item in userTestVector]))/len(topK)\n",
        "\n",
        "        # Update sum and count\n",
        "        sumPrecisions += precision\n",
        "        countPrecisions += 1\n",
        "        \n",
        "    # Return average P@k\n",
        "    return float(sumPrecisions)/countPrecisions"
      ],
      "execution_count": 28,
      "outputs": []
    },
    {
      "cell_type": "code",
      "metadata": {
        "id": "uzDXyi_NuBI-"
      },
      "source": [
        "def avgRecallAtK(testSet, prediction, k):\n",
        "    # Initialize sum and count vars for average calculation\n",
        "    sumRecalls = 0\n",
        "    countRecalls = 0\n",
        "    \n",
        "    # Define function for converting 1-5 rating to 0/1 (like / don't like)\n",
        "    vf = np.vectorize(lambda x: 1 if x >= 4 else 0)\n",
        "    \n",
        "    for userID in range(numUsers):\n",
        "        # Pick top K based on predicted rating\n",
        "        userVector = prediction[userID,:]\n",
        "        topK = nlargest(k, range(len(userVector)), userVector.take)\n",
        "        \n",
        "        # Convert test set ratings to like / don't like\n",
        "        userTestVector = vf(testSet[userID,:]).nonzero()[0]\n",
        "        \n",
        "        # Ignore user if has no ratings in the test set\n",
        "        if (len(userTestVector) == 0):\n",
        "            continue\n",
        "        \n",
        "        # Calculate recall\n",
        "        recall = float(len([item for item in topK if item in userTestVector]))/len(userTestVector)\n",
        "        \n",
        "        # Update sum and count\n",
        "        sumRecalls += recall\n",
        "        countRecalls += 1\n",
        "    \n",
        "    # Return average R@k\n",
        "    return float(sumRecalls)/countRecalls"
      ],
      "execution_count": 29,
      "outputs": []
    },
    {
      "cell_type": "code",
      "metadata": {
        "id": "rlfzIjVnuBJA",
        "outputId": "6933dd91-03ab-45d2-c4c0-30633afb8c17",
        "colab": {
          "base_uri": "https://localhost:8080/"
        }
      },
      "source": [
        "print(\"k\\tP@k\\tR@k\")\n",
        "for k in [25, 50, 100, 250, 500]:\n",
        "    print(\"%d\\t%.3lf\\t%.3lf\" % (k, avgPrecisionAtK(testUserItemMatrix, userSimPrediction, k), avgRecallAtK(testUserItemMatrix, userSimPrediction, k)))"
      ],
      "execution_count": 30,
      "outputs": [
        {
          "output_type": "stream",
          "name": "stdout",
          "text": [
            "k\tP@k\tR@k\n",
            "25\t0.018\t0.026\n",
            "50\t0.037\t0.089\n",
            "100\t0.050\t0.249\n",
            "250\t0.043\t0.546\n",
            "500\t0.038\t0.847\n"
          ]
        }
      ]
    },
    {
      "cell_type": "code",
      "metadata": {
        "id": "Hfyfg8iLuBJC",
        "outputId": "b2ea8010-608a-4a0f-f9d2-68bb4ba85169",
        "colab": {
          "base_uri": "https://localhost:8080/"
        }
      },
      "source": [
        "userSimPrediction"
      ],
      "execution_count": 31,
      "outputs": [
        {
          "output_type": "execute_result",
          "data": {
            "text/plain": [
              "array([[3.95768482, 3.07884915, 2.95870738, ..., 0.        , 3.        ,\n",
              "        3.        ],\n",
              "       [3.84711903, 0.        , 2.00999946, ..., 0.        , 0.        ,\n",
              "        0.        ],\n",
              "       [4.        , 0.        , 3.        , ..., 2.        , 0.        ,\n",
              "        0.        ],\n",
              "       ...,\n",
              "       [3.89075627, 0.        , 3.33135748, ..., 0.        , 0.        ,\n",
              "        0.        ],\n",
              "       [3.9933765 , 3.66514556, 2.65346589, ..., 0.        , 0.        ,\n",
              "        0.        ],\n",
              "       [4.07279746, 3.40602568, 3.42834447, ..., 0.        , 3.        ,\n",
              "        3.        ]])"
            ]
          },
          "metadata": {},
          "execution_count": 31
        }
      ]
    },
    {
      "cell_type": "code",
      "metadata": {
        "id": "HsT_4vd5uBJF",
        "outputId": "2e7247e0-2bee-4ddf-da77-14e714f60c62",
        "colab": {
          "base_uri": "https://localhost:8080/"
        }
      },
      "source": [
        "testUserItemMatrix[0]"
      ],
      "execution_count": 32,
      "outputs": [
        {
          "output_type": "execute_result",
          "data": {
            "text/plain": [
              "array([0, 0, 0, ..., 0, 0, 0], dtype=int8)"
            ]
          },
          "metadata": {},
          "execution_count": 32
        }
      ]
    },
    {
      "cell_type": "markdown",
      "metadata": {
        "collapsed": true,
        "id": "Q653TiTFuBJH"
      },
      "source": [
        "### 1.4 Popularity Based Recommendations"
      ]
    },
    {
      "cell_type": "code",
      "metadata": {
        "id": "jBZcFeYJuBJH"
      },
      "source": [
        "def predictByPopularity(trainSet, numUsers, numItems):\n",
        "    # Initialize the predicted rating matrix with zeros\n",
        "    predictionMatrix = np.zeros((numUsers, numItems))\n",
        "    \n",
        "    # Define function for converting 1-5 rating to 0/1 (like / don't like)\n",
        "    vf = np.vectorize(lambda x: 1 if x >= 4 else 0)\n",
        "    \n",
        "    # For every item calculate the number of people liked (4-5) divided by the number of people that rated\n",
        "    itemPopularity = np.zeros((numItems))\n",
        "    for item in range(numItems):\n",
        "        numOfUsersRated = len(trainSet[:, item].nonzero()[0])\n",
        "        numOfUsersLiked = len(vf(trainSet[:, item]).nonzero()[0])\n",
        "        if numOfUsersRated == 0:\n",
        "            itemPopularity[item] = 0\n",
        "        else:\n",
        "            itemPopularity[item] = numOfUsersLiked/numOfUsersRated\n",
        "    \n",
        "    for (user,item), rating in np.ndenumerate(trainSet):\n",
        "        # Predict rating for every item that wasn't ranked by the user (rating == 0)\n",
        "        if rating == 0:\n",
        "            predictionMatrix[user, item] = itemPopularity[item]\n",
        "            \n",
        "        # report progress every 100 users\n",
        "        if (user % 100 == 0 and item == 1):\n",
        "            print (\"calculated %d users\" % (user,))\n",
        "    \n",
        "    return predictionMatrix"
      ],
      "execution_count": 33,
      "outputs": []
    },
    {
      "cell_type": "code",
      "metadata": {
        "id": "-wjmSP8fuBJJ",
        "outputId": "8ec19cd5-5306-4683-98a7-7bb0a73cef2a",
        "colab": {
          "base_uri": "https://localhost:8080/"
        }
      },
      "source": [
        "popPreiction = predictByPopularity(trainUserItemMatrix, numUsers, numItems)"
      ],
      "execution_count": 34,
      "outputs": [
        {
          "output_type": "stream",
          "name": "stdout",
          "text": [
            "calculated 0 users\n",
            "calculated 100 users\n",
            "calculated 200 users\n",
            "calculated 300 users\n",
            "calculated 400 users\n",
            "calculated 500 users\n",
            "calculated 600 users\n",
            "calculated 700 users\n",
            "calculated 800 users\n",
            "calculated 900 users\n"
          ]
        }
      ]
    },
    {
      "cell_type": "code",
      "metadata": {
        "id": "p-miubz2uBJL",
        "outputId": "be629550-518a-4ee6-9bbc-52345a3ae91c",
        "colab": {
          "base_uri": "https://localhost:8080/"
        }
      },
      "source": [
        "print(\"k\\tP@k\\tR@k\")\n",
        "for k in [25, 50, 100, 250, 500]:\n",
        "    print(\"%d\\t%.3lf\\t%.3lf\" % (k, avgPrecisionAtK(testUserItemMatrix, popPreiction, k), avgRecallAtK(testUserItemMatrix, popPreiction, k)))"
      ],
      "execution_count": 35,
      "outputs": [
        {
          "output_type": "stream",
          "name": "stdout",
          "text": [
            "k\tP@k\tR@k\n",
            "25\t0.001\t0.000\n",
            "50\t0.009\t0.015\n",
            "100\t0.039\t0.155\n",
            "250\t0.043\t0.400\n",
            "500\t0.036\t0.688\n"
          ]
        }
      ]
    },
    {
      "cell_type": "markdown",
      "metadata": {
        "id": "w_KkZ2LYuBJM"
      },
      "source": [
        "## 2.0 Making Recommendations for a User"
      ]
    },
    {
      "cell_type": "code",
      "metadata": {
        "id": "eUyHhPR1uBJN"
      },
      "source": [
        "def userTopK(prediction, moviesDataset, userID, k):\n",
        "    # Pick top K based on predicted rating\n",
        "    userVector = prediction[userID-1,:]\n",
        "    topK = nlargest(k, range(len(userVector)), userVector.take)\n",
        "    namesTopK = list(map(lambda x: moviesDataset[moviesDataset.movieID == x+1][\"movieTitle\"].values[0], topK))\n",
        "    return namesTopK"
      ],
      "execution_count": 36,
      "outputs": []
    },
    {
      "cell_type": "code",
      "metadata": {
        "id": "K8y-St6cuBJP",
        "outputId": "6ef77df5-785f-4ef5-e138-19d2575e7956",
        "colab": {
          "base_uri": "https://localhost:8080/"
        }
      },
      "source": [
        "# recommend for userID 350 according to popularity recommender\n",
        "userTopK(popPreiction, moviesDF, 350, 10)"
      ],
      "execution_count": 37,
      "outputs": [
        {
          "output_type": "execute_result",
          "data": {
            "text/plain": [
              "['Loch Ness (1995)',\n",
              " 'Perfect Candidate, A (1996)',\n",
              " 'Love and Death on Long Island (1997)',\n",
              " 'Crossfire (1947)',\n",
              " 'Celestial Clockwork (1994)',\n",
              " 'They Made Me a Criminal (1939)',\n",
              " 'Last Time I Saw Paris, The (1954)',\n",
              " 'Innocents, The (1961)',\n",
              " \"Jupiter's Wife (1994)\",\n",
              " 'Prefontaine (1997)']"
            ]
          },
          "metadata": {},
          "execution_count": 37
        }
      ]
    },
    {
      "cell_type": "code",
      "metadata": {
        "id": "NP963kQFuBJS",
        "outputId": "aa968270-43c6-4039-ff57-a2afd4ebbea4",
        "colab": {
          "base_uri": "https://localhost:8080/"
        }
      },
      "source": [
        "# recommend for userID 350 according to average rating recommender\n",
        "userTopK(userAvgPreiction, moviesDF, 350, 10)"
      ],
      "execution_count": 38,
      "outputs": [
        {
          "output_type": "execute_result",
          "data": {
            "text/plain": [
              "['Toy Story (1995)',\n",
              " 'GoldenEye (1995)',\n",
              " 'Four Rooms (1995)',\n",
              " 'Get Shorty (1995)',\n",
              " 'Copycat (1995)',\n",
              " 'Shanghai Triad (Yao a yao yao dao waipo qiao) (1995)',\n",
              " 'Twelve Monkeys (1995)',\n",
              " 'Babe (1995)',\n",
              " 'Dead Man Walking (1995)',\n",
              " 'Richard III (1995)']"
            ]
          },
          "metadata": {},
          "execution_count": 38
        }
      ]
    },
    {
      "cell_type": "code",
      "metadata": {
        "id": "dX2PvVLnuBJU",
        "outputId": "f5b097da-16fe-4bb6-8a2e-9e6472a65ac4",
        "colab": {
          "base_uri": "https://localhost:8080/"
        }
      },
      "source": [
        "# recommend for userID 350 according to user similarity recommender\n",
        "userTopK(userSimPrediction, moviesDF, 350, 10)"
      ],
      "execution_count": 39,
      "outputs": [
        {
          "output_type": "execute_result",
          "data": {
            "text/plain": [
              "['Priest (1994)',\n",
              " 'Stalingrad (1993)',\n",
              " 'Seven Years in Tibet (1997)',\n",
              " 'Ruling Class, The (1972)',\n",
              " 'Arrival, The (1996)',\n",
              " 'Garden of Finzi-Contini, The (Giardino dei Finzi-Contini, Il) (1970)',\n",
              " 'Year of the Horse (1997)',\n",
              " 'Dead Man (1995)',\n",
              " 'Chain Reaction (1996)',\n",
              " 'Unstrung Heroes (1995)']"
            ]
          },
          "metadata": {},
          "execution_count": 39
        }
      ]
    },
    {
      "cell_type": "markdown",
      "metadata": {
        "id": "XitY5X5euBJW"
      },
      "source": [
        "## 3.0 Evaluating the other datasets"
      ]
    },
    {
      "cell_type": "code",
      "metadata": {
        "id": "MOwB5IyCuBJW"
      },
      "source": [
        "datasetsFileNames = [('u2.base', 'u2.test'),\n",
        "                     ('u3.base', 'u3.test'),\n",
        "                     ('u4.base', 'u4.test'),\n",
        "                     ('u5.base', 'u5.test')]"
      ],
      "execution_count": 40,
      "outputs": []
    },
    {
      "cell_type": "code",
      "metadata": {
        "scrolled": true,
        "id": "ax29QxLHuBJY",
        "colab": {
          "base_uri": "https://localhost:8080/"
        },
        "outputId": "89773dfc-bbdd-4035-f33b-e8cc4997e615"
      },
      "source": [
        "rmseList = []\n",
        "for trainFileName, testFileName in datasetsFileNames:\n",
        "    curTrainDF = pd.read_csv(os.path.join(MOVIELENS_DIR, trainFileName), sep='\\t', names=fields)\n",
        "    curTestDF = pd.read_csv(os.path.join(MOVIELENS_DIR, testFileName), sep='\\t', names=fields)\n",
        "    curTrainUserItemMatrix = buildUserItemMatrix(curTrainDF, numUsers, numItems)\n",
        "    curTestUserItemMatrix = buildUserItemMatrix(curTestDF, numUsers, numItems)\n",
        "    #prediction with average\n",
        "    curUserAvgPreiction = predictByUserAverage(curTrainUserItemMatrix, numUsers, numItems)\n",
        "    avgRMSE = rmse(curUserAvgPreiction, curTestUserItemMatrix)\n",
        "    #prediction with similarity\n",
        "    curUserSimilarity = 1 - pairwise_distances(curTrainUserItemMatrix, metric='cosine')\n",
        "    curUserSimPreiction = predictByUserSimilarity(curTrainUserItemMatrix, numUsers, numItems, curUserSimilarity)\n",
        "    simRMSE = rmse(curUserSimPreiction, curTestUserItemMatrix)\n",
        "    \n",
        "    rmseList.append((avgRMSE, simRMSE))"
      ],
      "execution_count": 41,
      "outputs": [
        {
          "output_type": "stream",
          "name": "stdout",
          "text": [
            "calculated 0 users\n",
            "calculated 100 users\n",
            "calculated 200 users\n",
            "calculated 300 users\n",
            "calculated 400 users\n",
            "calculated 500 users\n",
            "calculated 600 users\n",
            "calculated 700 users\n",
            "calculated 800 users\n",
            "calculated 900 users\n",
            "calculated 0 users\n"
          ]
        },
        {
          "output_type": "stream",
          "name": "stderr",
          "text": [
            "/usr/local/lib/python3.7/dist-packages/ipykernel_launcher.py:34: RuntimeWarning: invalid value encountered in double_scalars\n"
          ]
        },
        {
          "output_type": "stream",
          "name": "stdout",
          "text": [
            "calculated 100 users\n",
            "calculated 200 users\n",
            "calculated 300 users\n",
            "calculated 400 users\n",
            "calculated 500 users\n",
            "calculated 600 users\n",
            "calculated 700 users\n",
            "calculated 800 users\n",
            "calculated 900 users\n",
            "calculated 0 users\n",
            "calculated 100 users\n",
            "calculated 200 users\n",
            "calculated 300 users\n",
            "calculated 400 users\n",
            "calculated 500 users\n",
            "calculated 600 users\n",
            "calculated 700 users\n",
            "calculated 800 users\n",
            "calculated 900 users\n",
            "calculated 0 users\n"
          ]
        },
        {
          "output_type": "stream",
          "name": "stderr",
          "text": [
            "/usr/local/lib/python3.7/dist-packages/ipykernel_launcher.py:34: RuntimeWarning: invalid value encountered in double_scalars\n"
          ]
        },
        {
          "output_type": "stream",
          "name": "stdout",
          "text": [
            "calculated 100 users\n",
            "calculated 200 users\n",
            "calculated 300 users\n",
            "calculated 400 users\n",
            "calculated 500 users\n",
            "calculated 600 users\n",
            "calculated 700 users\n",
            "calculated 800 users\n",
            "calculated 900 users\n",
            "calculated 0 users\n",
            "calculated 100 users\n",
            "calculated 200 users\n",
            "calculated 300 users\n",
            "calculated 400 users\n",
            "calculated 500 users\n",
            "calculated 600 users\n",
            "calculated 700 users\n",
            "calculated 800 users\n",
            "calculated 900 users\n",
            "calculated 0 users\n"
          ]
        },
        {
          "output_type": "stream",
          "name": "stderr",
          "text": [
            "/usr/local/lib/python3.7/dist-packages/ipykernel_launcher.py:34: RuntimeWarning: invalid value encountered in double_scalars\n"
          ]
        },
        {
          "output_type": "stream",
          "name": "stdout",
          "text": [
            "calculated 100 users\n",
            "calculated 200 users\n",
            "calculated 300 users\n",
            "calculated 400 users\n",
            "calculated 500 users\n",
            "calculated 600 users\n",
            "calculated 700 users\n",
            "calculated 800 users\n",
            "calculated 900 users\n",
            "calculated 0 users\n",
            "calculated 100 users\n",
            "calculated 200 users\n",
            "calculated 300 users\n",
            "calculated 400 users\n",
            "calculated 500 users\n",
            "calculated 600 users\n",
            "calculated 700 users\n",
            "calculated 800 users\n",
            "calculated 900 users\n",
            "calculated 0 users\n"
          ]
        },
        {
          "output_type": "stream",
          "name": "stderr",
          "text": [
            "/usr/local/lib/python3.7/dist-packages/ipykernel_launcher.py:34: RuntimeWarning: invalid value encountered in double_scalars\n"
          ]
        },
        {
          "output_type": "stream",
          "name": "stdout",
          "text": [
            "calculated 100 users\n",
            "calculated 200 users\n",
            "calculated 300 users\n",
            "calculated 400 users\n",
            "calculated 500 users\n",
            "calculated 600 users\n",
            "calculated 700 users\n",
            "calculated 800 users\n",
            "calculated 900 users\n"
          ]
        }
      ]
    },
    {
      "cell_type": "code",
      "metadata": {
        "id": "NAIq1y1ouBJZ",
        "outputId": "ea3d2ded-c250-459e-d8a5-6e896977135c",
        "colab": {
          "base_uri": "https://localhost:8080/"
        }
      },
      "source": [
        "print(\"Avg\\tSim\")\n",
        "for avgScore, simScore in rmseList:\n",
        "    print(\"%.3lf\\t%.3lf\" % (avgScore, simScore))"
      ],
      "execution_count": 42,
      "outputs": [
        {
          "output_type": "stream",
          "name": "stdout",
          "text": [
            "Avg\tSim\n",
            "1.047\t1.021\n",
            "1.033\t1.013\n",
            "1.037\t1.009\n",
            "1.039\t1.016\n"
          ]
        }
      ]
    }
  ]
}
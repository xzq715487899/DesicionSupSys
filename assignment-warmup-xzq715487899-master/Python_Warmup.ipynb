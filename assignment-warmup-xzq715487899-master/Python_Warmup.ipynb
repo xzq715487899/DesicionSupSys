{
 "cells": [
  {
   "cell_type": "markdown",
   "metadata": {
    "id": "4L1Vk_YhUVSO"
   },
   "source": [
    "# Assignment - Python Warmup\n",
    "Please follow the instructions in the assignment's PDF and fill in the code for each function."
   ]
  },
  {
   "cell_type": "markdown",
   "metadata": {
    "id": "K2wlQJ1RUVSQ"
   },
   "source": [
    "## Exercise 1"
   ]
  },
  {
   "cell_type": "code",
   "execution_count": 1,
   "metadata": {},
   "outputs": [],
   "source": [
    "import pandas as pd\n",
    "import numpy as np"
   ]
  },
  {
   "cell_type": "code",
   "execution_count": 2,
   "metadata": {
    "id": "LRYjSAU2UVSR"
   },
   "outputs": [],
   "source": [
    "def positionWord(filePath, position):\n",
    "    wordList =[]\n",
    "    \n",
    "    with open(filePath, \"r\") as poemFile:# codes taken from 1_IntroPythonNB.ipynb\n",
    "        poemText = poemFile.read()    # codes taken from 1_IntroPythonNB.ipynb\n",
    "    poemLines = poemText.splitlines()# codes taken from 1_IntroPythonNB.ipynb\n",
    "    for i in poemLines:\n",
    "        word = i.split()[position]\n",
    "        wordList.append(word)\n",
    "    return wordList"
   ]
  },
  {
   "cell_type": "code",
   "execution_count": 3,
   "metadata": {
    "colab": {
     "base_uri": "https://localhost:8080/"
    },
    "id": "mvcHaBJlUzOs",
    "outputId": "62a899b6-0efb-4a1a-bb9e-22e4e78dc2ab"
   },
   "outputs": [
    {
     "data": {
      "text/plain": [
       "['in', 'Ghost', 'humour', 'or', 'one']"
      ]
     },
     "execution_count": 3,
     "metadata": {},
     "output_type": "execute_result"
    }
   ],
   "source": [
    "positionWord(\"example.txt\", 3)"
   ]
  },
  {
   "cell_type": "markdown",
   "metadata": {
    "id": "SVGFSuf1UVSV"
   },
   "source": [
    "## Exercise 2"
   ]
  },
  {
   "cell_type": "code",
   "execution_count": 4,
   "metadata": {
    "id": "aUz-S0pDUVSW"
   },
   "outputs": [],
   "source": [
    "def onlyUpperCase(text):\n",
    "    upper = []\n",
    "    for c in text:\n",
    "        if c.isupper():\n",
    "            upper.append(c)\n",
    "\n",
    "    return \"\".join(upper)"
   ]
  },
  {
   "cell_type": "markdown",
   "metadata": {
    "id": "z2rIx_F7UVSZ"
   },
   "source": [
    "## Exercise 3"
   ]
  },
  {
   "cell_type": "code",
   "execution_count": 5,
   "metadata": {
    "id": "E6XvgsgmUVSa"
   },
   "outputs": [],
   "source": [
    "def divisors(num2, num1):\n",
    "  list = []\n",
    "  for i in range(1,num1+1):\n",
    "    if i % num2 ==0:\n",
    "      list.append(i)\n",
    "  return list"
   ]
  },
  {
   "cell_type": "code",
   "execution_count": 6,
   "metadata": {
    "colab": {
     "base_uri": "https://localhost:8080/"
    },
    "id": "y_7gTsAnJ-Fb",
    "outputId": "99cabe4d-789d-4629-bffe-47021b138161"
   },
   "outputs": [
    {
     "data": {
      "text/plain": [
       "[6, 12, 18, 24]"
      ]
     },
     "execution_count": 6,
     "metadata": {},
     "output_type": "execute_result"
    }
   ],
   "source": [
    "divisors(6,24)"
   ]
  },
  {
   "cell_type": "markdown",
   "metadata": {
    "id": "fJEhXAtDUVSd"
   },
   "source": [
    "## Exercise 4"
   ]
  },
  {
   "cell_type": "code",
   "execution_count": 7,
   "metadata": {
    "id": "3Cs0OgGmUVSe"
   },
   "outputs": [],
   "source": [
    "def countWords(wordList):\n",
    "  wordfreq = {}\n",
    "  for words in wordList:\n",
    "    if words not in wordfreq:\n",
    "        wordfreq[words] = 0 \n",
    "    wordfreq[words] += 1\n",
    "  return wordfreq"
   ]
  },
  {
   "cell_type": "code",
   "execution_count": 8,
   "metadata": {
    "colab": {
     "base_uri": "https://localhost:8080/"
    },
    "id": "ldbuti2SNU1Y",
    "outputId": "8c8a060a-7efc-4d90-fdaf-b55c6cdccb53"
   },
   "outputs": [
    {
     "data": {
      "text/plain": [
       "{'the': 2,\n",
       " 'seething': 2,\n",
       " 'sea': 2,\n",
       " 'ceaseth': 1,\n",
       " 'and': 1,\n",
       " 'thus': 1,\n",
       " 'sufficeth': 1,\n",
       " 'us': 1}"
      ]
     },
     "execution_count": 8,
     "metadata": {},
     "output_type": "execute_result"
    }
   ],
   "source": [
    "words = [\"the\", \"seething\", \"sea\", \"ceaseth\", \"and\", \"thus\", \"the\", \"seething\", \"sea\", \"sufficeth\", \"us\"]\n",
    "countWords(words)"
   ]
  },
  {
   "cell_type": "markdown",
   "metadata": {
    "id": "CGC6gPENUVSh"
   },
   "source": [
    "## Exercise 5"
   ]
  },
  {
   "cell_type": "code",
   "execution_count": 9,
   "metadata": {
    "id": "yABkiEt5UVSi"
   },
   "outputs": [],
   "source": [
    "def organizedCountWords(wordList):\n",
    "    wd= {}\n",
    "    unique = list(set(wordList))\n",
    "    unique.sort(key=len)\n",
    "    for words in unique:\n",
    "        if len(words) in wd.keys():\n",
    "            wd[len(words)].update({words:wordList.count(words)})\n",
    "        else:\n",
    "            wd.update({len(words):{words:wordList.count(words)}})\n",
    "    return wd\n",
    "  # Please write your code here"
   ]
  },
  {
   "cell_type": "code",
   "execution_count": 10,
   "metadata": {
    "colab": {
     "base_uri": "https://localhost:8080/"
    },
    "id": "uFvINb8rTlm0",
    "outputId": "9d1ceb49-b80f-438b-82fe-c5634fff8ebd"
   },
   "outputs": [
    {
     "data": {
      "text/plain": [
       "{2: {'us': 1},\n",
       " 3: {'sea': 2, 'and': 1, 'the': 2},\n",
       " 4: {'thus': 1},\n",
       " 7: {'ceaseth': 1},\n",
       " 8: {'seething': 2},\n",
       " 9: {'sufficeth': 1}}"
      ]
     },
     "execution_count": 10,
     "metadata": {},
     "output_type": "execute_result"
    }
   ],
   "source": [
    "organizedCountWords(words)"
   ]
  },
  {
   "cell_type": "markdown",
   "metadata": {
    "id": "tlb0ecAtUX-e"
   },
   "source": [
    "##Exercise 6"
   ]
  },
  {
   "cell_type": "code",
   "execution_count": 11,
   "metadata": {
    "id": "FvW7BpD3UXG2"
   },
   "outputs": [],
   "source": [
    "def AvgNeighbourhoodListingPrice(neighbourhoodList, room_type, number_of_reviews, minimum_nights):\n",
    "    df = pd.read_csv(\"https://raw.githubusercontent.com/MIE451-1513-2019/course-datasets/master/toronto_airbnb_listings_Aug2019.csv\")\n",
    "    df = df[df[\"room_type\"].eq(room_type) &  df[\"number_of_reviews\"].ge(number_of_reviews) & df[\"minimum_nights\"].le(minimum_nights)]\n",
    "    df2 = df[[\"neighbourhood\", \"price\"]].groupby(['neighbourhood'])[['price']].mean().round(2).loc[neighbourhoodList].sort_values('price', ascending=False)\n",
    "    return df2\n",
    "  # Please write your code here"
   ]
  },
  {
   "cell_type": "code",
   "execution_count": 12,
   "metadata": {
    "colab": {
     "base_uri": "https://localhost:8080/",
     "height": 175
    },
    "id": "qtltvvHGW_Mx",
    "outputId": "02ec25eb-eb38-4694-e817-048cb1b32ef5"
   },
   "outputs": [
    {
     "data": {
      "text/html": [
       "<div>\n",
       "<style scoped>\n",
       "    .dataframe tbody tr th:only-of-type {\n",
       "        vertical-align: middle;\n",
       "    }\n",
       "\n",
       "    .dataframe tbody tr th {\n",
       "        vertical-align: top;\n",
       "    }\n",
       "\n",
       "    .dataframe thead th {\n",
       "        text-align: right;\n",
       "    }\n",
       "</style>\n",
       "<table border=\"1\" class=\"dataframe\">\n",
       "  <thead>\n",
       "    <tr style=\"text-align: right;\">\n",
       "      <th></th>\n",
       "      <th>price</th>\n",
       "    </tr>\n",
       "    <tr>\n",
       "      <th>neighbourhood</th>\n",
       "      <th></th>\n",
       "    </tr>\n",
       "  </thead>\n",
       "  <tbody>\n",
       "    <tr>\n",
       "      <th>Edenbridge-Humber Valley</th>\n",
       "      <td>453.33</td>\n",
       "    </tr>\n",
       "    <tr>\n",
       "      <th>Annex</th>\n",
       "      <td>141.99</td>\n",
       "    </tr>\n",
       "    <tr>\n",
       "      <th>The Beaches</th>\n",
       "      <td>126.24</td>\n",
       "    </tr>\n",
       "  </tbody>\n",
       "</table>\n",
       "</div>"
      ],
      "text/plain": [
       "                           price\n",
       "neighbourhood                   \n",
       "Edenbridge-Humber Valley  453.33\n",
       "Annex                     141.99\n",
       "The Beaches               126.24"
      ]
     },
     "execution_count": 12,
     "metadata": {},
     "output_type": "execute_result"
    }
   ],
   "source": [
    "AvgNeighbourhoodListingPrice([\"Edenbridge-Humber Valley\",\"Annex\",\"The Beaches\"],\"Entire home/apt\", 30, 3)"
   ]
  },
  {
   "cell_type": "markdown",
   "metadata": {
    "id": "cxMjcYPrjkZL"
   },
   "source": [
    "## Exercise 7"
   ]
  },
  {
   "cell_type": "code",
   "execution_count": 13,
   "metadata": {
    "id": "xRjMh_EjjnYM"
   },
   "outputs": [],
   "source": [
    "def leastSquaresFit(urlX,urlY):\n",
    "  x = pd.read_csv(urlX,header=None)\n",
    "  X = np.hstack((np.ones((len(x),1)),x))\n",
    "  Y = pd.read_csv(urlY,header=None)\n",
    "  w = np.dot(np.linalg.inv(np.dot(X.T, X)), np.dot(X.T, Y))\n",
    "  return w"
   ]
  },
  {
   "cell_type": "code",
   "execution_count": 14,
   "metadata": {
    "colab": {
     "base_uri": "https://localhost:8080/"
    },
    "id": "0btpKc8wCiR-",
    "outputId": "a931086e-ae10-4be7-8278-9b3d359fb24e"
   },
   "outputs": [
    {
     "data": {
      "text/plain": [
       "array([[1.15740465e-03],\n",
       "       [7.85819959e+01],\n",
       "       [6.86835383e+01],\n",
       "       [6.64017869e+01]])"
      ]
     },
     "execution_count": 14,
     "metadata": {},
     "output_type": "execute_result"
    }
   ],
   "source": [
    "leastSquaresFit(\"https://raw.githubusercontent.com/MIE1513-2023/course-datasets/main/X.csv\",\"https://raw.githubusercontent.com/MIE1513-2023/course-datasets/main/Y.csv\")"
   ]
  },
  {
   "cell_type": "markdown",
   "metadata": {
    "id": "4BVZJpHKUVSk"
   },
   "source": [
    "----------\n",
    "## Validators\n",
    "This following cell provide basic validation of your functions.\n",
    "\n",
    "You should run each cell and make sure you do not get an exception.\n",
    "\n",
    "**IMPORTANT: passing these validators does not mean your code is correct. These are basic validators to make sure the interface of your functions is correct.**"
   ]
  },
  {
   "cell_type": "code",
   "execution_count": 15,
   "metadata": {
    "id": "ciHXaur-UVSk"
   },
   "outputs": [],
   "source": [
    "assert(isinstance(positionWord(\"example.txt\", 2), list))"
   ]
  },
  {
   "cell_type": "code",
   "execution_count": 16,
   "metadata": {
    "id": "j7V9yRrQUVSm"
   },
   "outputs": [],
   "source": [
    "assert(isinstance(onlyUpperCase(\"lorem ipsum Dolor Sit amet, conSectetur.\"), str))"
   ]
  },
  {
   "cell_type": "code",
   "execution_count": 17,
   "metadata": {
    "id": "xEW8K0GKUVSo"
   },
   "outputs": [],
   "source": [
    "assert(isinstance(divisors(23, 6), list))"
   ]
  },
  {
   "cell_type": "code",
   "execution_count": 18,
   "metadata": {
    "id": "oo1YSY-GUVSq"
   },
   "outputs": [],
   "source": [
    "words = [\"the\", \"seething\", \"sea\", \"ceaseth\", \"and\", \"thus\", \"the\", \"seething\", \"sea\", \"sufficeth\", \"us\"]\n",
    "assert(isinstance(countWords(words), dict))"
   ]
  },
  {
   "cell_type": "code",
   "execution_count": 19,
   "metadata": {
    "id": "FFbsU1TuUVSr"
   },
   "outputs": [],
   "source": [
    "words = [\"the\", \"seething\", \"sea\", \"ceaseth\", \"and\", \"thus\", \"the\", \"seething\", \"sea\", \"sufficeth\", \"us\"]\n",
    "assert(isinstance(organizedCountWords(words), dict))"
   ]
  },
  {
   "cell_type": "code",
   "execution_count": 20,
   "metadata": {
    "id": "ws_ZzLA0W1Qp"
   },
   "outputs": [],
   "source": [
    "df = AvgNeighbourhoodListingPrice([\"Little Portugal\",\"Waterfront Communities-The Island\",\"Rosedale-Moore Park\",\"Kensington-Chinatown\"], \"Private room\", 50, 4)\n",
    "assert(df.shape == (4,1))"
   ]
  },
  {
   "cell_type": "code",
   "execution_count": 21,
   "metadata": {
    "id": "jJdtrJvurNcl"
   },
   "outputs": [],
   "source": [
    "import numpy as np \n",
    "w = leastSquaresFit(\"https://raw.githubusercontent.com/MIE451-2022/course-datasets/main/X.csv\",\"https://raw.githubusercontent.com/MIE451-2022/course-datasets/main/Y.csv\")\n",
    "assert(isinstance(w, np.ndarray))"
   ]
  },
  {
   "cell_type": "code",
   "execution_count": 22,
   "metadata": {
    "id": "dZNBA8Y6g602"
   },
   "outputs": [],
   "source": [
    "import pandas as pd\n",
    "assert(isinstance(df,pd.DataFrame))"
   ]
  }
 ],
 "metadata": {
  "colab": {
   "provenance": []
  },
  "kernelspec": {
   "display_name": "Python 3 (ipykernel)",
   "language": "python",
   "name": "python3"
  },
  "language_info": {
   "codemirror_mode": {
    "name": "ipython",
    "version": 3
   },
   "file_extension": ".py",
   "mimetype": "text/x-python",
   "name": "python",
   "nbconvert_exporter": "python",
   "pygments_lexer": "ipython3",
   "version": "3.9.12"
  }
 },
 "nbformat": 4,
 "nbformat_minor": 1
}
